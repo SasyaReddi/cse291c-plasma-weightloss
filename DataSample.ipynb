{
 "nbformat": 4,
 "nbformat_minor": 2,
 "metadata": {
  "language_info": {
   "name": "python",
   "codemirror_mode": {
    "name": "ipython",
    "version": 3
   },
   "version": "3.8.8-final"
  },
  "orig_nbformat": 2,
  "file_extension": ".py",
  "mimetype": "text/x-python",
  "name": "python",
  "npconvert_exporter": "python",
  "pygments_lexer": "ipython3",
  "version": 3,
  "kernelspec": {
   "name": "python3",
   "display_name": "Python 3"
  }
 },
 "cells": [
  {
   "cell_type": "code",
   "execution_count": 1,
   "metadata": {},
   "outputs": [],
   "source": [
    "from Data import Data\n",
    "from DataLoaderCustom import PatientDiffLoader\n",
    "\n",
    "from torch.utils.data import DataLoader"
   ]
  },
  {
   "cell_type": "code",
   "execution_count": null,
   "metadata": {},
   "outputs": [],
   "source": [
    "full_dataset = PatientDiffLoader(\"./data/data.tsv\", toLog = True) # getting log\n",
    "loader = DataLoader(full_dataset, shuffle=True, batch_size=1)\n",
    "for one, two, same in loader:\n",
    "    print(one,\"\\n\", two,\"\\n\", same)\n",
    "    break"
   ]
  },
  {
   "cell_type": "code",
   "execution_count": 2,
   "metadata": {},
   "outputs": [
    {
     "name": "stdout",
     "output_type": "stream",
     "text": "Patient_21.Timepoint_4\ntensor([[ True,  True,  True,  ..., False, False, False]]) \n tensor([[ True,  True,  True,  ..., False, False, False]]) \n tensor([[0.]])\n"
    }
   ],
   "source": [
    "full_dataset = PatientDiffLoader(\"./data/data.tsv\", toBin = True) # getting binary\n",
    "loader = DataLoader(full_dataset, shuffle=True, batch_size=1)\n",
    "for one, two, same in loader:\n",
    "    print(one,\"\\n\", two,\"\\n\", same)\n",
    "    break"
   ]
  },
  {
   "cell_type": "code",
   "execution_count": 7,
   "metadata": {},
   "outputs": [
    {
     "name": "stdout",
     "output_type": "stream",
     "text": "Patient_36.Timepoint_4\ntensor([[5745625000, 4006375000, 9916175000,  ...,          0,          0,\n                  0]]) \n tensor([[4893175000, 1332197500, 7174775000,  ...,          0,          0,\n                  0]]) \n tensor([[0.]])\n"
    }
   ],
   "source": [
    "full_dataset.toBin = False #\n",
    "\n",
    "for one, two, same in loader:\n",
    "    print(one,\"\\n\", two,\"\\n\", same)\n",
    "    break"
   ]
  },
  {
   "cell_type": "code",
   "execution_count": null,
   "metadata": {},
   "outputs": [],
   "source": []
  }
 ]
}