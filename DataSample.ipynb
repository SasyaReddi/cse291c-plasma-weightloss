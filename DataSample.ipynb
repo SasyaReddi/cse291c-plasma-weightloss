{
 "nbformat": 4,
 "nbformat_minor": 2,
 "metadata": {
  "language_info": {
   "name": "python",
   "codemirror_mode": {
    "name": "ipython",
    "version": 3
   },
   "version": "3.8.8-final"
  },
  "orig_nbformat": 2,
  "file_extension": ".py",
  "mimetype": "text/x-python",
  "name": "python",
  "npconvert_exporter": "python",
  "pygments_lexer": "ipython3",
  "version": 3,
  "kernelspec": {
   "name": "python3",
   "display_name": "Python 3"
  }
 },
 "cells": [
  {
   "cell_type": "code",
   "execution_count": 4,
   "metadata": {},
   "outputs": [],
   "source": [
    "from Data import Data\n",
    "from DataLoaderCustom import PatientDiffLoader\n",
    "\n",
    "from torch.utils.data import DataLoader"
   ]
  },
  {
   "cell_type": "code",
   "execution_count": 5,
   "metadata": {},
   "outputs": [],
   "source": [
    "full_dataset = PatientDiffLoader(\"./data/data.tsv\")\n",
    "loader = DataLoader(full_dataset, shuffle=True, batch_size=5)"
   ]
  },
  {
   "cell_type": "code",
   "execution_count": 6,
   "metadata": {},
   "outputs": [
    {
     "name": "stdout",
     "output_type": "stream",
     "text": "Patient_39.Timepoint_6\nPatient_01.Timepoint_3\nPatient_23.Timepoint_5\nPatient_26.Timepoint_2\nPatient_52.Timepoint_7\ntensor([[3318015000, 2876175000, 7754450000,  ...,         -1,         -1,\n                 -1],\n        [2864495000, 1523392500, 5175725000,  ...,         -1,         -1,\n                 -1],\n        [5615050000, 2470575000, 7948100000,  ...,         -1,         -1,\n                 -1],\n        [3451452500, 1716390000, 7130300000,  ...,         -1,         -1,\n                 -1],\n        [3896100000, 2198920000, 6660125000,  ...,         -1,         -1,\n                 -1]]) tensor([[3318015000, 2876175000, 7754450000,  ...,         -1,         -1,\n                 -1],\n        [2864495000, 1523392500, 5175725000,  ...,         -1,         -1,\n                 -1],\n        [6635400000, 2866887500, 7152400000,  ...,         -1,         -1,\n                 -1],\n        [3451452500, 1716390000, 7130300000,  ...,         -1,         -1,\n                 -1],\n        [2619665000, 1307067500, 4487925000,  ...,         -1,         -1,\n                 -1]])\n"
    }
   ],
   "source": [
    "for one, two, same in loader:\n",
    "    print(one, two)\n",
    "    break"
   ]
  },
  {
   "cell_type": "code",
   "execution_count": 10,
   "metadata": {},
   "outputs": [
    {
     "name": "stdout",
     "output_type": "stream",
     "text": "tensor([[3318015000, 2876175000, 7754450000,  ...,         -1,         -1,\n                 -1],\n        [2864495000, 1523392500, 5175725000,  ...,         -1,         -1,\n                 -1],\n        [5615050000, 2470575000, 7948100000,  ...,         -1,         -1,\n                 -1],\n        [3451452500, 1716390000, 7130300000,  ...,         -1,         -1,\n                 -1],\n        [3896100000, 2198920000, 6660125000,  ...,         -1,         -1,\n                 -1]])\ntensor([[3318015000, 2876175000, 7754450000,  ...,         -1,         -1,\n                 -1],\n        [2864495000, 1523392500, 5175725000,  ...,         -1,         -1,\n                 -1],\n        [6635400000, 2866887500, 7152400000,  ...,         -1,         -1,\n                 -1],\n        [3451452500, 1716390000, 7130300000,  ...,         -1,         -1,\n                 -1],\n        [2619665000, 1307067500, 4487925000,  ...,         -1,         -1,\n                 -1]])\ntensor([[1.],\n        [1.],\n        [1.],\n        [1.],\n        [0.]])\n"
    }
   ],
   "source": [
    "print(one)\n",
    "\n",
    "print(two)\n",
    "\n",
    "print(same)"
   ]
  },
  {
   "cell_type": "code",
   "execution_count": null,
   "metadata": {},
   "outputs": [],
   "source": []
  }
 ]
}