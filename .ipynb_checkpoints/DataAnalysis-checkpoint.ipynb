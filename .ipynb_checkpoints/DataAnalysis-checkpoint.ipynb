{
 "cells": [
  {
   "cell_type": "markdown",
   "metadata": {
    "id": "Zh_FkgR00zpY"
   },
   "source": [
    "### <font color='blue'>**Data Exploration**\n",
    "    Pulled from Sasya's notebook\n"
   ]
  },
  {
   "cell_type": "code",
   "execution_count": 1,
   "metadata": {
    "executionInfo": {
     "elapsed": 3912,
     "status": "ok",
     "timestamp": 1620771624579,
     "user": {
      "displayName": "Sasya Reddi",
      "photoUrl": "",
      "userId": "02400148251831989501"
     },
     "user_tz": 420
    },
    "id": "T6f2dxrBuR1z"
   },
   "outputs": [],
   "source": [
    "import csv\n",
    "import glob\n",
    "import random\n",
    "import pandas as pd\n",
    "\n",
    "import torch\n",
    "import torch.nn as nn\n",
    "import torch.nn.functional as F\n",
    "from torch.utils.data import Dataset, DataLoader\n",
    "\n",
    "import numpy as np\n",
    "from collections import defaultdict\n",
    "from pyteomics import  fasta, parser, mass, achrom, electrochem, auxiliary  #, mzxml\n"
   ]
  },
  {
   "cell_type": "code",
   "execution_count": 2,
   "metadata": {
    "colab": {
     "base_uri": "https://localhost:8080/",
     "height": 581
    },
    "executionInfo": {
     "elapsed": 9915,
     "status": "ok",
     "timestamp": 1620771630596,
     "user": {
      "displayName": "Sasya Reddi",
      "photoUrl": "",
      "userId": "02400148251831989501"
     },
     "user_tz": 420
    },
    "id": "BEXK7xwUwl8w",
    "outputId": "bae73fd0-b40a-4486-88da-7e7160201c4e"
   },
   "outputs": [
    {
     "name": "stderr",
     "output_type": "stream",
     "text": [
      "/home/eric/.local/lib/python3.6/site-packages/IPython/core/interactiveshell.py:3072: DtypeWarning: Columns (38,42,44,48,52,56,92,98,102,108,116,122,124,126,128,130,132,134,138,140,144,146,148,150,152,154,156,176,184,190,196,200,212,216,228,234,236,238,242,244,246,248,250,252,254,256,258,260,262,264,268,270,272,274,284,286,288,290,292,294,296,298,300,302,304,306,308,310,312,314,316,318,322,324,330,332,334,336,338,340,342,344,346,350,364,372,374,378,380,382,388,390,392,394,398,404,406,408,410,412,414,416,426,428,440,444,446,454,458,460,464,466,468,484,502,510,514,516,522,524,526,528,538,540,542,544,552,554,556,558,562,576,592,606,608,610,612,618,622,624,626,628,630,632,640,642,644,646,650,652,654,656,658,660,662,664,674,676,678,684,686,692,694,696,698,700,702) have mixed types.Specify dtype option on import or set low_memory=False.\n",
      "  interactivity=interactivity, compiler=compiler, result=result)\n"
     ]
    },
    {
     "data": {
      "text/html": [
       "<div>\n",
       "<style scoped>\n",
       "    .dataframe tbody tr th:only-of-type {\n",
       "        vertical-align: middle;\n",
       "    }\n",
       "\n",
       "    .dataframe tbody tr th {\n",
       "        vertical-align: top;\n",
       "    }\n",
       "\n",
       "    .dataframe thead th {\n",
       "        text-align: right;\n",
       "    }\n",
       "</style>\n",
       "<table border=\"1\" class=\"dataframe\">\n",
       "  <thead>\n",
       "    <tr style=\"text-align: right;\">\n",
       "      <th></th>\n",
       "      <th>Peptidoform</th>\n",
       "      <th>Peptidoform ID</th>\n",
       "      <th>Unmod peptidoform</th>\n",
       "      <th>Total</th>\n",
       "      <th>Total- Unmodified sequence</th>\n",
       "      <th>Peptidoforms- Unmodified sequence</th>\n",
       "      <th>Proteins</th>\n",
       "      <th>Mass</th>\n",
       "      <th>Charge</th>\n",
       "      <th>Num Mods</th>\n",
       "      <th>...</th>\n",
       "      <th>Patient_M2_healthyMale.Timepoint_2</th>\n",
       "      <th>Patient_M2_healthyMale.Timepoint_2_unmod</th>\n",
       "      <th>Patient_M2_healthyMale.Timepoint_3</th>\n",
       "      <th>Patient_M2_healthyMale.Timepoint_3_unmod</th>\n",
       "      <th>Patient_M3_healthyMale.Timepoint_1</th>\n",
       "      <th>Patient_M3_healthyMale.Timepoint_1_unmod</th>\n",
       "      <th>Patient_M3_healthyMale.Timepoint_2</th>\n",
       "      <th>Patient_M3_healthyMale.Timepoint_2_unmod</th>\n",
       "      <th>Patient_M3_healthyMale.Timepoint_3</th>\n",
       "      <th>Patient_M3_healthyMale.Timepoint_3_unmod</th>\n",
       "    </tr>\n",
       "  </thead>\n",
       "  <tbody>\n",
       "    <tr>\n",
       "      <th>0</th>\n",
       "      <td>.SPLFM+15.995GK.</td>\n",
       "      <td>SPLFM+15.995GK</td>\n",
       "      <td>.SPLFMGK.</td>\n",
       "      <td>11679</td>\n",
       "      <td>11681</td>\n",
       "      <td>2</td>\n",
       "      <td>sp|P01009|A1AT_HUMAN;tr|A0A024R6I7|A0A024R6I7_...</td>\n",
       "      <td>795.4060</td>\n",
       "      <td>2</td>\n",
       "      <td>1</td>\n",
       "      <td>...</td>\n",
       "      <td>NaN</td>\n",
       "      <td>84,453,000</td>\n",
       "      <td>NaN</td>\n",
       "      <td>92,032,000</td>\n",
       "      <td>NaN</td>\n",
       "      <td>NaN</td>\n",
       "      <td>NaN</td>\n",
       "      <td>51,720,000</td>\n",
       "      <td>NaN</td>\n",
       "      <td>49,329,000</td>\n",
       "    </tr>\n",
       "    <tr>\n",
       "      <th>1</th>\n",
       "      <td>.EPQVYTLPPSREEM+15.995TK.</td>\n",
       "      <td>EPQVYTLPPSREEM+15.995TK</td>\n",
       "      <td>.EPQVYTLPPSREEMTK.</td>\n",
       "      <td>11411</td>\n",
       "      <td>13133</td>\n",
       "      <td>46</td>\n",
       "      <td>sp|P01859|IGHG2_HUMAN;sp|P01860|IGHG3_HUMAN;tr...</td>\n",
       "      <td>1920.9381</td>\n",
       "      <td>2</td>\n",
       "      <td>1</td>\n",
       "      <td>...</td>\n",
       "      <td>NaN</td>\n",
       "      <td>NaN</td>\n",
       "      <td>NaN</td>\n",
       "      <td>NaN</td>\n",
       "      <td>NaN</td>\n",
       "      <td>NaN</td>\n",
       "      <td>NaN</td>\n",
       "      <td>NaN</td>\n",
       "      <td>NaN</td>\n",
       "      <td>NaN</td>\n",
       "    </tr>\n",
       "    <tr>\n",
       "      <th>2</th>\n",
       "      <td>.AVM+15.995DDFAAFVEK.</td>\n",
       "      <td>AVM+15.995DDFAAFVEK</td>\n",
       "      <td>.AVMDDFAAFVEK.</td>\n",
       "      <td>10949</td>\n",
       "      <td>18495</td>\n",
       "      <td>81</td>\n",
       "      <td>sp|P02768-2|ALBU_HUMAN;sp|P02768-3|ALBU_HUMAN;...</td>\n",
       "      <td>1358.6318</td>\n",
       "      <td>2</td>\n",
       "      <td>1</td>\n",
       "      <td>...</td>\n",
       "      <td>NaN</td>\n",
       "      <td>1,911,700,000</td>\n",
       "      <td>NaN</td>\n",
       "      <td>1,625,600,000</td>\n",
       "      <td>NaN</td>\n",
       "      <td>43,830,000</td>\n",
       "      <td>NaN</td>\n",
       "      <td>1,484,500,000</td>\n",
       "      <td>NaN</td>\n",
       "      <td>1,147,100,000</td>\n",
       "    </tr>\n",
       "    <tr>\n",
       "      <th>3</th>\n",
       "      <td>.EFNAETFTFHADIC-33.988TLSEK.</td>\n",
       "      <td>EFNAETFTFHADIC-33.988TLSEK</td>\n",
       "      <td>.EFNAETFTFHADICTLSEK.</td>\n",
       "      <td>10198</td>\n",
       "      <td>22966</td>\n",
       "      <td>174</td>\n",
       "      <td>sp|P02768-2|ALBU_HUMAN;sp|P02768-3|ALBU_HUMAN;...</td>\n",
       "      <td>2169.0257</td>\n",
       "      <td>2</td>\n",
       "      <td>1</td>\n",
       "      <td>...</td>\n",
       "      <td>NaN</td>\n",
       "      <td>NaN</td>\n",
       "      <td>NaN</td>\n",
       "      <td>NaN</td>\n",
       "      <td>NaN</td>\n",
       "      <td>NaN</td>\n",
       "      <td>NaN</td>\n",
       "      <td>NaN</td>\n",
       "      <td>NaN</td>\n",
       "      <td>NaN</td>\n",
       "    </tr>\n",
       "    <tr>\n",
       "      <th>4</th>\n",
       "      <td>.M+15.995ADEAGSEADHEGTHSTK.</td>\n",
       "      <td>M+15.995ADEAGSEADHEGTHSTK</td>\n",
       "      <td>.MADEAGSEADHEGTHSTK.</td>\n",
       "      <td>9608</td>\n",
       "      <td>18724</td>\n",
       "      <td>131</td>\n",
       "      <td>sp|P02671-2|FIBA_HUMAN;sp|P02671|FIBA_HUMAN</td>\n",
       "      <td>1888.7728</td>\n",
       "      <td>2</td>\n",
       "      <td>1</td>\n",
       "      <td>...</td>\n",
       "      <td>NaN</td>\n",
       "      <td>22,109,000</td>\n",
       "      <td>NaN</td>\n",
       "      <td>1,078,800,000</td>\n",
       "      <td>NaN</td>\n",
       "      <td>6,243,600</td>\n",
       "      <td>NaN</td>\n",
       "      <td>1,199,000,000</td>\n",
       "      <td>NaN</td>\n",
       "      <td>644,940,000</td>\n",
       "    </tr>\n",
       "  </tbody>\n",
       "</table>\n",
       "<p>5 rows × 704 columns</p>\n",
       "</div>"
      ],
      "text/plain": [
       "                    Peptidoform              Peptidoform ID  \\\n",
       "0              .SPLFM+15.995GK.              SPLFM+15.995GK   \n",
       "1     .EPQVYTLPPSREEM+15.995TK.     EPQVYTLPPSREEM+15.995TK   \n",
       "2         .AVM+15.995DDFAAFVEK.         AVM+15.995DDFAAFVEK   \n",
       "3  .EFNAETFTFHADIC-33.988TLSEK.  EFNAETFTFHADIC-33.988TLSEK   \n",
       "4   .M+15.995ADEAGSEADHEGTHSTK.   M+15.995ADEAGSEADHEGTHSTK   \n",
       "\n",
       "       Unmod peptidoform  Total  Total- Unmodified sequence  \\\n",
       "0              .SPLFMGK.  11679                       11681   \n",
       "1     .EPQVYTLPPSREEMTK.  11411                       13133   \n",
       "2         .AVMDDFAAFVEK.  10949                       18495   \n",
       "3  .EFNAETFTFHADICTLSEK.  10198                       22966   \n",
       "4   .MADEAGSEADHEGTHSTK.   9608                       18724   \n",
       "\n",
       "   Peptidoforms- Unmodified sequence  \\\n",
       "0                                  2   \n",
       "1                                 46   \n",
       "2                                 81   \n",
       "3                                174   \n",
       "4                                131   \n",
       "\n",
       "                                            Proteins       Mass  Charge  \\\n",
       "0  sp|P01009|A1AT_HUMAN;tr|A0A024R6I7|A0A024R6I7_...   795.4060       2   \n",
       "1  sp|P01859|IGHG2_HUMAN;sp|P01860|IGHG3_HUMAN;tr...  1920.9381       2   \n",
       "2  sp|P02768-2|ALBU_HUMAN;sp|P02768-3|ALBU_HUMAN;...  1358.6318       2   \n",
       "3  sp|P02768-2|ALBU_HUMAN;sp|P02768-3|ALBU_HUMAN;...  2169.0257       2   \n",
       "4        sp|P02671-2|FIBA_HUMAN;sp|P02671|FIBA_HUMAN  1888.7728       2   \n",
       "\n",
       "   Num Mods  ... Patient_M2_healthyMale.Timepoint_2  \\\n",
       "0         1  ...                                NaN   \n",
       "1         1  ...                                NaN   \n",
       "2         1  ...                                NaN   \n",
       "3         1  ...                                NaN   \n",
       "4         1  ...                                NaN   \n",
       "\n",
       "   Patient_M2_healthyMale.Timepoint_2_unmod  \\\n",
       "0                                84,453,000   \n",
       "1                                       NaN   \n",
       "2                             1,911,700,000   \n",
       "3                                       NaN   \n",
       "4                                22,109,000   \n",
       "\n",
       "  Patient_M2_healthyMale.Timepoint_3  \\\n",
       "0                                NaN   \n",
       "1                                NaN   \n",
       "2                                NaN   \n",
       "3                                NaN   \n",
       "4                                NaN   \n",
       "\n",
       "   Patient_M2_healthyMale.Timepoint_3_unmod  \\\n",
       "0                                92,032,000   \n",
       "1                                       NaN   \n",
       "2                             1,625,600,000   \n",
       "3                                       NaN   \n",
       "4                             1,078,800,000   \n",
       "\n",
       "  Patient_M3_healthyMale.Timepoint_1 Patient_M3_healthyMale.Timepoint_1_unmod  \\\n",
       "0                                NaN                                      NaN   \n",
       "1                                NaN                                      NaN   \n",
       "2                                NaN                               43,830,000   \n",
       "3                                NaN                                      NaN   \n",
       "4                                NaN                                6,243,600   \n",
       "\n",
       "  Patient_M3_healthyMale.Timepoint_2 Patient_M3_healthyMale.Timepoint_2_unmod  \\\n",
       "0                                NaN                               51,720,000   \n",
       "1                                NaN                                      NaN   \n",
       "2                                NaN                            1,484,500,000   \n",
       "3                                NaN                                      NaN   \n",
       "4                                NaN                            1,199,000,000   \n",
       "\n",
       "   Patient_M3_healthyMale.Timepoint_3  \\\n",
       "0                                 NaN   \n",
       "1                                 NaN   \n",
       "2                                 NaN   \n",
       "3                                 NaN   \n",
       "4                                 NaN   \n",
       "\n",
       "   Patient_M3_healthyMale.Timepoint_3_unmod  \n",
       "0                                49,329,000  \n",
       "1                                       NaN  \n",
       "2                             1,147,100,000  \n",
       "3                                       NaN  \n",
       "4                               644,940,000  \n",
       "\n",
       "[5 rows x 704 columns]"
      ]
     },
     "execution_count": 2,
     "metadata": {},
     "output_type": "execute_result"
    }
   ],
   "source": [
    "peptidoforms_intensity_df = pd.read_csv(\"data.tsv\", sep=\"\\t\")\n",
    "peptidoforms_intensity_df.head()"
   ]
  },
  {
   "cell_type": "markdown",
   "metadata": {
    "id": "CI1em5Rsb5mE"
   },
   "source": [
    "#### <font color='purple'>Removing 'unmod' columns (And last few columns that do not adhere to the 'Patient_##.Timepoint_#' format"
   ]
  },
  {
   "cell_type": "code",
   "execution_count": 3,
   "metadata": {
    "executionInfo": {
     "elapsed": 10375,
     "status": "ok",
     "timestamp": 1620771631074,
     "user": {
      "displayName": "Sasya Reddi",
      "photoUrl": "",
      "userId": "02400148251831989501"
     },
     "user_tz": 420
    },
    "id": "rZ1-R2kRW1yB"
   },
   "outputs": [],
   "source": [
    "df = peptidoforms_intensity_df.iloc[:, :667]\n",
    "pep_reduced_intensity_df = df[df.columns.drop(list(df.filter(regex='.\\_unmod')))]"
   ]
  },
  {
   "cell_type": "code",
   "execution_count": 4,
   "metadata": {
    "colab": {
     "base_uri": "https://localhost:8080/"
    },
    "executionInfo": {
     "elapsed": 10367,
     "status": "ok",
     "timestamp": 1620771631077,
     "user": {
      "displayName": "Sasya Reddi",
      "photoUrl": "",
      "userId": "02400148251831989501"
     },
     "user_tz": 420
    },
    "id": "YiEIk37EUmd7",
    "outputId": "48e9af4e-9ebf-4eca-ddde-db1e888a2201"
   },
   "outputs": [
    {
     "name": "stdout",
     "output_type": "stream",
     "text": [
      "Original dimensions - (40921, 704)\n",
      "Modified dimensions - (40921, 350)\n"
     ]
    }
   ],
   "source": [
    "print(\"Original dimensions -\", peptidoforms_intensity_df.shape)\n",
    "print(\"Modified dimensions -\", pep_reduced_intensity_df.shape)"
   ]
  },
  {
   "cell_type": "markdown",
   "metadata": {
    "id": "-6Z8H_TkcxZE"
   },
   "source": [
    "---"
   ]
  },
  {
   "cell_type": "markdown",
   "metadata": {
    "id": "zQddFghiGWdb"
   },
   "source": [
    "### <font color='blue'>**Data Processing**\n",
    "\n",
    "From [link](https://docs.google.com/document/d/19OM5dATKRMVfWUJdXw7VlOGRBuQJO7lAYuaBr2coeLg/edit) (page 7):\n",
    "\n",
    "First, since different peptides have different ranges of absolute intensity values measured across the various samples, it is recommended that the values of each peptide be normalized to z-scores across all samples where each peptide is observed - this centers the observations of each peptide on its mean value and displays its variation in the context of each peptide’s standard deviation across all samples\n"
   ]
  },
  {
   "cell_type": "code",
   "execution_count": 5,
   "metadata": {
    "executionInfo": {
     "elapsed": 10356,
     "status": "ok",
     "timestamp": 1620771631078,
     "user": {
      "displayName": "Sasya Reddi",
      "photoUrl": "",
      "userId": "02400148251831989501"
     },
     "user_tz": 420
    },
    "id": "XmPfwqt8uR16"
   },
   "outputs": [],
   "source": [
    "def get_tsv_data(path):\n",
    "    with open(path) as tsv:\n",
    "        reader = csv.reader(tsv, dialect=\"excel-tab\")\n",
    "        header = next(reader) #skip header\n",
    "        for line in reader:\n",
    "            yield list(zip(header, line))\n",
    "\n",
    "\n",
    "            \n",
    "def get_mzxml_filenames(dir_path):\n",
    "    for mzxml_filepath in glob.glob(f\"{dir_path}/*.mzXML\"):\n",
    "        yield mzxml_filepath"
   ]
  },
  {
   "cell_type": "code",
   "execution_count": 6,
   "metadata": {
    "executionInfo": {
     "elapsed": 10350,
     "status": "ok",
     "timestamp": 1620771631080,
     "user": {
      "displayName": "Sasya Reddi",
      "photoUrl": "",
      "userId": "02400148251831989501"
     },
     "user_tz": 420
    },
    "id": "XdLCLw1wuR19"
   },
   "outputs": [],
   "source": [
    "class Data:\n",
    "    def __init__(self, patient, pepti, intensity):\n",
    "        '''\n",
    "        patient is a list of patient name corresponding to x-asix in intensity\n",
    "        pepti is a list of pepti id corresponsing to y-axis in intensity\n",
    "        intensity is a 2D numpy array what stores intensity data of patient and pepti\n",
    "        '''\n",
    "        self.patient = patient\n",
    "        self.pepti = pepti\n",
    "        self.intensity = intensity \n",
    "\n",
    "    @staticmethod\n",
    "    def intensity_string_to_int(intensity):\n",
    "        if intensity == \"N/A\":\n",
    "            return 0\n",
    "        return int(intensity.replace(',', ''))\n",
    "\n",
    "    @classmethod\n",
    "    def fromFilePath(cls, path, pepti_id_col = 1, start_col = 32, end_col = 667):\n",
    "        #count line of file\n",
    "        num_pepti = 0\n",
    "        for _ in open(path): \n",
    "            num_pepti += 1\n",
    "        num_pepti -= 1 # remove header\n",
    "\n",
    "        #open file\n",
    "        with open(path) as tsv:\n",
    "            reader = csv.reader(tsv, dialect=\"excel-tab\")\n",
    "            patient = next(reader)[start_col:end_col:2] #header after 32 is patient name with time stamp\n",
    "            #added end_col to signify end of cols with patient name in standard format (Patient_##.Timepoint_#)\n",
    "            #added step=2 to skip all the patients with 'unmod'\n",
    "            #patient = [ x for x in pat if \"Timepoint_1\" in x ]\n",
    "            #indexes = [ (pat.index(x)+start_col) for x in patient ] #Indexes of all the columns with Patient names at Timepoint_1\n",
    "\n",
    "            pepti = [\"\"] * num_pepti\n",
    "            intensity_data = np.empty((num_pepti, len(patient)), int)\n",
    "\n",
    "            for i, line in enumerate(reader):\n",
    "                pepti[i] = line[ pepti_id_col ]\n",
    "                intensity_data[i,:] = np.array([ cls.intensity_string_to_int(l) for l in line[start_col:end_col:2]])\n",
    "            \n",
    "            '''print(\"\\nPatient - \", patient)\n",
    "            print(\"\\nPeptides - \", pepti)\n",
    "            print(\"\\nIntensities - \", intensity_data)'''\n",
    "\n",
    "        return cls(patient, pepti, intensity_data)\n",
    "\n",
    "    def get_patient_from_index(self,p_index):\n",
    "        return self.intensity[:,p_index]\n",
    "\n",
    "    def get_patient(self, patient):\n",
    "        p_index = self.patient.index(patient)\n",
    "        return self.get_patient_from_index(p_index)\n",
    "\n",
    "    def get_patient_list(self, patient_list):\n",
    "        re = np.zeros((len(self.pepti), len(patient_list)))\n",
    "        for i, pat in enumerate(patient_list):\n",
    "            re[:,i] = self.get_patient(pat)\n",
    "        return re\n",
    "\n",
    "    def get_pepti_from_index(self,p_index):\n",
    "        return self.intensity[p_index,:]\n",
    "\n",
    "    def get_pepti(self, pepti):\n",
    "        p_index = self.pepti.index(pepti)\n",
    "        return self.get_pepti_from_index(p_index)\n",
    "\n",
    "    def get_pepti_list(self, pepti_list):\n",
    "        re = np.zeros((len(pepti_list), len(self.patient)),int)\n",
    "        for i, pep in enumerate(pepti_list):\n",
    "            re[i,:] = self.get_pepti(pep)\n",
    "        return re"
   ]
  },
  {
   "cell_type": "code",
   "execution_count": 7,
   "metadata": {
    "executionInfo": {
     "elapsed": 16411,
     "status": "ok",
     "timestamp": 1620771637152,
     "user": {
      "displayName": "Sasya Reddi",
      "photoUrl": "",
      "userId": "02400148251831989501"
     },
     "user_tz": 420
    },
    "id": "6xDInDuTuR1-"
   },
   "outputs": [],
   "source": [
    "#loading data\n",
    "data = Data.fromFilePath(\"data.tsv\")"
   ]
  },
  {
   "cell_type": "code",
   "execution_count": 8,
   "metadata": {
    "colab": {
     "base_uri": "https://localhost:8080/"
    },
    "executionInfo": {
     "elapsed": 16410,
     "status": "ok",
     "timestamp": 1620771637160,
     "user": {
      "displayName": "Sasya Reddi",
      "photoUrl": "",
      "userId": "02400148251831989501"
     },
     "user_tz": 420
    },
    "id": "gKB5VgSoogrm",
    "outputId": "79f3cb4e-be94-4632-dd62-107c3ac5aef9"
   },
   "outputs": [
    {
     "name": "stdout",
     "output_type": "stream",
     "text": [
      "Counter({'01': 7, '02': 7, '03': 7, '05': 7, '06': 7, '07': 7, '08': 7, '09': 7, '10': 7, '11': 7, '12': 7, '14': 7, '15': 7, '16': 7, '17': 7, '19': 7, '20': 7, '21': 7, '22': 7, '23': 7, '25': 7, '26': 7, '27': 7, '28': 7, '29': 7, '30': 7, '34': 7, '36': 7, '37': 7, '38': 7, '39': 7, '40': 7, '41': 7, '42': 7, '43': 7, '45': 7, '46': 7, '47': 7, '48': 7, '52': 7, '57': 7, '58': 7, '44': 6, '24': 2, '31': 2, '33': 2, '35': 2, '49': 2, '50': 2, '51': 2, '53': 2, '54': 2})\n"
     ]
    }
   ],
   "source": [
    "#Checking to see if all patients have info for all 7 timepoints\n",
    "\n",
    "from collections import Counter\n",
    "patient_names = []\n",
    "\n",
    "for i in range(len(data.patient)):\n",
    "  patient_names.append(data.patient[i][8:10])\n",
    "\n",
    "print(Counter(patient_names))"
   ]
  },
  {
   "cell_type": "markdown",
   "metadata": {
    "id": "nbyYmytbpyXO"
   },
   "source": [
    "#### <font color='purple'>Patients with data less than 7 timepoints -\n",
    "\n",
    "* '44': 6 \n",
    "* '24': 2\n",
    "* '31': 2\n",
    "* '33': 2\n",
    "* '35': 2 \n",
    "* '49': 2 \n",
    "* '50': 2 \n",
    "* '51': 2 \n",
    "* '53': 2 \n",
    "* '54': 2\n",
    "\n",
    "---"
   ]
  },
  {
   "cell_type": "code",
   "execution_count": 9,
   "metadata": {
    "colab": {
     "base_uri": "https://localhost:8080/"
    },
    "executionInfo": {
     "elapsed": 16397,
     "status": "ok",
     "timestamp": 1620771637161,
     "user": {
      "displayName": "Sasya Reddi",
      "photoUrl": "",
      "userId": "02400148251831989501"
     },
     "user_tz": 420
    },
    "id": "uaDhmTl-QiVu",
    "outputId": "b91db489-420a-4f9d-f5f0-ebf081e81c0c"
   },
   "outputs": [
    {
     "name": "stdout",
     "output_type": "stream",
     "text": [
      "(40921, 318)\n",
      "318\n",
      "['Patient_01.Timepoint_1', 'Patient_01.Timepoint_2', 'Patient_01.Timepoint_3', 'Patient_01.Timepoint_4', 'Patient_01.Timepoint_5', 'Patient_01.Timepoint_6', 'Patient_01.Timepoint_7', 'Patient_02.Timepoint_1', 'Patient_02.Timepoint_2', 'Patient_02.Timepoint_3', 'Patient_02.Timepoint_4', 'Patient_02.Timepoint_5', 'Patient_02.Timepoint_6', 'Patient_02.Timepoint_7', 'Patient_03.Timepoint_1', 'Patient_03.Timepoint_2', 'Patient_03.Timepoint_3', 'Patient_03.Timepoint_4', 'Patient_03.Timepoint_5', 'Patient_03.Timepoint_6', 'Patient_03.Timepoint_7', 'Patient_05.Timepoint_1', 'Patient_05.Timepoint_2', 'Patient_05.Timepoint_3', 'Patient_05.Timepoint_4', 'Patient_05.Timepoint_5', 'Patient_05.Timepoint_6', 'Patient_05.Timepoint_7', 'Patient_06.Timepoint_1', 'Patient_06.Timepoint_2', 'Patient_06.Timepoint_3', 'Patient_06.Timepoint_4', 'Patient_06.Timepoint_5', 'Patient_06.Timepoint_6', 'Patient_06.Timepoint_7', 'Patient_07.Timepoint_1', 'Patient_07.Timepoint_2', 'Patient_07.Timepoint_3', 'Patient_07.Timepoint_4', 'Patient_07.Timepoint_5', 'Patient_07.Timepoint_6', 'Patient_07.Timepoint_7', 'Patient_08.Timepoint_1', 'Patient_08.Timepoint_2', 'Patient_08.Timepoint_3', 'Patient_08.Timepoint_4', 'Patient_08.Timepoint_5', 'Patient_08.Timepoint_6', 'Patient_08.Timepoint_7', 'Patient_09.Timepoint_1', 'Patient_09.Timepoint_2', 'Patient_09.Timepoint_3', 'Patient_09.Timepoint_4', 'Patient_09.Timepoint_5', 'Patient_09.Timepoint_6', 'Patient_09.Timepoint_7', 'Patient_10.Timepoint_1', 'Patient_10.Timepoint_2', 'Patient_10.Timepoint_3', 'Patient_10.Timepoint_4', 'Patient_10.Timepoint_5', 'Patient_10.Timepoint_6', 'Patient_10.Timepoint_7', 'Patient_11.Timepoint_1', 'Patient_11.Timepoint_2', 'Patient_11.Timepoint_3', 'Patient_11.Timepoint_4', 'Patient_11.Timepoint_5', 'Patient_11.Timepoint_6', 'Patient_11.Timepoint_7', 'Patient_12.Timepoint_1', 'Patient_12.Timepoint_2', 'Patient_12.Timepoint_3', 'Patient_12.Timepoint_4', 'Patient_12.Timepoint_5', 'Patient_12.Timepoint_6', 'Patient_12.Timepoint_7', 'Patient_14.Timepoint_1', 'Patient_14.Timepoint_2', 'Patient_14.Timepoint_3', 'Patient_14.Timepoint_4', 'Patient_14.Timepoint_5', 'Patient_14.Timepoint_6', 'Patient_14.Timepoint_7', 'Patient_15.Timepoint_1', 'Patient_15.Timepoint_2', 'Patient_15.Timepoint_3', 'Patient_15.Timepoint_4', 'Patient_15.Timepoint_5', 'Patient_15.Timepoint_6', 'Patient_15.Timepoint_7', 'Patient_16.Timepoint_1', 'Patient_16.Timepoint_2', 'Patient_16.Timepoint_3', 'Patient_16.Timepoint_4', 'Patient_16.Timepoint_5', 'Patient_16.Timepoint_6', 'Patient_16.Timepoint_7', 'Patient_17.Timepoint_1', 'Patient_17.Timepoint_2', 'Patient_17.Timepoint_3', 'Patient_17.Timepoint_4', 'Patient_17.Timepoint_5', 'Patient_17.Timepoint_6', 'Patient_17.Timepoint_7', 'Patient_19.Timepoint_1', 'Patient_19.Timepoint_2', 'Patient_19.Timepoint_3', 'Patient_19.Timepoint_4', 'Patient_19.Timepoint_5', 'Patient_19.Timepoint_6', 'Patient_19.Timepoint_7', 'Patient_20.Timepoint_1', 'Patient_20.Timepoint_2', 'Patient_20.Timepoint_3', 'Patient_20.Timepoint_4', 'Patient_20.Timepoint_5', 'Patient_20.Timepoint_6', 'Patient_20.Timepoint_7', 'Patient_21.Timepoint_1', 'Patient_21.Timepoint_2', 'Patient_21.Timepoint_3', 'Patient_21.Timepoint_4', 'Patient_21.Timepoint_5', 'Patient_21.Timepoint_6', 'Patient_21.Timepoint_7', 'Patient_22.Timepoint_1', 'Patient_22.Timepoint_2', 'Patient_22.Timepoint_3', 'Patient_22.Timepoint_4', 'Patient_22.Timepoint_5', 'Patient_22.Timepoint_6', 'Patient_22.Timepoint_7', 'Patient_23.Timepoint_1', 'Patient_23.Timepoint_2', 'Patient_23.Timepoint_3', 'Patient_23.Timepoint_4', 'Patient_23.Timepoint_5', 'Patient_23.Timepoint_6', 'Patient_23.Timepoint_7', 'Patient_24.Timepoint_1', 'Patient_24.Timepoint_2', 'Patient_25.Timepoint_1', 'Patient_25.Timepoint_2', 'Patient_25.Timepoint_3', 'Patient_25.Timepoint_4', 'Patient_25.Timepoint_5', 'Patient_25.Timepoint_6', 'Patient_25.Timepoint_7', 'Patient_26.Timepoint_1', 'Patient_26.Timepoint_2', 'Patient_26.Timepoint_3', 'Patient_26.Timepoint_4', 'Patient_26.Timepoint_5', 'Patient_26.Timepoint_6', 'Patient_26.Timepoint_7', 'Patient_27.Timepoint_1', 'Patient_27.Timepoint_2', 'Patient_27.Timepoint_3', 'Patient_27.Timepoint_4', 'Patient_27.Timepoint_5', 'Patient_27.Timepoint_6', 'Patient_27.Timepoint_7', 'Patient_28.Timepoint_1', 'Patient_28.Timepoint_2', 'Patient_28.Timepoint_3', 'Patient_28.Timepoint_4', 'Patient_28.Timepoint_5', 'Patient_28.Timepoint_6', 'Patient_28.Timepoint_7', 'Patient_29.Timepoint_1', 'Patient_29.Timepoint_2', 'Patient_29.Timepoint_3', 'Patient_29.Timepoint_4', 'Patient_29.Timepoint_5', 'Patient_29.Timepoint_6', 'Patient_29.Timepoint_7', 'Patient_30.Timepoint_1', 'Patient_30.Timepoint_2', 'Patient_30.Timepoint_3', 'Patient_30.Timepoint_4', 'Patient_30.Timepoint_5', 'Patient_30.Timepoint_6', 'Patient_30.Timepoint_7', 'Patient_31.Timepoint_1', 'Patient_31.Timepoint_2', 'Patient_33.Timepoint_1', 'Patient_33.Timepoint_2', 'Patient_34.Timepoint_1', 'Patient_34.Timepoint_2', 'Patient_34.Timepoint_3', 'Patient_34.Timepoint_4', 'Patient_34.Timepoint_5', 'Patient_34.Timepoint_6', 'Patient_34.Timepoint_7', 'Patient_35.Timepoint_1', 'Patient_35.Timepoint_2', 'Patient_36.Timepoint_1', 'Patient_36.Timepoint_2', 'Patient_36.Timepoint_3', 'Patient_36.Timepoint_4', 'Patient_36.Timepoint_5', 'Patient_36.Timepoint_6', 'Patient_36.Timepoint_7', 'Patient_37.Timepoint_1', 'Patient_37.Timepoint_2', 'Patient_37.Timepoint_3', 'Patient_37.Timepoint_4', 'Patient_37.Timepoint_5', 'Patient_37.Timepoint_6', 'Patient_37.Timepoint_7', 'Patient_38.Timepoint_1', 'Patient_38.Timepoint_2', 'Patient_38.Timepoint_3', 'Patient_38.Timepoint_4', 'Patient_38.Timepoint_5', 'Patient_38.Timepoint_6', 'Patient_38.Timepoint_7', 'Patient_39.Timepoint_1', 'Patient_39.Timepoint_2', 'Patient_39.Timepoint_3', 'Patient_39.Timepoint_4', 'Patient_39.Timepoint_5', 'Patient_39.Timepoint_6', 'Patient_39.Timepoint_7', 'Patient_40.Timepoint_1', 'Patient_40.Timepoint_2', 'Patient_40.Timepoint_3', 'Patient_40.Timepoint_4', 'Patient_40.Timepoint_5', 'Patient_40.Timepoint_6', 'Patient_40.Timepoint_7', 'Patient_41.Timepoint_1', 'Patient_41.Timepoint_2', 'Patient_41.Timepoint_3', 'Patient_41.Timepoint_4', 'Patient_41.Timepoint_5', 'Patient_41.Timepoint_6', 'Patient_41.Timepoint_7', 'Patient_42.Timepoint_1', 'Patient_42.Timepoint_2', 'Patient_42.Timepoint_3', 'Patient_42.Timepoint_4', 'Patient_42.Timepoint_5', 'Patient_42.Timepoint_6', 'Patient_42.Timepoint_7', 'Patient_43.Timepoint_1', 'Patient_43.Timepoint_2', 'Patient_43.Timepoint_3', 'Patient_43.Timepoint_4', 'Patient_43.Timepoint_5', 'Patient_43.Timepoint_6', 'Patient_43.Timepoint_7', 'Patient_44.Timepoint_2', 'Patient_44.Timepoint_3', 'Patient_44.Timepoint_4', 'Patient_44.Timepoint_5', 'Patient_44.Timepoint_6', 'Patient_44.Timepoint_7', 'Patient_45.Timepoint_1', 'Patient_45.Timepoint_2', 'Patient_45.Timepoint_3', 'Patient_45.Timepoint_4', 'Patient_45.Timepoint_5', 'Patient_45.Timepoint_6', 'Patient_45.Timepoint_7', 'Patient_46.Timepoint_1', 'Patient_46.Timepoint_2', 'Patient_46.Timepoint_3', 'Patient_46.Timepoint_4', 'Patient_46.Timepoint_5', 'Patient_46.Timepoint_6', 'Patient_46.Timepoint_7', 'Patient_47.Timepoint_1', 'Patient_47.Timepoint_2', 'Patient_47.Timepoint_3', 'Patient_47.Timepoint_4', 'Patient_47.Timepoint_5', 'Patient_47.Timepoint_6', 'Patient_47.Timepoint_7', 'Patient_48.Timepoint_1', 'Patient_48.Timepoint_2', 'Patient_48.Timepoint_3', 'Patient_48.Timepoint_4', 'Patient_48.Timepoint_5', 'Patient_48.Timepoint_6', 'Patient_48.Timepoint_7', 'Patient_49.Timepoint_1', 'Patient_49.Timepoint_2', 'Patient_50.Timepoint_1', 'Patient_50.Timepoint_2', 'Patient_51.Timepoint_1', 'Patient_51.Timepoint_2', 'Patient_52.Timepoint_1', 'Patient_52.Timepoint_2', 'Patient_52.Timepoint_3', 'Patient_52.Timepoint_4', 'Patient_52.Timepoint_5', 'Patient_52.Timepoint_6', 'Patient_52.Timepoint_7', 'Patient_53.Timepoint_1', 'Patient_53.Timepoint_2', 'Patient_54.Timepoint_1', 'Patient_54.Timepoint_2', 'Patient_57.Timepoint_1', 'Patient_57.Timepoint_2', 'Patient_57.Timepoint_3', 'Patient_57.Timepoint_4', 'Patient_57.Timepoint_5', 'Patient_57.Timepoint_6', 'Patient_57.Timepoint_7', 'Patient_58.Timepoint_1', 'Patient_58.Timepoint_2', 'Patient_58.Timepoint_3', 'Patient_58.Timepoint_4', 'Patient_58.Timepoint_5', 'Patient_58.Timepoint_6', 'Patient_58.Timepoint_7']\n",
      "40921\n",
      "['SPLFM+15.995GK', 'EPQVYTLPPSREEM+15.995TK', 'AVM+15.995DDFAAFVEK', 'EFNAETFTFHADIC-33.988TLSEK', 'M+15.995ADEAGSEADHEGTHSTK']\n"
     ]
    }
   ],
   "source": [
    "#showing what data contains\n",
    "print(data.intensity.shape)\n",
    "\n",
    "print(len(data.patient))\n",
    "print(data.patient)\n",
    "\n",
    "print(len(data.pepti))\n",
    "print(data.pepti[:5])"
   ]
  },
  {
   "cell_type": "code",
   "execution_count": 10,
   "metadata": {
    "colab": {
     "base_uri": "https://localhost:8080/"
    },
    "executionInfo": {
     "elapsed": 16375,
     "status": "ok",
     "timestamp": 1620771637161,
     "user": {
      "displayName": "Sasya Reddi",
      "photoUrl": "",
      "userId": "02400148251831989501"
     },
     "user_tz": 420
    },
    "id": "xfBK1fdeuR1_",
    "outputId": "25c98847-4e04-4a3c-f61d-465ac6256b8a"
   },
   "outputs": [
    {
     "name": "stdout",
     "output_type": "stream",
     "text": [
      "40921\n",
      "318\n",
      "(40921, 3)\n",
      "(3, 318)\n"
     ]
    }
   ],
   "source": [
    "#testing some get function\n",
    "print(len(data.get_patient('Patient_01.Timepoint_1')))\n",
    "print(len(data.get_pepti('SPLFM+15.995GK')))\n",
    "\n",
    "temp_patient = data.get_patient_list(['Patient_01.Timepoint_1', 'Patient_02.Timepoint_1', 'Patient_03.Timepoint_1'])\n",
    "print(temp_patient.shape)\n",
    "\n",
    "temp_papti = data.get_pepti_list(['SPLFM+15.995GK', 'AVM+15.995DDFAAFVEK', 'M+15.995ADEAGSEADHEGTHSTK'])\n",
    "print(temp_papti.shape)"
   ]
  },
  {
   "cell_type": "markdown",
   "metadata": {},
   "source": [
    "52 total patients resulting in 318 total timepoints. 40921 unique peptides"
   ]
  },
  {
   "cell_type": "markdown",
   "metadata": {
    "id": "r-QU7Y5b3dCo"
   },
   "source": [
    "#### <font color='purple'> Patients without Timepoint_1 info -\n",
    "\n",
    "04, 13, 18, 32, 44, 55, 56"
   ]
  },
  {
   "cell_type": "markdown",
   "metadata": {},
   "source": [
    "### <font color='blue'>**Exploratory Analysis**"
   ]
  },
  {
   "cell_type": "code",
   "execution_count": 82,
   "metadata": {},
   "outputs": [
    {
     "name": "stderr",
     "output_type": "stream",
     "text": [
      "100%|██████████| 40921/40921 [00:01<00:00, 30257.86it/s]\n"
     ]
    }
   ],
   "source": [
    "import matplotlib.pyplot as plt\n",
    "from matplotlib.pyplot import figure\n",
    "from tqdm import tqdm\n",
    "\n",
    "patient_list = data.patient\n",
    "peptide_list = data.pepti\n",
    "\n",
    "intensity_in_patients = data.get_pepti_list(peptide_list)\n",
    "\n",
    "pepDict = defaultdict(list)\n",
    "pepHigh = defaultdict(list)\n",
    "pepAvg = defaultdict(list)\n",
    "for i in tqdm(range(len(peptide_list))):\n",
    "    pepDict[peptide_list[i]] = np.count_nonzero(intensity_in_patients[i])\n",
    "    pepHigh[peptide_list[i]] = max(intensity_in_patients[i])\n",
    "    pepAvg[peptide_list[i]] = np.mean(intensity_in_patients[i])"
   ]
  },
  {
   "cell_type": "code",
   "execution_count": 89,
   "metadata": {},
   "outputs": [],
   "source": [
    "pCounts = [(pepDict[w], w) for w in pepDict]\n",
    "pCounts.sort()\n",
    "\n",
    "pHigh = [(pepHigh[w], w) for w in pepHigh]\n",
    "pHigh.sort()\n",
    "pHigh.reverse()\n",
    "\n",
    "pAvg = [(pepAvg[w], w) for w in pepAvg]\n",
    "pAvg.sort()\n",
    "pAvg.reverse()"
   ]
  },
  {
   "cell_type": "code",
   "execution_count": 90,
   "metadata": {},
   "outputs": [
    {
     "data": {
      "text/plain": [
       "[(0, 'YVMLPVADQYDC+40.00ITHYE'),\n",
       " (0, 'YVMLPVADQYDC+464.35ITHYE'),\n",
       " (0, 'YVMLPVADQYDC+54.09ITHYEGSTC+57.021PK'),\n",
       " (0, 'YVMLPVADQYDC+54.10ITHYEGSTC+57.021PK'),\n",
       " (0, 'YVMLPVADQYDC+57.021ITHYEGSTC+166.09PKWKAPK'),\n",
       " (0, 'YVMLPVADQYDC+57.021ITHYEGSTC+30.05PKWK'),\n",
       " (0, 'YVMLPVADQYDC+57.021ITHYEGSTC+317.10PKWKAPK'),\n",
       " (0, 'YVMLPVADQYDC+57.021ITHYEGSTC+344.21PK'),\n",
       " (0, 'YVMLPVADQYDC+57.021ITHYEGSTC+54.00PK'),\n",
       " (0, 'YVMLPVADQYDC+57.021ITHYEGSTC+54.06PK'),\n",
       " (0, 'YVMLPVADQYDC+57.021ITHYEGSTC+54.09PK'),\n",
       " (0, 'YVMLPVADQYDC+57.021ITHYEGSTC+54.10PK'),\n",
       " (0, 'YVMLPVADQYDC+57.021ITHYEGSTC+54.12PK'),\n",
       " (0, 'YVMLPVADQYDC+57.021ITHYEGSTC+57.021PKW-55.039KAPK'),\n",
       " (0, 'YVMLPVADQYDC+57.021ITHYEGSTC-40.96PKWKA'),\n",
       " (0, 'YVMLPVADQYDC+57.021ITHYEGSTC-40.99PKWKA'),\n",
       " (0, 'YVMLPVADQYDC+57.021ITHYEGSTC-59.02PK'),\n",
       " (0, 'YVMLPVADQYDC+57.021ITHYEGSTC-59.03PK'),\n",
       " (0, 'YVMLPVADQYDC+57.021ITHYEGSTC-59.06PK'),\n",
       " (0, 'YVMLPVADQYDC-40.95ITHYEGSTC+57.021PKWKA'),\n",
       " (0, 'YVMLPVADQYDC-40.99ITHYEGSTC+57.021PKWKA'),\n",
       " (0, 'YVMLPVADQYDC-41.00ITHYEGSTC+57.021PKWKA'),\n",
       " (0, 'YVMLPVADQYDC-59.02ITHYEGSTC+57.021PK'),\n",
       " (0, 'YVMLPVADQYDC-59.03ITHYEGSTC+57.021PK'),\n",
       " (0, 'YVMLPVADQYDC-59.04ITHYEGSTC+57.021PK'),\n",
       " (0, 'YVSH+57.021FETEGPHVLLYFDSVPTSR'),\n",
       " (0, 'YVSHFETEGPH+57.021VLLYFDSVPTSR'),\n",
       " (0, 'YVSHFETEGPHVLLYFD+37.956SVPTSR'),\n",
       " (0, 'YVSHFETEGPHVLLYFDSVP-30.011'),\n",
       " (0, 'YVSWYQQ+0.984H+57.021PGK'),\n",
       " (0, 'YVSWYQQLPGTAPK+29.99'),\n",
       " (0, 'YVTS+21.98APMPEPQAPGR'),\n",
       " (0, 'YVTS+21.99APMPEPQAPGR'),\n",
       " (0, 'YVTS+37.97APMPEPQAPGR'),\n",
       " (0, 'YVTSAP+21.97MPEPQAPGR'),\n",
       " (0, 'YVTSAP+21.98MPEPQAPGR'),\n",
       " (0, 'YVTSAP+37.95MPEPQAPGR'),\n",
       " (0, 'YVTSAP+37.96MPEPQAPGR'),\n",
       " (0, 'YWM+15.995HWVR'),\n",
       " (0, 'YY-26.004ASWYQQK'),\n",
       " (0, 'YY-26.004YYYMDVWGK'),\n",
       " (0, 'YYADSVK-14.03GR'),\n",
       " (0, 'YYADSVK-29.05GR'),\n",
       " (0, 'YYC+24.995FQGNQFLR'),\n",
       " (0, 'YYC+272.18FQGNQFLR'),\n",
       " (0, 'YYC+272.19FQGNQFLR'),\n",
       " (0, 'YYC+273.19FQGNQFLR'),\n",
       " (0, 'YYC+89.00FQGNQFLR'),\n",
       " (0, 'YYC-27.06FQGNQFLR'),\n",
       " (0, 'YYC-38.51FQGNQFLR'),\n",
       " (0, 'YYSFFDLN+0.984PK'),\n",
       " (0, '{+1079.54}EDPQGDAAQKTDTSHHDQDHPTFNK'),\n",
       " (0, '{+1079.55}EDPQGDAAQKTDTSHHDQDHPTFNK'),\n",
       " (0, '{+417.55}SASDLTWDNLK'),\n",
       " (0, '{+752.89}DSTYSLSSTLTLSK'),\n",
       " (0, '{+754.05}GTEAAGAMFLEAIPMSIPPEVK'),\n",
       " (0, '{+833.62}VDNALQSGNSQESVTEQDSK'),\n",
       " (0, '{+880.40}HRHPDEAAFFDTASTG'),\n",
       " (0, '{+92.44}KAADDTWEPFASGK'),\n",
       " (0, '{+98.74}LHTEAQIQEEGTVVELTGR'),\n",
       " (1, '+114.043LVNRRP+59.048C+57.021FSALEVDETYVPK')]"
      ]
     },
     "execution_count": 90,
     "metadata": {},
     "output_type": "execute_result"
    }
   ],
   "source": [
    "pCounts[20800:20861]"
   ]
  },
  {
   "cell_type": "code",
   "execution_count": 91,
   "metadata": {},
   "outputs": [
    {
     "data": {
      "text/plain": [
       "[(318, 'YYWGGQYTWDM+15.995AK'),\n",
       " (318, 'YYC-33.988FQGNQFLR'),\n",
       " (318, 'YVTSAPM+15.995PEPQAPGR'),\n",
       " (318, 'YVGGQEHFAH+57.021LLILR'),\n",
       " (318, 'YLQEIYN+0.984SNNQK'),\n",
       " (318, 'YIFHNFM+15.995ER'),\n",
       " (318, 'YIC-33.988ENQDSISSK'),\n",
       " (318, 'YIC+47.985ENQDSISSK'),\n",
       " (318, 'YIC+305.068ENQDSISSK'),\n",
       " (318, 'YIC+24.995ENQDSISSK'),\n",
       " (318, 'YIC+119.004ENQDSISSK'),\n",
       " (318, 'YFKPGMPFDLM+15.995VFVTNPDGSPAYR'),\n",
       " (318, 'YFKPGM+15.995PFDLMVFVTNPDGSPAYR'),\n",
       " (318, 'YEASILTHDSSIRY-34.968'),\n",
       " (318, 'YEASILTH+57.021DSSIR'),\n",
       " (318, 'YDVENC-33.988LANK'),\n",
       " (318, 'YAASSYLSLTPEQW+3.995K'),\n",
       " (318, 'WYVDGVEVHN+0.984AK'),\n",
       " (318, 'WQQGNVFSC-33.988SVMHEALHNHYTQK'),\n",
       " (318, 'WQEEM+15.995ELYR'),\n",
       " (318, 'WC-33.988AVSEHEATK'),\n",
       " (318, 'WC-33.988ALSHHER'),\n",
       " (318, 'W+3.995LQGSQELPR'),\n",
       " (318, 'VYAC-33.988EVTHQGLSSPVTK'),\n",
       " (318, 'VYAC+57.021E+31.990VTHQGLSSPVTK'),\n",
       " (318, 'VYAC+305.068EVTHQGLSSPVTK'),\n",
       " (318, 'VYAC+119.004EVTHQGLSSPVTK'),\n",
       " (318, 'VVSVLTVVHQDWLN-17.027GK'),\n",
       " (318, 'VVSVLTVVHQDWLN+0.984GK'),\n",
       " (318, 'VVSVLTVVHQDW+31.990LNGK'),\n",
       " (318, 'VVSVLTVVHQDW+3.995LNGK'),\n",
       " (318, 'VVSVLTVVH+57.021QDWLNGK'),\n",
       " (318, 'VVSVLTVLHQDWLN-17.027GK'),\n",
       " (318, 'VVSVLTVLHQDWLN+0.984GK'),\n",
       " (318, 'VVSVLTVLHQDW+31.990LNGK'),\n",
       " (318, 'VVSVLTVLHQDW+3.995LNGK'),\n",
       " (318, 'VVSVLTVLH+57.021QDWLNGK'),\n",
       " (318, 'VVSVLTVLH+57.021QDWLN+0.984GK'),\n",
       " (318, 'VVAGVAN+0.984ALAHK'),\n",
       " (318, 'VTVLGQ+0.984PK'),\n",
       " (318, 'VTVL-14.016GQPK'),\n",
       " (318, 'VTTTPKN+0.984GPGPTK'),\n",
       " (318, 'VTISV-28.031DTSK'),\n",
       " (318, 'VTISV+29.974DTSK'),\n",
       " (318, 'VTAAPQSVC-33.988ALR'),\n",
       " (318, 'VSPTDC-33.988SAVEPEAEK'),\n",
       " (318, 'VSNK+57.021ALPAPIEK'),\n",
       " (318, 'VSN+0.984GAGTMSVSLVADENPFAQGALK'),\n",
       " (318, 'VSMM+15.995QTK'),\n",
       " (318, 'VSFLSALEEYTK+57.021K'),\n",
       " (318, 'VSFLSALE+57.021EYTK'),\n",
       " (318, 'VQWK+57.021VDNALQSGNSQESVTEQDSK'),\n",
       " (318, 'VQPYLDDFQK+57.021K'),\n",
       " (318, 'VQPYLDDFQK+42.047'),\n",
       " (318, 'VQPYLDD-18.011FQK'),\n",
       " (318, 'VQHPN+0.984GNK'),\n",
       " (318, 'VPVAVQGEDTVQSLTQ+0.984GDGVAK'),\n",
       " (318, 'VPQVSTPTLVE+57.021VSR'),\n",
       " (318, 'VPQTDM+15.995TFR'),\n",
       " (318, 'VPQ+0.984VSTPTLVEVSR'),\n",
       " (318, 'VPLLLSEPINIIDALEM+15.995R'),\n",
       " (318, 'VPFDAATLHTSTAMAAQHGM+15.995DDDGTGQK'),\n",
       " (318, 'VPFDAATLHTSTAM+15.995AAQHGMDDDGTGQK'),\n",
       " (318, 'VPEARPNSM+15.995VVEHPEFLK'),\n",
       " (318, 'VN+0.984SFFSTFK'),\n",
       " (318, 'VN+0.984DNEEGFFSAR'),\n",
       " (318, 'VLGAFSDGLAHLDNLKG+71.073'),\n",
       " (318, 'VK+57.021SPELQAEAK'),\n",
       " (318, 'VIGNM+15.995GQTMEQLTPELK'),\n",
       " (318, 'VGFYESDVM+15.995GR'),\n",
       " (318, 'VFSNGAD+21.982LSGVTEEAPLK'),\n",
       " (318, 'VFSN-17.027GADLSGVTEEAPLK'),\n",
       " (318, 'VFSN+0.984GADLSGVTEEAPLK'),\n",
       " (318, 'VFDEFKPLVEEPQNLIKQNC-33.988ELFEQLGEYK'),\n",
       " (318, 'VFDEFKPLVEEPQN+0.984LIK'),\n",
       " (318, 'VFDEFKPLVEE+42.047PQNLIK'),\n",
       " (318, 'VFDEFKPLVE+42.047EPQNLIK'),\n",
       " (318, 'VFDEF+15.995KPLVEEPQNLIK'),\n",
       " (318, 'VFD-18.011EFKPLVEEPQNLIK'),\n",
       " (318, 'VELEDWN-17.027GR'),\n",
       " (318, 'VELEDWN+0.984GRTSTADYAMFK'),\n",
       " (318, 'VELEDWN+0.984GR'),\n",
       " (318, 'VDNALQSGNSQESVTEQDSK+42.047'),\n",
       " (318, 'VDNALQSGNSQE+57.021SVTEQDSK'),\n",
       " (318, 'VDNALQSGNSQE+21.982SVTEQDSK'),\n",
       " (318, 'VDNALQSGN-17.027SQESVTEQDSK'),\n",
       " (318, 'VDNALQSGN+0.984SQESVTEQDSK'),\n",
       " (318, 'VDGALC-33.988MEK'),\n",
       " (318, 'VAEGTQVLELPFKGDDITM+15.995VLILPKPEK'),\n",
       " (318, 'TYM+15.995LAFDVNDEK'),\n",
       " (318, 'TVTK+57.021TVIGPDGHK'),\n",
       " (318, 'TVM+15.995VNIENPEGIPVK'),\n",
       " (318, 'TVIGPDGHK+57.021'),\n",
       " (318, 'TTVM+15.995VK'),\n",
       " (318, 'TTPPVLDSD-18.011GSFFLYSK'),\n",
       " (318, 'TTPPMLDSD-18.011GSFFLYSK'),\n",
       " (318, 'TTPPM+15.995LDSDGSFFLYSK'),\n",
       " (318, 'TSTADYAM+15.995FK'),\n",
       " (318, 'TQQPQQDEM+15.995PSPTFLTQVK'),\n",
       " (318, 'TPEVTC-33.988VVVDVSHEDPEVK'),\n",
       " (318, 'TMTIHNGM+15.995FFSTYDRDNDGWLTSDPR'),\n",
       " (318, 'TMTIHN+0.984GMFFSTYDRDNDGWLTSDPRK'),\n",
       " (318, 'TMTIHN+0.984GMFFSTYDRDNDGWLTSDPR'),\n",
       " (318, 'TMTIHN+0.984GMFFSTYDR'),\n",
       " (318, 'TM+15.995TIHNGMFFSTYDRDNDGWLTSDPR'),\n",
       " (318, 'TM+15.995TIHNGM+15.995FFSTYDRDNDGWLTSDPR'),\n",
       " (318, 'TM+15.995TIHN+0.984GMFFSTYDRDNDGWLTSDPRK'),\n",
       " (318, 'TM+15.995QENSTPRED'),\n",
       " (318, 'TLNQPDSQLQLTTGN+0.984GLFLSEGLK'),\n",
       " (318, 'TLM+15.995FGSYLDDEK'),\n",
       " (318, 'TKTETITGFQVDAVPAN+0.984GQTPIQR'),\n",
       " (318, 'THLAPYSDE+42.047LR'),\n",
       " (318, 'TH+57.021LAPYSDELR'),\n",
       " (318, 'TGTHGLLVKQEDM+15.995K'),\n",
       " (318, 'TFYEPGEEITYSC-33.988KPGYVSR'),\n",
       " (318, 'TFTC-33.988TAAYPESK'),\n",
       " (318, 'TFPGFFSPM+15.995LGEFVSETESR'),\n",
       " (318, 'TEIDKPSQM+15.995QVTDVQDNSISVK'),\n",
       " (318, 'TDTSHHDQDHPTFN+0.984K'),\n",
       " (318, 'TDTSHHDQDH+57.021PTFNK'),\n",
       " (318, 'TDTSHHDQD-18.011HPTFNK'),\n",
       " (318, 'TDTSHH+57.021DQDHPTFNK'),\n",
       " (318, 'TC-33.988VADESAENC+57.021DK'),\n",
       " (318, 'TC+57.021VADESAENC-33.988DK'),\n",
       " (318, 'TAGWNIPM+15.995GLLYNK'),\n",
       " (318, 'SYSC-33.988QVTHEGSTVEK'),\n",
       " (318, 'SYSC+57.021QV+1.979MHEGSTVEK'),\n",
       " (318, 'SYSC+47.985QVTHEGSTVEK'),\n",
       " (318, 'SYSC+119.004QVTHEGSTVEK'),\n",
       " (318, 'SVSGKPQYM+15.995VLVPSLLHTETTEK'),\n",
       " (318, 'SVLGQ+0.984LGITK'),\n",
       " (318, 'STSGGTAALGC-33.988LVK'),\n",
       " (318, 'STSESTAALGC-33.988LVK'),\n",
       " (318, 'SSSNEEVM+15.995FLTVQVK'),\n",
       " (318, 'SSQSV+14.016LYSSNNK'),\n",
       " (318, 'SSALDM+15.995ENFR'),\n",
       " (318, 'SQPM+15.995GLWR'),\n",
       " (318, 'SPLFMGK+57.021VVNPTQK'),\n",
       " (318, 'SPLFM+15.995GK'),\n",
       " (318, 'SPELQAEAK+57.021SYFEK'),\n",
       " (318, 'SPE+57.021LQAEAK'),\n",
       " (318, 'SPE+42.047LQAEAK'),\n",
       " (318, 'SPDVIN+0.984GSPISQK'),\n",
       " (318, 'SMGGKEDLIWELLNQAQEHFGK+57.021'),\n",
       " (318, 'SMGGKEDLIW+3.995ELLNQAQEHFGK'),\n",
       " (318, 'SM+15.995GGKEDLIWELLNQAQEHFGK'),\n",
       " (318, 'SLN+0.984EEAVKK'),\n",
       " (318, 'SLHTLFGDKLC-33.988TVATLR'),\n",
       " (318, 'SLHTLFGDK+42.047'),\n",
       " (318, 'SLHTLFGD-18.011K'),\n",
       " (318, 'SLHM+15.995YANR'),\n",
       " (318, 'SLH+57.021TLFGDK'),\n",
       " (318, 'SIEVFGQFN+0.984GKR'),\n",
       " (318, 'SHC-33.988IAEVENDEMPADLPSLAADFVESK'),\n",
       " (318, 'SHC-33.988IAEVENDEM+15.995PADLPSLAADFVESK'),\n",
       " (318, 'SHC+24.995IAEVENDEMPADLPSLAADFVESK'),\n",
       " (318, 'SHC+119.004IAEVENDEMPADLPSLAADFVESK'),\n",
       " (318, 'SGVQM+15.995NTNFFHESGLEAHVALK'),\n",
       " (318, 'SGTASVVC-33.988LLNNFYPR'),\n",
       " (318, 'SGN+0.984SQESVTEQDSK'),\n",
       " (318, 'SGFPQVSM+15.995FFTHTFPK'),\n",
       " (318, 'SEFPESWLWNVEDLKEPPKN+0.984GISTK'),\n",
       " (318, 'SDVVYTDW+3.995KK'),\n",
       " (318, 'SDVM+15.995YTDWKK'),\n",
       " (318, 'SDVM+15.995YTDWK'),\n",
       " (318, 'SASDLTWDN-57.021LKGK'),\n",
       " (318, 'SAGWNIPIGLLYC-33.988DLPEPR'),\n",
       " (318, 'RPC-33.988FSALEVDETYVPK'),\n",
       " (318, 'RPC+47.985FSALEVDETYVPK'),\n",
       " (318, 'RPC+119.004FSALEVDETYVPK'),\n",
       " (318, 'QYRN+0.984GESVK'),\n",
       " (318, 'QVKDN+0.984ENVVNEYSSELEK'),\n",
       " (318, 'QTALVE+42.047LVK'),\n",
       " (318, 'QT-18.011ALVELVK'),\n",
       " (318, 'QNC-33.988ELFEQLGEYK'),\n",
       " (318, 'QNC+24.995ELFEQLGEYK'),\n",
       " (318, 'QNC+119.004ELFEQLGEYK'),\n",
       " (318, 'QLEQ+0.984VIAK'),\n",
       " (318, 'QLAN+0.984GVDR'),\n",
       " (318, 'QKPDGVFQEDAPVIHQEM+15.995IGGLR'),\n",
       " (318, 'QK+57.021VEPLRAELQEGAR'),\n",
       " (318, 'QIN+0.984DYVEK'),\n",
       " (318, 'QGLLPVLE+57.021SFK'),\n",
       " (318, 'QGHN+0.984SVFLIK'),\n",
       " (318, 'QGFGNVATN+0.984TDGK'),\n",
       " (318, 'QFTSSTSYN+0.984RGDSTFESK'),\n",
       " (318, 'QEPERNEC-33.988FLQHKDDNPNLPR'),\n",
       " (318, 'QEPERNEC-33.988FLQHK'),\n",
       " (318, 'QEPERNEC+47.985FLQHK'),\n",
       " (318, 'QEPERNEC+119.004FLQHKDDNPNLPR'),\n",
       " (318, 'QEPERNEC+119.004FLQHK'),\n",
       " (318, 'QELN+0.984GNTK'),\n",
       " (318, 'QD-18.011GSVDFGRK'),\n",
       " (318, 'QD-18.011GSVDFGR'),\n",
       " (318, 'Q+0.984TALVELVK'),\n",
       " (318, 'Q+0.984GLLPVLESFK'),\n",
       " (318, 'PNM+15.995IDAATLK'),\n",
       " (318, 'NYC-33.988GLPGEYWLGNDK'),\n",
       " (318, 'NTLYLQM+15.995NSLR'),\n",
       " (318, 'NTLY-15.995LQMNSLR'),\n",
       " (318, 'NSVDELNNNVEAVSQTSSSSFQYM+15.995YLLK'),\n",
       " (318, 'NSLYLQM+15.995NSLR'),\n",
       " (318, 'NSLFEYQKN+0.984NK'),\n",
       " (318, 'NSEEFAAAM+15.995SR'),\n",
       " (318, 'NQVSLTC-33.988LVK'),\n",
       " (318, 'NQVSLTC+119.004LVK'),\n",
       " (318, 'NPSSAGSWN+0.984SGSSGPGSTGNR'),\n",
       " (318, 'NPSDPM+15.995PQAPALWIETTAYALLHLLLHEGK'),\n",
       " (318, 'NNAN+0.984GVDLNR'),\n",
       " (318, 'NM+15.995EVSVATTTK'),\n",
       " (318, 'NILTSN+0.984NIDVK'),\n",
       " (318, 'NHLQLEGLFFTN+0.984GEHTSK'),\n",
       " (318, 'NGNM+15.995AGISDQR'),\n",
       " (318, 'NFPSPVDAAFRQ+0.984GHNSVFLIK'),\n",
       " (318, 'NFM+15.995LTQPHSVSESPGK'),\n",
       " (318, 'N+0.984SLFEYQK'),\n",
       " (318, 'N+0.984GVAQEPVHLDSPAIK'),\n",
       " (318, 'N+0.984GFYPATR'),\n",
       " (318, 'MYLGYEYVTAIRN+0.984LR'),\n",
       " (318, 'MKPVPDLVPGN+0.984FK'),\n",
       " (318, 'MHAIN+0.984GR'),\n",
       " (318, 'MGPTELLIEMEDWKGDK+42.047'),\n",
       " (318, 'MGPTELLIEM+15.995EDWKGDK'),\n",
       " (318, 'MGPTELLIEM+15.995EDWK'),\n",
       " (318, 'MELERPGGN+0.984EITR'),\n",
       " (318, 'MADEAGSEADHEGTH+57.021STK'),\n",
       " (318, 'MADEAGSEAD-18.011HEGTHSTK'),\n",
       " (318, 'M+15.995YYSAVDPTK'),\n",
       " (318, 'M+15.995YLGYEYVTAIR'),\n",
       " (318, 'M+15.995TSNFPVDLSDYPK'),\n",
       " (318, 'M+15.995REWFSETFQK'),\n",
       " (318, 'M+15.995LTPEHVFIHPGWK'),\n",
       " (318, 'M+15.995LEEIMKYEASILTHDSSIR'),\n",
       " (318, 'M+15.995KPVPDLVPGNFK'),\n",
       " (318, 'M+15.995GPTELLIEMEDWKGDK'),\n",
       " (318, 'M+15.995GPTELLIEMEDWK'),\n",
       " (318, 'M+15.995FTTAPDQVDKEDEDFQESNK'),\n",
       " (318, 'M+15.995FLSFPTTK'),\n",
       " (318, 'M+15.995ELERPGGNEITR'),\n",
       " (318, 'M+15.995ADEAGSEADHEGTHSTKR'),\n",
       " (318, 'M+15.995ADEAGSEADHEGTHSTK'),\n",
       " (318, 'LYHAFSAM+15.995K'),\n",
       " (318, 'LYH+57.021SEAFTVNFGDTEEAKK'),\n",
       " (318, 'LVRPEVDVMC-33.988TAFHDNEETFLKK'),\n",
       " (318, 'LVRPEVDVMC-33.988TAFHDNEETFLK'),\n",
       " (318, 'LVRPEVDVMC+119.004TAFHDNEETFLKK'),\n",
       " (318, 'LVRPEVDVM+15.995C-33.988TAFHDNEETFLKK'),\n",
       " (318, 'LVRPEVDVM+15.995C-33.988TAFHDNEETFLK'),\n",
       " (318, 'LVRPEVDVM+15.995C+57.021TAFHDNEETFLKK'),\n",
       " (318, 'LVRPEVDVM+15.995C+57.021TAFHDNEETFLK'),\n",
       " (318, 'LVRPEVDVM+15.995C+47.985TAFHDNEETFLK'),\n",
       " (318, 'LVNEVTEFAKT+55.053'),\n",
       " (318, 'LVNEVTEF+15.995AK'),\n",
       " (318, 'LVNEVTE+42.047FAK'),\n",
       " (318, 'LVNE+57.021VTEFAK'),\n",
       " (318, 'LVNE+42.047VTEFAK'),\n",
       " (318, 'LVN-17.027EVTEFAK'),\n",
       " (318, 'LVN+0.984GQSHISLSK'),\n",
       " (318, 'LVN+0.984EVTEFAK'),\n",
       " (318, 'LVHVEEPH+57.021TETVR'),\n",
       " (318, 'LTIGEGQQH+57.021HLGGAK'),\n",
       " (318, 'LSSWVLLM+15.995K'),\n",
       " (318, 'LSSPAVITDK+42.047'),\n",
       " (318, 'LSPLGEEM+15.995RDR'),\n",
       " (318, 'LSPLGEEM+15.995R'),\n",
       " (318, 'LSM+15.995DGSPTR'),\n",
       " (318, 'LSITGTYDLK+42.047'),\n",
       " (318, 'LREQLGPVTQEFW+31.990DNLEK'),\n",
       " (318, 'LQQC+47.985PFEDHVK'),\n",
       " (318, 'LQHLENELTH+57.021DIITK'),\n",
       " (318, 'LQHLEN+0.984ELTHDIITK'),\n",
       " (318, 'LQH+57.021LENELTHDIITK'),\n",
       " (318, 'LNN+0.984GEITQHRK'),\n",
       " (318, 'LNN+0.984GEITQHR'),\n",
       " (318, 'LNHQLEGLTFQM+15.995K'),\n",
       " (318, 'LN+0.984GESNLR'),\n",
       " (318, 'LMIYEVS+14.016K'),\n",
       " (318, 'LM+15.995NIFLK'),\n",
       " (318, 'LLLQQVSLPELPGEYSM+15.995K'),\n",
       " (318, 'LLIYSNN+0.984QRPSGVPDR'),\n",
       " (318, 'LLIYDASN-0.959R'),\n",
       " (318, 'LLIYA-14.016ASSLQSGVPSR'),\n",
       " (318, 'LLIY-76.031WASTR'),\n",
       " (318, 'LLIY-76.031GASSR'),\n",
       " (318, 'LLIY-76.031DASNR'),\n",
       " (318, 'LLDNW+31.990DSVTSTFSK'),\n",
       " (318, 'LLDNW+3.995DSVTSTFSK'),\n",
       " (318, 'LLDNW+15.995DSVTSTFSK'),\n",
       " (318, 'LLDN+0.984WDSVTSTFSK'),\n",
       " (318, 'LKN+0.984SLFEYQK'),\n",
       " (318, 'LISVDTEHSNIYLQN+0.984GPDR'),\n",
       " (318, 'LIC-33.988QATGFSPR'),\n",
       " (318, 'LHIM+15.995AGR'),\n",
       " (318, 'LHDRN+0.984TYEK'),\n",
       " (318, 'LGN+0.984QEPGGQTALK'),\n",
       " (318, 'LGMFNIQHC-33.988K'),\n",
       " (318, 'LGM+15.995FNIQHC+57.021K'),\n",
       " (318, 'LESEETM+15.995VLEAHDAQGDVPVTVTVHDFPGKK'),\n",
       " (318, 'LEDSVTYHC-33.988SR'),\n",
       " (318, 'LEALKEN+0.984GGAR'),\n",
       " (318, 'LEALK+57.021ENGGAR'),\n",
       " (318, 'LDELRDEGK+58.005ASSAK'),\n",
       " (318, 'LDELRDEGK+57.021ASSAK'),\n",
       " (318, 'LDELRDEGK+42.011ASSAK'),\n",
       " (318, 'LDELRDEGK+178.048ASSAK'),\n",
       " (318, 'LDELRDE+42.047GK'),\n",
       " (318, 'LDELRD-18.011EGK'),\n",
       " (318, 'LDEL+15.995RDEGK'),\n",
       " (318, 'LDE+57.021LRDEGK'),\n",
       " (318, 'LDE+42.047LRDEGK'),\n",
       " (318, 'LD-18.011GSVDFKK'),\n",
       " (318, 'LD-18.011ELRDEGK'),\n",
       " (318, 'LC-33.988TVATLR'),\n",
       " (318, 'LC-33.988DNLSTK'),\n",
       " (318, 'LC+24.995TVATLR'),\n",
       " (318, 'LALDN+0.984GGLAR'),\n",
       " (318, 'LAK+57.021TYETTLEK'),\n",
       " (318, 'LAAYLM+15.995LMR'),\n",
       " (318, 'L+15.995DELRDEGK'),\n",
       " (318, 'KWQEEM+15.995ELYR'),\n",
       " (318, 'KVPQ+0.984VSTPTLVEVSR'),\n",
       " (318, 'KQTALVELVK+42.047'),\n",
       " (318, 'KQIN+0.984DYVEK'),\n",
       " (318, 'KQ+0.984TALVELVK'),\n",
       " (318, 'KPELVN+0.984GR'),\n",
       " (318, 'KLIN+0.984DYVK'),\n",
       " (318, 'KGGETSEM+15.995YLIQPDSSVKPYR'),\n",
       " (318, 'KGGETSEM+15.995YLIQPDSSVK'),\n",
       " (318, 'KGDTFSC-33.988MVGHEALPLAFTQK'),\n",
       " (318, 'KEVYIKN+0.984GDK'),\n",
       " (318, 'K+57.021VPQVSTPTLVEVSR'),\n",
       " (318, 'K+57.021QTALVELVK'),\n",
       " (318, 'K+57.021LVAASQAALGL'),\n",
       " (318, 'IYISGM+15.995APR'),\n",
       " (318, 'IVSSAM+15.995EPDREYHFGQAVR'),\n",
       " (318, 'IVEGSDAEIGMSPWQVM+15.995LFR'),\n",
       " (318, 'ITPGKPYILTVPGHLDEM+15.995QLDIQAR'),\n",
       " (318, 'ITC-33.988QGDSLR'),\n",
       " (318, 'IPTTFEN+0.984GR'),\n",
       " (318, 'IPIED-18.011GSGEVVLSR'),\n",
       " (318, 'IMNGEADAM+15.995SLDGGFVYIAGK'),\n",
       " (318, 'IMN+0.984GEADAMSLDGGFVYIAGK'),\n",
       " (318, 'IM+15.995NGEADAMSLDGGFVYIAGK'),\n",
       " (318, 'IM+15.995NGEADAM+15.995SLDGGFVYIAGK'),\n",
       " (318, 'IM+15.995N+0.984GEADAMSLDGGFVYIAGK'),\n",
       " (318, 'ILLQGTPVAQM+15.995TEDAVDAER'),\n",
       " (318, 'IH+57.021LISTQSAIPYALR'),\n",
       " (318, 'IASFSQNC-33.988DIYPGK'),\n",
       " (318, 'HTLNQIDEVK+42.047'),\n",
       " (318, 'HTLN+0.984QIDEVK'),\n",
       " (318, 'HTFMGVVSLGSPS+79.966GEVSHPR'),\n",
       " (318, 'HTFM+15.995GVVSLGSPSGEVSHPR'),\n",
       " (318, 'HSTIFENLANKADRDQYELLC-33.988LDNTR'),\n",
       " (318, 'HRH+57.021PDEAAFFDTASTGK'),\n",
       " (318, 'HQTVPQN+0.984TGGKNPDPWAK'),\n",
       " (318, 'HQTVPQN+0.984TGGK'),\n",
       " (318, 'HQLYIDE+21.982TVNSNIPTNLR'),\n",
       " (318, 'HPYFYAPE+57.021LLFFAK'),\n",
       " (318, 'HNVYIN+0.984GITYTPVSSTNEK'),\n",
       " (318, 'HKVYAC-33.988EVTHQGLSSPVTK'),\n",
       " (318, 'HGTDDGVVWM+15.995NWK'),\n",
       " (318, 'HGSPVDIC-33.988TAKPR'),\n",
       " (318, 'HGGLYHENM+15.995R'),\n",
       " (318, 'H+57.021TLNQIDEVK'),\n",
       " (318, 'H+57.021STIFENLANK'),\n",
       " (318, 'H+57.021RHPDEAAFFDTASTGK'),\n",
       " (318, 'H+57.021QTVPQNTGGK'),\n",
       " (318, 'GTEAAGAMFLEAIPM+15.995SIPPEVK'),\n",
       " (318, 'GTEAAGAM+15.995FLEAIPMSIPPEVK'),\n",
       " (318, 'GTEAAGAM+15.995FLEAIPM+15.995SIPPEVK'),\n",
       " (318, 'GSESGIFTN+0.984TK'),\n",
       " (318, 'GSEM+15.995VVAGK'),\n",
       " (318, 'GQGTLSVVTM+15.995YHAK'),\n",
       " (318, 'GMADQDGLKPTIDKPSEDSPPLEM+15.995LGPR'),\n",
       " (318, 'GM+15.995ADQDGLKPTIDKPSEDSPPLEMLGPR'),\n",
       " (318, 'GLPAPIEK+57.021TISK'),\n",
       " (318, 'GLIDEVN+0.984QDFTNR'),\n",
       " (318, 'GHM+15.995LENHVER'),\n",
       " (318, 'GGSTSYGTGSETE+42.047SPR'),\n",
       " (318, 'GGETSEM+15.995YLIQPDSSVKPYR'),\n",
       " (318, 'GGETSEM+15.995YLIQPDSSVK'),\n",
       " (318, 'GGETAQSADPQWEQLN+0.984NK'),\n",
       " (318, 'GFYPSDIAVEWESN-17.027GQPENNYK'),\n",
       " (318, 'GFSPK+57.021DVLVR'),\n",
       " (318, 'GFSLDEATNLN+0.984GGLLR'),\n",
       " (318, 'GEVQAM+15.995LGQSTEELR'),\n",
       " (318, 'GEP+15.995GDPVNLLR'),\n",
       " (318, 'GDVAFVK+57.021HQTVPQNTGGK'),\n",
       " (318, 'GDFSSAN+0.984NRDNTYNR'),\n",
       " (318, 'GDFSSAN+0.984NR'),\n",
       " (318, 'FVYHLSDLC+119.004KK'),\n",
       " (318, 'FTNIGPDTM+15.995R'),\n",
       " (318, 'FTISRDN+0.984AK'),\n",
       " (318, 'FSGTWYAM+15.995AK'),\n",
       " (318, 'FRVVSM+15.995DENFHPLNELIPLVYIQDPK'),\n",
       " (318, 'FQNALLVR+54.011YTK'),\n",
       " (318, 'FQN-17.027ALLVR'),\n",
       " (318, 'FQN+0.984ALLVR'),\n",
       " (318, 'FPK+57.021AEFAEVSK'),\n",
       " (318, 'FNWYVDGVEVHNAK+42.047'),\n",
       " (318, 'FNWYVDGVEVHN-17.027AK'),\n",
       " (318, 'FNWYVDGVEVHN+0.984AK'),\n",
       " (318, 'FNWYVDGVEVH+57.021NAK'),\n",
       " (318, 'FNWYVD-18.011GVEVHNAK'),\n",
       " (318, 'FNW+31.990YVDGVEVHNAK'),\n",
       " (318, 'FNW+3.995YVDGVEVHNAK'),\n",
       " (318, 'FM+15.995ETVAEK'),\n",
       " (318, 'FLEN+0.984EDRR'),\n",
       " (318, 'FKN+0.984GMLHGDK'),\n",
       " (318, 'FKN+0.984GM+15.995LHGDK'),\n",
       " (318, 'FKDLGEENFKALVLIAFAQYLQQC+63.962PFEDHVK'),\n",
       " (318, 'FKDLGEENFKALVLIAFAQYLQQC+47.985PFEDHVK'),\n",
       " (318, 'FKDLGEEN+0.984FK'),\n",
       " (318, 'FK+57.021DLGEENFK'),\n",
       " (318, 'FFESFGDLSTPDAVM+15.995GNPK'),\n",
       " (318, 'FDEFFSEGC-33.988APGSKK'),\n",
       " (318, 'FDEFFSEGC-33.988APGSK'),\n",
       " (318, 'FDEFFSEGC+119.004APGSKKDSSL'),\n",
       " (318, 'EYSGTIASEANTYLN+0.984SK'),\n",
       " (318, 'EVYIKN+0.984GDKK'),\n",
       " (318, 'EVYIKN+0.984GDK'),\n",
       " (318, 'EVQLVESGGG+58.005LVQPGGSLR'),\n",
       " (318, 'EVQ+9.000LVESGGGLVQPGGSLR'),\n",
       " (318, 'EVPLNTIIFM+15.995GR'),\n",
       " (318, 'ETEGLRQEM+15.995SK'),\n",
       " (318, 'ETC-33.988FAEEGKK'),\n",
       " (318, 'ETC-33.988FAEEGK'),\n",
       " (318, 'ETC+47.985FAEEGKK'),\n",
       " (318, 'ETC+119.004FAEEGKK'),\n",
       " (318, 'ESSSHHP+15.995GIAEFPSR'),\n",
       " (318, 'EQLQDM+15.995GLVDLFSPEK'),\n",
       " (318, 'EQLK+57.021AVMDDFAAFVEK'),\n",
       " (318, 'EPQVYTLPPSREEM+15.995TK'),\n",
       " (318, 'EPC-33.988VESLVSQYFQTVTDYGK'),\n",
       " (318, 'EPC+47.985VESLVSQYFQTVTDYGK'),\n",
       " (318, 'EPC+119.004VESLVSQYFQTVTDYGK'),\n",
       " (318, 'EPAHLMSLFGGKPM+15.995IIYK'),\n",
       " (318, 'ELTPEVLQEWLDELEEMMLVVHM+15.995PR'),\n",
       " (318, 'ELTPEVLQEWLDELEEMM+15.995LVVHMPR'),\n",
       " (318, 'ELD-18.011RDTVFALVNYIFFK'),\n",
       " (318, 'EK+57.021VTSGSTTTTR'),\n",
       " (318, 'EIVM+15.995TQSPATLSVSPGER'),\n",
       " (318, 'EIVLTQSPGTLSLSPGE-14.016R'),\n",
       " (318, 'EIQNAVN+0.984GVK'),\n",
       " (318, 'EIM+15.995ENYNIALR'),\n",
       " (318, 'EIFNM+15.995AR'),\n",
       " (318, 'EHAVEGDC-33.988DFQLLK'),\n",
       " (318, 'EGFGHLSPTGTTEFWLGN+0.984EK'),\n",
       " (318, 'EFQLFSSPHGK+57.021DLLFK'),\n",
       " (318, 'EFQLFSSPHGK+57.021'),\n",
       " (318, 'EFQLFSSPHGK+42.047'),\n",
       " (318, 'EFNAETFTFHADIC-33.988TLSEKER'),\n",
       " (318, 'EFNAETFTFHADIC-33.988TLSEK'),\n",
       " (318, 'EFNAETFTFHADIC+24.995TLSEK'),\n",
       " (318, 'EFNAETFTFHADIC+119.004TLSEK'),\n",
       " (318, 'EFM+15.995SQGNK'),\n",
       " (318, 'EFDHN+0.984SNIR'),\n",
       " (318, 'EDPQ+0.984GDAAQK'),\n",
       " (318, 'ED-18.011PQGDAAQKTDTSHHDQDHPTFNK'),\n",
       " (318, 'ED-18.011PQGDAAQK'),\n",
       " (318, 'ED-18.011LIWELLNQAQEHFGK'),\n",
       " (318, 'E+42.047DPQGDAAQK'),\n",
       " (318, 'DWHGVPGQVDAAM+15.995AGR'),\n",
       " (318, 'DVFLGM+15.995FLYEYAR'),\n",
       " (318, 'DTLM+15.995ISR'),\n",
       " (318, 'DSHSLTTNIM+15.995EILR'),\n",
       " (318, 'DSH+57.021SLTTNIMEILR'),\n",
       " (318, 'DSGRDYVSQFEGSALGK+57.021QLNLK'),\n",
       " (318, 'DSGRDYVSQ+0.984FEGSALGK'),\n",
       " (318, 'DSGFQMN+0.984QLR'),\n",
       " (318, 'DSGFQM+15.995NQLR'),\n",
       " (318, 'DSAH+57.021GFLK'),\n",
       " (318, 'DS+27.011ERPSGIPER'),\n",
       " (318, 'DQTVSDNELQEM+15.995SNQGSK'),\n",
       " (318, 'DNENVVN+0.984EYSSELEK'),\n",
       " (318, 'DMYSFLEDM+15.995GLK'),\n",
       " (318, 'DM+15.995YSFLEDMGLK'),\n",
       " (318, 'DLLFRDDTVC-33.988LAK'),\n",
       " (318, 'DLLFRDDTVC+119.004LAK'),\n",
       " (318, 'DLLFK+57.021DSAHGFLK'),\n",
       " (318, 'DLGEEN+0.984FK'),\n",
       " (318, 'DLEIEVVLFHPNYNIN+0.984GKK'),\n",
       " (318, 'DLATVYVDVLK+57.021DSGRDYVSQFEGSALGK'),\n",
       " (318, 'DKC+47.985EPLEK'),\n",
       " (318, 'DKC+119.004EPLEK'),\n",
       " (318, 'DIVM+15.995TQSPDSLAVSLGER'),\n",
       " (318, 'DIQM+15.995TQSPSSLSASVGDR'),\n",
       " (318, 'DGAGDVAFVKH-8.964'),\n",
       " (318, 'DEM+15.995PADLPSLAADFVESK'),\n",
       " (318, 'DDTVC-33.988LAKLHDR'),\n",
       " (318, 'DC-33.988QDIANK'),\n",
       " (318, 'DC-33.988HLAQVPSHTVVAR'),\n",
       " (318, 'DC+119.004QDIANK'),\n",
       " (318, 'DC+119.004HLAQVPSHTVVAR'),\n",
       " (318, 'DALSSVQE+21.982SQVAQQAR'),\n",
       " (318, 'DAHK+57.021SEVAHR'),\n",
       " (318, 'DAHK+43.006SEVAHR'),\n",
       " (318, 'D-18.011GAGDVAFVK'),\n",
       " (318, 'D-18.011DNPNLPR'),\n",
       " (318, 'C+57.021PLM+15.995VK'),\n",
       " (318, 'C+24.995QVTHEGSTVEK'),\n",
       " (318, 'C+24.995ENQDSISSK'),\n",
       " (318, 'C+119.004TESLVNRRPC+57.021FSALEVDETYVPK'),\n",
       " (318, 'AVMDDFAAFVEKC+25.086'),\n",
       " (318, 'AVMDDFAAFVEK+57.021'),\n",
       " (318, 'AVMDD-18.011FAAFVEK'),\n",
       " (318, 'AVM-48.003DDFAAFVEK'),\n",
       " (318, 'AVM-29.993DDFAAFVEK'),\n",
       " (318, 'AVM+15.995DDFAAFVEK'),\n",
       " (318, 'AVM+15.995D-18.011DFAAFVEK'),\n",
       " (318, 'AVDQSVLLM+15.995KPDAELSASSVYNLLPEK'),\n",
       " (318, 'ATEHLSTLSEK+57.021AKPALEDLR'),\n",
       " (318, 'ATEH+57.021LSTLSEK'),\n",
       " (318, 'ATE+57.021HLSTLSEK'),\n",
       " (318, 'ASTLQ+0.984SGVPSR'),\n",
       " (318, 'AREDIFM+15.995ETLK'),\n",
       " (318, 'AQLVDM+15.995K'),\n",
       " (318, 'APNH+57.021AVVTR'),\n",
       " (318, 'APN+0.984HAVVTR'),\n",
       " (318, 'ANTVQEATFQM+15.995ELPKK'),\n",
       " (318, 'ANTVQEATFQM+15.995ELPK'),\n",
       " (318, 'ALYWVN+0.984GQVPDGVSK'),\n",
       " (318, 'ALVQQM+15.995EQLR'),\n",
       " (318, 'ALVLIAFAQYLQQC-33.988PFEDHVK'),\n",
       " (318, 'ALVLIAFAQYLQQC+63.962PFEDHVK'),\n",
       " (318, 'ALVLIAFAQYLQQC+47.985PFEDHVK'),\n",
       " (318, 'ALVLIAFAQYLQQC+119.004PFEDHVK'),\n",
       " (318, 'ALTDMPQM+15.995R'),\n",
       " (318, 'ALTDM+15.995PQMR'),\n",
       " (318, 'ALTDM+15.995PQM+15.995R'),\n",
       " (318, 'ALPAPIEK+57.021TISK'),\n",
       " (318, 'ALMDETM+15.995K'),\n",
       " (318, 'AKPALED-18.011LR'),\n",
       " (318, 'AIQLTYNPDESSKPNM+15.995IDAATLK'),\n",
       " (318, 'AHYGGFTVQN+0.984EANK'),\n",
       " (318, 'AH+57.021YGGFTVQNEANK'),\n",
       " (318, 'AGVETTTPSKQSN+0.984NK'),\n",
       " (318, 'AGVETTTPSK+57.021QSNNK'),\n",
       " (318, 'AGVETTTPSK+42.047'),\n",
       " (318, 'AGVETTT-30.011PSK'),\n",
       " (318, 'AGVETT-14.016TPSK'),\n",
       " (318, 'AGDFLEANYM+15.995NLQR'),\n",
       " (318, 'AEFAEVSK+57.021LVTDLTK'),\n",
       " (318, 'AEFAEVS-18.011K'),\n",
       " (318, 'AEF+15.995AEVSK'),\n",
       " (318, 'AEDLVGKSLYVSATVILHSGSDM+15.995VQAER'),\n",
       " (318, 'ADSSPVK+57.021AGVETTTPSK'),\n",
       " (318, 'ADRDQYELLC-33.988LDNTR'),\n",
       " (318, 'ADDKETC-33.988FAEEGKK'),\n",
       " (318, 'ADDKETC-33.988FAEEGK'),\n",
       " (318, 'ADDKETC+47.985FAEEGKK'),\n",
       " (318, 'ADDKETC+24.995FAEEGKK'),\n",
       " (318, 'ADDKETC+119.004FAEEGK'),\n",
       " (318, 'AAFTEC+57.021C-33.988QAADK'),\n",
       " (318, 'AADDTWEPFASGKT+27.047'),\n",
       " (318, 'AAC-33.988LLPKLDELRDEGK'),\n",
       " (318, '-18.011ESSSHHPGIAEFPSR'),\n",
       " (318, '-18.011ELPEHTVK'),\n",
       " (318, '-18.011ELAAQTIKK'),\n",
       " (318, '-18.011EIVLTQSPGTLSLSPGER'),\n",
       " (318, '-18.011EHVAHLLFLR'),\n",
       " (318, '-18.011EFQLFSSPHGK'),\n",
       " (318, '-18.011EFDHNSNIR'),\n",
       " (318, '-18.011EALKLEEK'),\n",
       " (318, '-17.027QYTDSTFRVPVER'),\n",
       " (318, '-17.027QVVAGLNFR'),\n",
       " (318, '-17.027QVTHEGSTVEK'),\n",
       " (318, '-17.027QVQLVQSGSELK'),\n",
       " (318, '-17.027QVQLVQSGAEVK'),\n",
       " (318, '-17.027QVQLVESGGGVVQPGR'),\n",
       " (318, '-17.027QVQLQESGPGLVK'),\n",
       " (318, '-17.027QVHLVQSGAEVK'),\n",
       " (318, '-17.027QTVSWAVTPK'),\n",
       " (318, '-17.027QTHQPPAPNSLIR'),\n",
       " (318, '-17.027QTALVELVK'),\n",
       " (318, '-17.027QSVLTQPPSVSAAPGQK'),\n",
       " (318, '-17.027QSVLTQPPSASGTPGQR'),\n",
       " (318, '-17.027QSGLYFIK'),\n",
       " (318, '-17.027QSALTQPR'),\n",
       " (318, '-17.027QQTHMLDVMQDHFSR'),\n",
       " (318, '-17.027QQNAQGGFSSTQDTVVALHALSK'),\n",
       " (318, '-17.027QPSSAFAAFVK'),\n",
       " (318, '-17.027QPQFISR'),\n",
       " (318, '-17.027QNC+57.021ELFEQLGEYK'),\n",
       " (318, '-17.027QLYNVEATSYALLALLQLK'),\n",
       " (318, '-17.027QLVHHFEIDVDIFEPQGISK'),\n",
       " (318, '-17.027QLNEINYEDHK'),\n",
       " (318, '-17.027QLGLPGPPDVPDHAAYHPFR'),\n",
       " (318, '-17.027QLEQVIAK'),\n",
       " (318, '-17.027QKWEAEPVYVQR'),\n",
       " (318, '-17.027QKVEPLRAELQEGAR'),\n",
       " (318, '-17.027QKVEPLR'),\n",
       " (318, '-17.027QKPDGVFQEDAPVIHQEMIGGLR'),\n",
       " (318, '-17.027QIQVSWLR'),\n",
       " (318, '-17.027QINDYVEK'),\n",
       " (318, '-17.027QHLPLIK'),\n",
       " (318, '-17.027QGVNDNEEGFFSAR'),\n",
       " (318, '-17.027QGLLPVLESFKVSFLSALEEYTK'),\n",
       " (318, '-17.027QGLLPVLESFK'),\n",
       " (318, '-17.027QGIPFFGQVR'),\n",
       " (318, '-17.027QGHNSVFLIK'),\n",
       " (318, '-17.027QGHN+0.984SVFLIK'),\n",
       " (318, '-17.027QGFGNVATNTDGK'),\n",
       " (318, '-17.027QGALELIK'),\n",
       " (318, '-17.027QFTSSTSYNRGDSTFESK'),\n",
       " (318, '-17.027QFPILLDFK'),\n",
       " (318, '-17.027QEPSQGTTTFAVTSILR'),\n",
       " (318, '-17.027QEPERNEC+57.021FLQHKDDNPNLPR'),\n",
       " (318, '-17.027QEPERNEC+57.021FLQHK'),\n",
       " (318, '-17.027QDGSVDFGRK'),\n",
       " (318, '-17.027QDGSVDFGR'),\n",
       " (318, '+57.021VFDEFKPLVEEPQNLIK'),\n",
       " (318, '+57.021LVNEVTEFAK'),\n",
       " (318, '+57.021LDELRDEGK'),\n",
       " (318, '+57.021FQNALLVR'),\n",
       " (318, '+27.995LVNEVTEFAK'),\n",
       " (318, '+27.995KQTALVELVK'),\n",
       " (318, '+12.000LVNEVTEFAK'),\n",
       " (318, '+12.000FQNALLVR'),\n",
       " (317, 'YVGGQEH+57.021FAHLLILR')]"
      ]
     },
     "execution_count": 91,
     "metadata": {},
     "output_type": "execute_result"
    }
   ],
   "source": [
    "pCounts.reverse()\n",
    "pCounts[:620]"
   ]
  },
  {
   "cell_type": "code",
   "execution_count": 95,
   "metadata": {},
   "outputs": [
    {
     "data": {
      "text/plain": [
       "[(22547750000, 'DVFLGM+15.995FLYEYAR'),\n",
       " (21307500000, '+43.006C+58.005TESLVNR'),\n",
       " (20906000000, 'VVSVLTVLHQDW+17.991LN-16.990GK'),\n",
       " (20126000000, 'AEFAEVSK+42.047'),\n",
       " (19390000000, 'VFDEFKPLVEEPQ+0.984NLIK'),\n",
       " (19230000000, 'LVN+0.984EVTEFAK'),\n",
       " (19047000000, 'VVSVLTVLHQ+19.010D-18.011WLNGK'),\n",
       " (18864000000, 'ETEGLRQEM+16.028SK'),\n",
       " (18381625000, 'ETEGLRQEM+15.995SK'),\n",
       " (17832225000, 'VVSVLTVLHQDWLN+0.984GK'),\n",
       " (17670000000, 'C+31.990C+57.021E+37.956KPLLEK'),\n",
       " (17577500000, '+27.995C+57.021T+15.995ESLVNR'),\n",
       " (17241500000, 'VFSN+0.984GADLSGVTEEAPLK'),\n",
       " (16977500000, 'DTLM+15.995ISR'),\n",
       " (15871000000, 'QTALVELVKH-8.964'),\n",
       " (15599000000, 'VVSVLTVLHQ+0.984DWLNGK'),\n",
       " (15209650000, '-17.027QGLLPVLESFK'),\n",
       " (15143000000, 'DVFLGM+16.028FLYEYAR'),\n",
       " (14992250000, 'LSPLGEEM+15.995RDR'),\n",
       " (14403373333, 'VFDEFKPLVEEPQN+0.984LIK')]"
      ]
     },
     "execution_count": 95,
     "metadata": {},
     "output_type": "execute_result"
    }
   ],
   "source": [
    "pHigh[:20]"
   ]
  },
  {
   "cell_type": "code",
   "execution_count": 96,
   "metadata": {},
   "outputs": [
    {
     "data": {
      "text/plain": [
       "[(10221774482.704403, 'DTLM+15.995ISR'),\n",
       " (8561755845.544025, 'VVSVLTVLHQDWLN+0.984GK'),\n",
       " (8104795220.91195, 'ETEGLRQEM+15.995SK'),\n",
       " (7286033878.144654, 'AVM+15.995DDFAAFVEK'),\n",
       " (6589125526.773585, 'AEFAEVSK+42.047'),\n",
       " (6461229646.226415, '-17.027QHLPLIK'),\n",
       " (6459944716.9811325, 'VFSN+0.984GADLSGVTEEAPLK'),\n",
       " (5980347654.795597, 'LSPLGEEM+15.995RDR'),\n",
       " (5976378734.27673, 'RPC-33.988FSALEVDETYVPK'),\n",
       " (5767392362.704403, 'DVFLGM+15.995FLYEYAR'),\n",
       " (5579700956.053459, '-17.027QGLLPVLESFK'),\n",
       " (5396870665.880503, '-17.027QTALVELVK'),\n",
       " (5329950116.798742, '+12.000C+57.021TESLVNR'),\n",
       " (5244984847.562893, 'YIC-33.988ENQDSISSK'),\n",
       " (5140524043.342768, '+43.006C+58.005TESLVNR'),\n",
       " (4933536894.654088, 'EFNAETFTFHADIC-33.988TLSEK'),\n",
       " (4906313474.056603, 'SM+15.995GGKEDLIWELLNQAQEHFGK'),\n",
       " (4382400487.163522, 'LVN+0.984EVTEFAK'),\n",
       " (4297733938.679245, 'FQN+0.984ALLVR'),\n",
       " (4276837507.075472, 'KWQEEM+15.995ELYR')]"
      ]
     },
     "execution_count": 96,
     "metadata": {},
     "output_type": "execute_result"
    }
   ],
   "source": [
    "pAvg[:20]"
   ]
  },
  {
   "cell_type": "markdown",
   "metadata": {},
   "source": [
    "There are 20860 peptides that do not appear in any patients and 620 peptides that appear in all patients."
   ]
  },
  {
   "cell_type": "code",
   "execution_count": null,
   "metadata": {},
   "outputs": [],
   "source": []
  },
  {
   "cell_type": "markdown",
   "metadata": {
    "id": "SsEhUpoaJalC"
   },
   "source": [
    "---"
   ]
  },
  {
   "cell_type": "markdown",
   "metadata": {
    "id": "iFUA7k1jGkcH"
   },
   "source": [
    "### <font color='blue'>**Creating Train/Test Datasets**"
   ]
  },
  {
   "cell_type": "code",
   "execution_count": 13,
   "metadata": {
    "executionInfo": {
     "elapsed": 16366,
     "status": "ok",
     "timestamp": 1620771637163,
     "user": {
      "displayName": "Sasya Reddi",
      "photoUrl": "",
      "userId": "02400148251831989501"
     },
     "user_tz": 420
    },
    "id": "RDvKXyObuR1_"
   },
   "outputs": [],
   "source": [
    "class PatientDiffLoader(Dataset):\n",
    "    # UNTESTED !!!\n",
    "    def __init__(self, path):\n",
    "        self.data = Data.fromFilePath(path)\n",
    "    def __len__(self):\n",
    "        return len(self.data.patient)\n",
    "\n",
    "    def __getitem__(self, idx, mode=\"same_patient\"):\n",
    "        diff = bool(random.getrandbits(1))\n",
    "        \n",
    "        #print(self.data.patient[idx])\n",
    "        pid = int(self.data.patient[idx][8:10])\n",
    "        tp = int(self.data.patient[idx][21])\n",
    "\n",
    "        label = None\n",
    "        data_1 = self.data.get_patient_from_index(idx)\n",
    "        data_2 = None\n",
    "        if diff:\n",
    "            #different class\n",
    "            label = 0.0\n",
    "\n",
    "            #get a differnt pid\n",
    "            diff_pid = -1\n",
    "            while True:\n",
    "                diff_pid = random.randint(1,58) #there is 58 patients? TODO: make sure it's 58\n",
    "                if diff_pid != pid:\n",
    "                    break\n",
    "\n",
    "            #get diff data\n",
    "            random_diff = f\"Patient_{diff_pid:02d}.Timepoint_{random.randint(1,7)}\"\n",
    "            data_2 = self.data.get_patient( random_diff )\n",
    "            \n",
    "        else:\n",
    "            #same class\n",
    "            label = 1.0\n",
    "            random_same = f\"Patient_{pid:02d}.Timepoint_{random.randint(1,7)}\"\n",
    "            data_2 = self.data.get_patient( random_same )\n",
    "\n",
    "        return data_1, data_2, torch.from_numpy(np.array([label], dtype=np.float32))"
   ]
  },
  {
   "cell_type": "code",
   "execution_count": 14,
   "metadata": {
    "executionInfo": {
     "elapsed": 22261,
     "status": "ok",
     "timestamp": 1620771643065,
     "user": {
      "displayName": "Sasya Reddi",
      "photoUrl": "",
      "userId": "02400148251831989501"
     },
     "user_tz": 420
    },
    "id": "x9vAdWmSJ1On"
   },
   "outputs": [],
   "source": [
    "full_dataset = PatientDiffLoader(\"./drive/Shareddrives/CSE 291C/Data/peptidoforms_intensity/data.tsv\")"
   ]
  },
  {
   "cell_type": "code",
   "execution_count": 15,
   "metadata": {
    "colab": {
     "base_uri": "https://localhost:8080/"
    },
    "executionInfo": {
     "elapsed": 22256,
     "status": "ok",
     "timestamp": 1620771643071,
     "user": {
      "displayName": "Sasya Reddi",
      "photoUrl": "",
      "userId": "02400148251831989501"
     },
     "user_tz": 420
    },
    "id": "7R5Yei64jNEI",
    "outputId": "732e770a-3bd7-410d-8db0-2b1e73d2cebe"
   },
   "outputs": [
    {
     "data": {
      "text/plain": [
       "318"
      ]
     },
     "execution_count": 15,
     "metadata": {
      "tags": []
     },
     "output_type": "execute_result"
    }
   ],
   "source": [
    "full_dataset.__len__()"
   ]
  },
  {
   "cell_type": "code",
   "execution_count": 16,
   "metadata": {
    "colab": {
     "base_uri": "https://localhost:8080/"
    },
    "executionInfo": {
     "elapsed": 22485,
     "status": "ok",
     "timestamp": 1620771643312,
     "user": {
      "displayName": "Sasya Reddi",
      "photoUrl": "",
      "userId": "02400148251831989501"
     },
     "user_tz": 420
    },
    "id": "CMQxCMXxuR2B",
    "outputId": "fd63800e-e67f-4dd0-8014-8e024b150421"
   },
   "outputs": [
    {
     "name": "stdout",
     "output_type": "stream",
     "text": [
      "'Patient_04.Timepoint_6' is not in list\n",
      "'Patient_18.Timepoint_4' is not in list\n",
      "'Patient_55.Timepoint_3' is not in list\n",
      "'Patient_51.Timepoint_6' is not in list\n",
      "'Patient_32.Timepoint_1' is not in list\n",
      "'Patient_55.Timepoint_7' is not in list\n",
      "'Patient_04.Timepoint_5' is not in list\n",
      "'Patient_50.Timepoint_3' is not in list\n",
      "'Patient_32.Timepoint_1' is not in list\n",
      "'Patient_53.Timepoint_3' is not in list\n",
      "'Patient_18.Timepoint_3' is not in list\n",
      "'Patient_24.Timepoint_7' is not in list\n",
      "'Patient_55.Timepoint_6' is not in list\n",
      "'Patient_24.Timepoint_5' is not in list\n",
      "'Patient_49.Timepoint_6' is not in list\n",
      "'Patient_56.Timepoint_5' is not in list\n",
      "'Patient_13.Timepoint_4' is not in list\n",
      "'Patient_18.Timepoint_5' is not in list\n",
      "'Patient_31.Timepoint_3' is not in list\n",
      "'Patient_54.Timepoint_3' is not in list\n",
      "'Patient_56.Timepoint_4' is not in list\n",
      "'Patient_31.Timepoint_6' is not in list\n",
      "'Patient_50.Timepoint_7' is not in list\n",
      "'Patient_33.Timepoint_4' is not in list\n",
      "'Patient_33.Timepoint_4' is not in list\n",
      "'Patient_18.Timepoint_7' is not in list\n",
      "'Patient_55.Timepoint_3' is not in list\n",
      "'Patient_35.Timepoint_3' is not in list\n",
      "'Patient_24.Timepoint_4' is not in list\n",
      "'Patient_24.Timepoint_6' is not in list\n",
      "'Patient_54.Timepoint_5' is not in list\n",
      "'Patient_50.Timepoint_7' is not in list\n",
      "'Patient_54.Timepoint_5' is not in list\n",
      "'Patient_51.Timepoint_7' is not in list\n",
      "'Patient_24.Timepoint_3' is not in list\n",
      "'Patient_13.Timepoint_7' is not in list\n",
      "'Patient_18.Timepoint_5' is not in list\n",
      "'Patient_13.Timepoint_5' is not in list\n",
      "'Patient_49.Timepoint_4' is not in list\n",
      "'Patient_49.Timepoint_6' is not in list\n",
      "'Patient_50.Timepoint_4' is not in list\n",
      "'Patient_18.Timepoint_6' is not in list\n",
      "'Patient_51.Timepoint_4' is not in list\n",
      "'Patient_53.Timepoint_5' is not in list\n",
      "'Patient_53.Timepoint_7' is not in list\n",
      "'Patient_54.Timepoint_3' is not in list\n",
      "'Patient_04.Timepoint_3' is not in list\n",
      "'Patient_49.Timepoint_3' is not in list\n"
     ]
    }
   ],
   "source": [
    "X = []\n",
    "Y = []\n",
    "\n",
    "for i in range(full_dataset.__len__()):\n",
    "  try:\n",
    "    data_1, data_2, label = full_dataset.__getitem__(i)\n",
    "    X.append(data_1 + data_2)\n",
    "    Y.append(label)\n",
    "  except Exception as e:\n",
    "    print(e)\n",
    "    i -= 1"
   ]
  },
  {
   "cell_type": "code",
   "execution_count": 17,
   "metadata": {
    "executionInfo": {
     "elapsed": 22992,
     "status": "ok",
     "timestamp": 1620771643831,
     "user": {
      "displayName": "Sasya Reddi",
      "photoUrl": "",
      "userId": "02400148251831989501"
     },
     "user_tz": 420
    },
    "id": "RHAlNxalYuNN"
   },
   "outputs": [],
   "source": [
    "from sklearn.model_selection import train_test_split\n",
    "\n",
    "X_train, X_test, y_train, y_test = train_test_split(X, Y, test_size=0.2)"
   ]
  },
  {
   "cell_type": "code",
   "execution_count": 18,
   "metadata": {
    "colab": {
     "base_uri": "https://localhost:8080/"
    },
    "executionInfo": {
     "elapsed": 22981,
     "status": "ok",
     "timestamp": 1620771643833,
     "user": {
      "displayName": "Sasya Reddi",
      "photoUrl": "",
      "userId": "02400148251831989501"
     },
     "user_tz": 420
    },
    "id": "qLPqHZ1xZbSP",
    "outputId": "242a86b6-f01b-4d1b-acd6-05553bf4baed"
   },
   "outputs": [
    {
     "data": {
      "text/plain": [
       "216"
      ]
     },
     "execution_count": 18,
     "metadata": {
      "tags": []
     },
     "output_type": "execute_result"
    }
   ],
   "source": [
    "len(X_train)"
   ]
  },
  {
   "cell_type": "code",
   "execution_count": 19,
   "metadata": {
    "executionInfo": {
     "elapsed": 22966,
     "status": "ok",
     "timestamp": 1620771643841,
     "user": {
      "displayName": "Sasya Reddi",
      "photoUrl": "",
      "userId": "02400148251831989501"
     },
     "user_tz": 420
    },
    "id": "tPdU_P3xZmWd"
   },
   "outputs": [],
   "source": [
    "X = X_train\n",
    "Y = y_train\n",
    "X_V = X_test\n",
    "Y_V = y_test"
   ]
  },
  {
   "cell_type": "markdown",
   "metadata": {
    "id": "h7AWhg0RJXeQ"
   },
   "source": [
    "---"
   ]
  },
  {
   "cell_type": "markdown",
   "metadata": {
    "id": "umXAXRbXG_GF"
   },
   "source": [
    "### <font color='blue'>**Logistic Regression (Rohan)**"
   ]
  },
  {
   "cell_type": "code",
   "execution_count": 20,
   "metadata": {
    "colab": {
     "base_uri": "https://localhost:8080/"
    },
    "executionInfo": {
     "elapsed": 24978,
     "status": "ok",
     "timestamp": 1620771645876,
     "user": {
      "displayName": "Sasya Reddi",
      "photoUrl": "",
      "userId": "02400148251831989501"
     },
     "user_tz": 420
    },
    "id": "5O4CnNvwuR2B",
    "outputId": "5befe4e5-cde3-4742-eaa6-1910f24f437b"
   },
   "outputs": [
    {
     "data": {
      "text/plain": [
       "LogisticRegression(C=1.0, class_weight=None, dual=False, fit_intercept=True,\n",
       "                   intercept_scaling=1, l1_ratio=None, max_iter=100000,\n",
       "                   multi_class='auto', n_jobs=None, penalty='l2',\n",
       "                   random_state=None, solver='lbfgs', tol=0.0001, verbose=0,\n",
       "                   warm_start=False)"
      ]
     },
     "execution_count": 20,
     "metadata": {
      "tags": []
     },
     "output_type": "execute_result"
    }
   ],
   "source": [
    "import sklearn\n",
    "from sklearn.linear_model import LogisticRegression\n",
    "model = LogisticRegression(solver='lbfgs', max_iter=100000)\n",
    "model.fit(X, Y)"
   ]
  },
  {
   "cell_type": "code",
   "execution_count": 21,
   "metadata": {
    "executionInfo": {
     "elapsed": 24959,
     "status": "ok",
     "timestamp": 1620771645878,
     "user": {
      "displayName": "Sasya Reddi",
      "photoUrl": "",
      "userId": "02400148251831989501"
     },
     "user_tz": 420
    },
    "id": "wf7rm8Sz4RmV"
   },
   "outputs": [],
   "source": [
    "from sklearn.metrics import confusion_matrix\n",
    "from sklearn.metrics import classification_report\n",
    "\n",
    "# helper method to print basic model metrics\n",
    "def metrics(y_true, y_pred):\n",
    "    print('Confusion matrix:\\n', confusion_matrix(y_true, y_pred))\n",
    "    print('\\nReport:\\n', classification_report(y_true, y_pred))"
   ]
  },
  {
   "cell_type": "code",
   "execution_count": 22,
   "metadata": {
    "colab": {
     "base_uri": "https://localhost:8080/"
    },
    "executionInfo": {
     "elapsed": 24943,
     "status": "ok",
     "timestamp": 1620771645880,
     "user": {
      "displayName": "Sasya Reddi",
      "photoUrl": "",
      "userId": "02400148251831989501"
     },
     "user_tz": 420
    },
    "id": "SdNh69ui4Wal",
    "outputId": "f40380dd-6b0b-4579-f726-eb2785d0b13f"
   },
   "outputs": [
    {
     "name": "stdout",
     "output_type": "stream",
     "text": [
      "Confusion matrix:\n",
      " [[12 16]\n",
      " [14 12]]\n",
      "\n",
      "Report:\n",
      "               precision    recall  f1-score   support\n",
      "\n",
      "         0.0       0.46      0.43      0.44        28\n",
      "         1.0       0.43      0.46      0.44        26\n",
      "\n",
      "    accuracy                           0.44        54\n",
      "   macro avg       0.45      0.45      0.44        54\n",
      "weighted avg       0.45      0.44      0.44        54\n",
      "\n"
     ]
    }
   ],
   "source": [
    "logreg_acc = []\n",
    "\n",
    "y_pred = model.predict(X_V) \n",
    "metrics(Y_V, y_pred) # finally evaluate performance\n",
    "logreg_acc.append(sklearn.metrics.accuracy_score(Y_V, y_pred))\n",
    "#logreg_acc.append(model.score(Y_V, y_pred))"
   ]
  },
  {
   "cell_type": "markdown",
   "metadata": {
    "id": "wjg9qVJCFCjz"
   },
   "source": [
    "---"
   ]
  },
  {
   "cell_type": "code",
   "execution_count": 23,
   "metadata": {
    "colab": {
     "base_uri": "https://localhost:8080/"
    },
    "executionInfo": {
     "elapsed": 24918,
     "status": "ok",
     "timestamp": 1620771645883,
     "user": {
      "displayName": "Sasya Reddi",
      "photoUrl": "",
      "userId": "02400148251831989501"
     },
     "user_tz": 420
    },
    "id": "OF9aWd0YF0n0",
    "outputId": "0a084cda-80c3-44ce-93a5-a656dcaa1f4d"
   },
   "outputs": [
    {
     "name": "stdout",
     "output_type": "stream",
     "text": [
      "216\n",
      "216\n",
      "54\n",
      "54\n"
     ]
    }
   ],
   "source": [
    "print(len(X))\n",
    "print(len(Y))\n",
    "print(len(X_V))\n",
    "print(len(Y_V))"
   ]
  },
  {
   "cell_type": "code",
   "execution_count": 24,
   "metadata": {
    "colab": {
     "base_uri": "https://localhost:8080/"
    },
    "executionInfo": {
     "elapsed": 24891,
     "status": "ok",
     "timestamp": 1620771645884,
     "user": {
      "displayName": "Sasya Reddi",
      "photoUrl": "",
      "userId": "02400148251831989501"
     },
     "user_tz": 420
    },
    "id": "Zk4anYXFGUZG",
    "outputId": "e99877e0-00a2-4392-ac35-cccbf010e1c4"
   },
   "outputs": [
    {
     "name": "stdout",
     "output_type": "stream",
     "text": [
      "(216, 40921)\n"
     ]
    }
   ],
   "source": [
    "from numpy import array\n",
    "\n",
    "a = array(X)\n",
    "print(a.shape)"
   ]
  },
  {
   "cell_type": "markdown",
   "metadata": {
    "id": "myLB3qHTJQ54"
   },
   "source": [
    "---"
   ]
  },
  {
   "cell_type": "markdown",
   "metadata": {
    "id": "zVC31stFHIgy"
   },
   "source": [
    "### <font color='blue'>**PCA + Logistic Regression**"
   ]
  },
  {
   "cell_type": "markdown",
   "metadata": {
    "id": "8QhrY9l7I38m"
   },
   "source": [
    "##### **99% Information**"
   ]
  },
  {
   "cell_type": "code",
   "execution_count": 25,
   "metadata": {
    "colab": {
     "base_uri": "https://localhost:8080/"
    },
    "executionInfo": {
     "elapsed": 27242,
     "status": "ok",
     "timestamp": 1620771648260,
     "user": {
      "displayName": "Sasya Reddi",
      "photoUrl": "",
      "userId": "02400148251831989501"
     },
     "user_tz": 420
    },
    "id": "kHEDRlxRGFha",
    "outputId": "bcb4dfe7-95e5-4f21-c829-5d7019f7ac1e"
   },
   "outputs": [
    {
     "name": "stdout",
     "output_type": "stream",
     "text": [
      "Initial Dimension - (216, 40921)\n",
      "Transformed Dimension - (216, 181) \n",
      "\n",
      "Confusion matrix:\n",
      " [[12 16]\n",
      " [11 15]]\n",
      "\n",
      "Report:\n",
      "               precision    recall  f1-score   support\n",
      "\n",
      "         0.0       0.52      0.43      0.47        28\n",
      "         1.0       0.48      0.58      0.53        26\n",
      "\n",
      "    accuracy                           0.50        54\n",
      "   macro avg       0.50      0.50      0.50        54\n",
      "weighted avg       0.50      0.50      0.50        54\n",
      "\n",
      "\n",
      "Accuracy -  0.5\n"
     ]
    }
   ],
   "source": [
    "from sklearn.preprocessing import StandardScaler\n",
    "from sklearn.decomposition import PCA\n",
    "from sklearn.linear_model import LogisticRegression\n",
    "\n",
    "scaler = StandardScaler()\n",
    "# Fit on training set only.\n",
    "scaler.fit(X)\n",
    "\n",
    "# Apply transform to both the training set and the test set.\n",
    "train_data = scaler.transform(X)\n",
    "print(\"Initial Dimension -\", train_data.shape)\n",
    "test_data = scaler.transform(X_V)\n",
    "\n",
    "# Make an instance of the Model\n",
    "pca = PCA(.99)\n",
    "pca.fit(train_data)\n",
    "\n",
    "train_data = pca.transform(train_data)\n",
    "print(\"Transformed Dimension -\", train_data.shape, \"\\n\")\n",
    "test_data = pca.transform(test_data)\n",
    "\n",
    "logisticRegr = LogisticRegression(solver = 'lbfgs', max_iter=100000)\n",
    "logisticRegr.fit(train_data, Y)\n",
    "\n",
    "metrics(Y_V, logisticRegr.predict(test_data))\n",
    "logreg_acc.append(logisticRegr.score(test_data, Y_V))\n",
    "print(\"\\nAccuracy - \", logisticRegr.score(test_data, Y_V))"
   ]
  },
  {
   "cell_type": "markdown",
   "metadata": {
    "id": "TK-4XqkCI7aO"
   },
   "source": [
    "##### **95% Information**"
   ]
  },
  {
   "cell_type": "code",
   "execution_count": 26,
   "metadata": {
    "colab": {
     "base_uri": "https://localhost:8080/"
    },
    "executionInfo": {
     "elapsed": 29360,
     "status": "ok",
     "timestamp": 1620771650398,
     "user": {
      "displayName": "Sasya Reddi",
      "photoUrl": "",
      "userId": "02400148251831989501"
     },
     "user_tz": 420
    },
    "id": "EvL5DV5TBlIe",
    "outputId": "212d298e-cfa6-4c69-e465-c663b4554ec2"
   },
   "outputs": [
    {
     "name": "stdout",
     "output_type": "stream",
     "text": [
      "Initial Dimension - (216, 40921)\n",
      "Transformed Dimension - (216, 144) \n",
      "\n",
      "Confusion matrix:\n",
      " [[14 14]\n",
      " [13 13]]\n",
      "\n",
      "Report:\n",
      "               precision    recall  f1-score   support\n",
      "\n",
      "         0.0       0.52      0.50      0.51        28\n",
      "         1.0       0.48      0.50      0.49        26\n",
      "\n",
      "    accuracy                           0.50        54\n",
      "   macro avg       0.50      0.50      0.50        54\n",
      "weighted avg       0.50      0.50      0.50        54\n",
      "\n",
      "\n",
      "Accuracy -  0.5\n"
     ]
    }
   ],
   "source": [
    "# Apply transform to both the training set and the test set.\n",
    "train_data = scaler.transform(X)\n",
    "print(\"Initial Dimension -\", train_data.shape)\n",
    "test_data = scaler.transform(X_V)\n",
    "\n",
    "# Make an instance of the Model\n",
    "pca = PCA(.95)\n",
    "pca.fit(train_data)\n",
    "\n",
    "train_data = pca.transform(train_data)\n",
    "print(\"Transformed Dimension -\", train_data.shape, \"\\n\")\n",
    "test_data = pca.transform(test_data)\n",
    "\n",
    "logisticRegr = LogisticRegression(solver = 'lbfgs', max_iter=100000)\n",
    "logisticRegr.fit(train_data, Y)\n",
    "\n",
    "metrics(Y_V, logisticRegr.predict(test_data))\n",
    "logreg_acc.append(logisticRegr.score(test_data, Y_V))\n",
    "print(\"\\nAccuracy - \", logisticRegr.score(test_data, Y_V))"
   ]
  },
  {
   "cell_type": "markdown",
   "metadata": {
    "id": "GUV3DR_qIzsI"
   },
   "source": [
    "##### **94% Information** (Just playing around)"
   ]
  },
  {
   "cell_type": "code",
   "execution_count": 27,
   "metadata": {
    "colab": {
     "base_uri": "https://localhost:8080/"
    },
    "executionInfo": {
     "elapsed": 31506,
     "status": "ok",
     "timestamp": 1620771652559,
     "user": {
      "displayName": "Sasya Reddi",
      "photoUrl": "",
      "userId": "02400148251831989501"
     },
     "user_tz": 420
    },
    "id": "9gVHak-SCH6K",
    "outputId": "92f92170-3cb4-4f87-c37a-581dd9345161"
   },
   "outputs": [
    {
     "name": "stdout",
     "output_type": "stream",
     "text": [
      "Initial Dimension - (216, 40921)\n",
      "Transformed Dimension - (216, 137) \n",
      "\n",
      "Confusion matrix:\n",
      " [[12 16]\n",
      " [ 9 17]]\n",
      "\n",
      "Report:\n",
      "               precision    recall  f1-score   support\n",
      "\n",
      "         0.0       0.57      0.43      0.49        28\n",
      "         1.0       0.52      0.65      0.58        26\n",
      "\n",
      "    accuracy                           0.54        54\n",
      "   macro avg       0.54      0.54      0.53        54\n",
      "weighted avg       0.54      0.54      0.53        54\n",
      "\n",
      "\n",
      "Accuracy -  0.5370370370370371\n"
     ]
    }
   ],
   "source": [
    "# Apply transform to both the training set and the test set.\n",
    "train_data = scaler.transform(X)\n",
    "print(\"Initial Dimension -\", train_data.shape)\n",
    "test_data = scaler.transform(X_V)\n",
    "\n",
    "# Make an instance of the Model\n",
    "pca = PCA(.94)\n",
    "pca.fit(train_data)\n",
    "\n",
    "train_data = pca.transform(train_data)\n",
    "print(\"Transformed Dimension -\", train_data.shape, \"\\n\")\n",
    "test_data = pca.transform(test_data)\n",
    "\n",
    "logisticRegr = LogisticRegression(solver = 'lbfgs', max_iter=100000)\n",
    "logisticRegr.fit(train_data, Y)\n",
    "\n",
    "metrics(Y_V, logisticRegr.predict(test_data))\n",
    "print(\"\\nAccuracy - \", logisticRegr.score(test_data, Y_V))"
   ]
  },
  {
   "cell_type": "markdown",
   "metadata": {
    "id": "tZconPP9FQ14"
   },
   "source": [
    "---"
   ]
  },
  {
   "cell_type": "markdown",
   "metadata": {
    "id": "96SU_bfjHPWc"
   },
   "source": [
    "### <font color='blue'>**PCA + SGD Classifier**"
   ]
  },
  {
   "cell_type": "markdown",
   "metadata": {
    "id": "dBXe6nLrFk9Q"
   },
   "source": [
    "##### **Before PCA**"
   ]
  },
  {
   "cell_type": "code",
   "execution_count": 28,
   "metadata": {
    "colab": {
     "base_uri": "https://localhost:8080/"
    },
    "executionInfo": {
     "elapsed": 31929,
     "status": "ok",
     "timestamp": 1620771652998,
     "user": {
      "displayName": "Sasya Reddi",
      "photoUrl": "",
      "userId": "02400148251831989501"
     },
     "user_tz": 420
    },
    "id": "3lxdBfvlCKp5",
    "outputId": "a99ee972-6da0-464d-9f82-26e9874444d0"
   },
   "outputs": [
    {
     "name": "stdout",
     "output_type": "stream",
     "text": [
      "Confusion matrix:\n",
      " [[15 13]\n",
      " [11 15]]\n",
      "\n",
      "Report:\n",
      "               precision    recall  f1-score   support\n",
      "\n",
      "         0.0       0.58      0.54      0.56        28\n",
      "         1.0       0.54      0.58      0.56        26\n",
      "\n",
      "    accuracy                           0.56        54\n",
      "   macro avg       0.56      0.56      0.56        54\n",
      "weighted avg       0.56      0.56      0.56        54\n",
      "\n",
      "\n",
      "Accuracy -  0.5555555555555556\n"
     ]
    }
   ],
   "source": [
    "SGD_acc = []\n",
    "\n",
    "from sklearn.linear_model import SGDClassifier\n",
    "\n",
    "# Apply transform to both the training set and the test set.\n",
    "train_data = scaler.transform(X)\n",
    "test_data = scaler.transform(X_V)\n",
    "\n",
    "clf = SGDClassifier(loss=\"hinge\", penalty=\"l2\", max_iter=100000)\n",
    "clf.fit(train_data, Y)\n",
    "\n",
    "metrics(Y_V, clf.predict(test_data))\n",
    "SGD_acc.append(clf.score(test_data, Y_V))\n",
    "print(\"\\nAccuracy - \", clf.score(test_data, Y_V))"
   ]
  },
  {
   "cell_type": "markdown",
   "metadata": {
    "id": "AMVWagwhFzhl"
   },
   "source": [
    "##### **99% Information**"
   ]
  },
  {
   "cell_type": "code",
   "execution_count": 29,
   "metadata": {
    "colab": {
     "base_uri": "https://localhost:8080/"
    },
    "executionInfo": {
     "elapsed": 34023,
     "status": "ok",
     "timestamp": 1620771655107,
     "user": {
      "displayName": "Sasya Reddi",
      "photoUrl": "",
      "userId": "02400148251831989501"
     },
     "user_tz": 420
    },
    "id": "zVbKlaLoFCaV",
    "outputId": "23c68e13-f582-4a65-86b3-fe968840a470"
   },
   "outputs": [
    {
     "name": "stdout",
     "output_type": "stream",
     "text": [
      "Initial Dimension - (216, 40921)\n",
      "Transformed Dimension - (216, 181) \n",
      "\n",
      "Confusion matrix:\n",
      " [[12 16]\n",
      " [12 14]]\n",
      "\n",
      "Report:\n",
      "               precision    recall  f1-score   support\n",
      "\n",
      "         0.0       0.50      0.43      0.46        28\n",
      "         1.0       0.47      0.54      0.50        26\n",
      "\n",
      "    accuracy                           0.48        54\n",
      "   macro avg       0.48      0.48      0.48        54\n",
      "weighted avg       0.48      0.48      0.48        54\n",
      "\n",
      "\n",
      "Accuracy -  0.48148148148148145\n"
     ]
    }
   ],
   "source": [
    "# Apply transform to both the training set and the test set.\n",
    "train_data = scaler.transform(X)\n",
    "print(\"Initial Dimension -\", train_data.shape)\n",
    "test_data = scaler.transform(X_V)\n",
    "\n",
    "# Make an instance of the Model\n",
    "pca = PCA(.99)\n",
    "pca.fit(train_data)\n",
    "\n",
    "train_data = pca.transform(train_data)\n",
    "print(\"Transformed Dimension -\", train_data.shape, \"\\n\")\n",
    "test_data = pca.transform(test_data)\n",
    "\n",
    "clf = SGDClassifier(loss=\"hinge\", penalty=\"l2\", max_iter=100000)\n",
    "clf.fit(train_data, Y)\n",
    "\n",
    "metrics(Y_V, clf.predict(test_data))\n",
    "SGD_acc.append(clf.score(test_data, Y_V))\n",
    "print(\"\\nAccuracy - \", clf.score(test_data, Y_V))"
   ]
  },
  {
   "cell_type": "markdown",
   "metadata": {
    "id": "jguwd5rPeKgJ"
   },
   "source": [
    "##### **95% Information**"
   ]
  },
  {
   "cell_type": "code",
   "execution_count": 30,
   "metadata": {
    "colab": {
     "base_uri": "https://localhost:8080/"
    },
    "executionInfo": {
     "elapsed": 35845,
     "status": "ok",
     "timestamp": 1620771656944,
     "user": {
      "displayName": "Sasya Reddi",
      "photoUrl": "",
      "userId": "02400148251831989501"
     },
     "user_tz": 420
    },
    "id": "KZqoFDc4d9hS",
    "outputId": "66a1a923-5555-4404-aa3e-107c533280d2"
   },
   "outputs": [
    {
     "name": "stdout",
     "output_type": "stream",
     "text": [
      "Initial Dimension - (216, 40921)\n",
      "Transformed Dimension - (216, 144) \n",
      "\n",
      "Confusion matrix:\n",
      " [[13 15]\n",
      " [12 14]]\n",
      "\n",
      "Report:\n",
      "               precision    recall  f1-score   support\n",
      "\n",
      "         0.0       0.52      0.46      0.49        28\n",
      "         1.0       0.48      0.54      0.51        26\n",
      "\n",
      "    accuracy                           0.50        54\n",
      "   macro avg       0.50      0.50      0.50        54\n",
      "weighted avg       0.50      0.50      0.50        54\n",
      "\n",
      "\n",
      "Accuracy -  0.5\n"
     ]
    }
   ],
   "source": [
    "# Apply transform to both the training set and the test set.\n",
    "train_data = scaler.transform(X)\n",
    "print(\"Initial Dimension -\", train_data.shape)\n",
    "test_data = scaler.transform(X_V)\n",
    "\n",
    "# Make an instance of the Model\n",
    "pca = PCA(.95)\n",
    "pca.fit(train_data)\n",
    "\n",
    "train_data = pca.transform(train_data)\n",
    "print(\"Transformed Dimension -\", train_data.shape, \"\\n\")\n",
    "test_data = pca.transform(test_data)\n",
    "\n",
    "clf = SGDClassifier(loss=\"hinge\", penalty=\"l2\", max_iter=100000)\n",
    "clf.fit(train_data, Y)\n",
    "\n",
    "metrics(Y_V, clf.predict(test_data))\n",
    "SGD_acc.append(clf.score(test_data, Y_V))\n",
    "print(\"\\nAccuracy - \", clf.score(test_data, Y_V))"
   ]
  },
  {
   "cell_type": "markdown",
   "metadata": {
    "id": "imnNdvwDdRSt"
   },
   "source": [
    "---"
   ]
  },
  {
   "cell_type": "markdown",
   "metadata": {
    "id": "yJAvFabadQuR"
   },
   "source": [
    "### <font color='blue'>**PCA + XGBoost Classifier**"
   ]
  },
  {
   "cell_type": "markdown",
   "metadata": {
    "id": "SYLBDh0id0_9"
   },
   "source": [
    "##### **Before PCA**"
   ]
  },
  {
   "cell_type": "code",
   "execution_count": 31,
   "metadata": {
    "colab": {
     "base_uri": "https://localhost:8080/"
    },
    "executionInfo": {
     "elapsed": 60095,
     "status": "ok",
     "timestamp": 1620771681210,
     "user": {
      "displayName": "Sasya Reddi",
      "photoUrl": "",
      "userId": "02400148251831989501"
     },
     "user_tz": 420
    },
    "id": "DNyMiM4BQib8",
    "outputId": "7f3ce4a0-f7ee-4768-b271-4650aa90f15f"
   },
   "outputs": [
    {
     "name": "stdout",
     "output_type": "stream",
     "text": [
      "Confusion matrix:\n",
      " [[23  5]\n",
      " [ 2 24]]\n",
      "\n",
      "Report:\n",
      "               precision    recall  f1-score   support\n",
      "\n",
      "         0.0       0.92      0.82      0.87        28\n",
      "         1.0       0.83      0.92      0.87        26\n",
      "\n",
      "    accuracy                           0.87        54\n",
      "   macro avg       0.87      0.87      0.87        54\n",
      "weighted avg       0.88      0.87      0.87        54\n",
      "\n",
      "Accuracy -  0.8703703703703703\n"
     ]
    }
   ],
   "source": [
    "XGB_acc = []\n",
    "\n",
    "from xgboost import XGBClassifier\n",
    "from sklearn.metrics import accuracy_score\n",
    "\n",
    "# Apply transform to both the training set and the test set.\n",
    "train_data = scaler.transform(X)\n",
    "test_data = scaler.transform(X_V)\n",
    "\n",
    "model = XGBClassifier()\n",
    "model.fit(train_data, Y)\n",
    "\n",
    "y_pred = model.predict(test_data)\n",
    "predictions = [round(value) for value in y_pred]\n",
    "\n",
    "metrics(Y_V, model.predict(test_data))\n",
    "accuracy = accuracy_score(Y_V, predictions)\n",
    "XGB_acc.append(accuracy)\n",
    "\n",
    "print(\"Accuracy - \", accuracy)"
   ]
  },
  {
   "cell_type": "markdown",
   "metadata": {
    "id": "A1Q7Z9E6duk0"
   },
   "source": [
    "##### **99% Information**"
   ]
  },
  {
   "cell_type": "code",
   "execution_count": 32,
   "metadata": {
    "colab": {
     "base_uri": "https://localhost:8080/"
    },
    "executionInfo": {
     "elapsed": 62302,
     "status": "ok",
     "timestamp": 1620771683430,
     "user": {
      "displayName": "Sasya Reddi",
      "photoUrl": "",
      "userId": "02400148251831989501"
     },
     "user_tz": 420
    },
    "id": "2F1u0nG5bVN8",
    "outputId": "c09f5cac-53e5-4178-df35-eb198f642a77"
   },
   "outputs": [
    {
     "name": "stdout",
     "output_type": "stream",
     "text": [
      "Initial Dimension - (216, 40921)\n",
      "Transformed Dimension - (216, 181) \n",
      "\n",
      "Confusion matrix:\n",
      " [[13 15]\n",
      " [ 9 17]]\n",
      "\n",
      "Report:\n",
      "               precision    recall  f1-score   support\n",
      "\n",
      "         0.0       0.59      0.46      0.52        28\n",
      "         1.0       0.53      0.65      0.59        26\n",
      "\n",
      "    accuracy                           0.56        54\n",
      "   macro avg       0.56      0.56      0.55        54\n",
      "weighted avg       0.56      0.56      0.55        54\n",
      "\n",
      "\n",
      "Accuracy -  0.5555555555555556\n"
     ]
    }
   ],
   "source": [
    "# Apply transform to both the training set and the test set.\n",
    "train_data = scaler.transform(X)\n",
    "print(\"Initial Dimension -\", train_data.shape)\n",
    "test_data = scaler.transform(X_V)\n",
    "\n",
    "pca = PCA(.99)\n",
    "pca.fit(train_data)\n",
    "\n",
    "train_data = pca.transform(train_data)\n",
    "print(\"Transformed Dimension -\", train_data.shape, \"\\n\")\n",
    "test_data = pca.transform(test_data)\n",
    "\n",
    "model = XGBClassifier()\n",
    "model.fit(train_data, Y)\n",
    "\n",
    "y_pred = model.predict(test_data)\n",
    "predictions = [round(value) for value in y_pred]\n",
    "\n",
    "accuracy = accuracy_score(Y_V, predictions)\n",
    "\n",
    "metrics(Y_V, model.predict(test_data))\n",
    "XGB_acc.append(accuracy)\n",
    "print(\"\\nAccuracy - \", accuracy)"
   ]
  },
  {
   "cell_type": "markdown",
   "metadata": {
    "id": "tZEPjA6Ldsst"
   },
   "source": [
    "##### **95% Information**"
   ]
  },
  {
   "cell_type": "code",
   "execution_count": 33,
   "metadata": {
    "colab": {
     "base_uri": "https://localhost:8080/"
    },
    "executionInfo": {
     "elapsed": 64504,
     "status": "ok",
     "timestamp": 1620771685646,
     "user": {
      "displayName": "Sasya Reddi",
      "photoUrl": "",
      "userId": "02400148251831989501"
     },
     "user_tz": 420
    },
    "id": "dvOPI2k9c0fL",
    "outputId": "87770aa2-e5d9-4eab-82d9-bec97de5bed0"
   },
   "outputs": [
    {
     "name": "stdout",
     "output_type": "stream",
     "text": [
      "Initial Dimension - (216, 40921)\n",
      "Transformed Dimension - (216, 144) \n",
      "\n",
      "Confusion matrix:\n",
      " [[14 14]\n",
      " [10 16]]\n",
      "\n",
      "Report:\n",
      "               precision    recall  f1-score   support\n",
      "\n",
      "         0.0       0.58      0.50      0.54        28\n",
      "         1.0       0.53      0.62      0.57        26\n",
      "\n",
      "    accuracy                           0.56        54\n",
      "   macro avg       0.56      0.56      0.55        54\n",
      "weighted avg       0.56      0.56      0.55        54\n",
      "\n",
      "\n",
      "Accuracy -  0.5555555555555556\n"
     ]
    }
   ],
   "source": [
    "# Apply transform to both the training set and the test set.\n",
    "train_data = scaler.transform(X)\n",
    "print(\"Initial Dimension -\", train_data.shape)\n",
    "test_data = scaler.transform(X_V)\n",
    "\n",
    "pca = PCA(.95)\n",
    "pca.fit(train_data)\n",
    "\n",
    "train_data = pca.transform(train_data)\n",
    "print(\"Transformed Dimension -\", train_data.shape, \"\\n\")\n",
    "test_data = pca.transform(test_data)\n",
    "\n",
    "model = XGBClassifier()\n",
    "model.fit(train_data, Y)\n",
    "\n",
    "y_pred = model.predict(test_data)\n",
    "predictions = [round(value) for value in y_pred]\n",
    "\n",
    "metrics(Y_V, model.predict(test_data))\n",
    "accuracy = accuracy_score(Y_V, predictions)\n",
    "\n",
    "XGB_acc.append(accuracy)\n",
    "print(\"\\nAccuracy - \", accuracy)"
   ]
  },
  {
   "cell_type": "markdown",
   "metadata": {
    "id": "2H6NF1WofBTl"
   },
   "source": [
    "---"
   ]
  },
  {
   "cell_type": "markdown",
   "metadata": {
    "id": "c896WruRe8_-"
   },
   "source": [
    "### <font color='blue'>**PCA + Random Forest Classifier**"
   ]
  },
  {
   "cell_type": "markdown",
   "metadata": {
    "id": "3Zb-Nma9e9AL"
   },
   "source": [
    "##### **Before PCA**"
   ]
  },
  {
   "cell_type": "code",
   "execution_count": 34,
   "metadata": {
    "colab": {
     "base_uri": "https://localhost:8080/"
    },
    "executionInfo": {
     "elapsed": 65022,
     "status": "ok",
     "timestamp": 1620771686179,
     "user": {
      "displayName": "Sasya Reddi",
      "photoUrl": "",
      "userId": "02400148251831989501"
     },
     "user_tz": 420
    },
    "id": "ZDFUYZMQe9AM",
    "outputId": "46f4dad3-ca96-404f-cdfb-10fff3b07b99"
   },
   "outputs": [
    {
     "name": "stdout",
     "output_type": "stream",
     "text": [
      "Confusion matrix:\n",
      " [[19  9]\n",
      " [ 1 25]]\n",
      "\n",
      "Report:\n",
      "               precision    recall  f1-score   support\n",
      "\n",
      "         0.0       0.95      0.68      0.79        28\n",
      "         1.0       0.74      0.96      0.83        26\n",
      "\n",
      "    accuracy                           0.81        54\n",
      "   macro avg       0.84      0.82      0.81        54\n",
      "weighted avg       0.85      0.81      0.81        54\n",
      "\n",
      "\n",
      "Accuracy -  0.8148148148148148\n"
     ]
    }
   ],
   "source": [
    "RF_acc = []\n",
    "\n",
    "from sklearn.ensemble import RandomForestClassifier\n",
    "\n",
    "# Apply transform to both the training set and the test set.\n",
    "train_data = scaler.transform(X)\n",
    "test_data = scaler.transform(X_V)\n",
    "\n",
    "clf = RandomForestClassifier(max_depth=2, random_state=0)\n",
    "clf.fit(train_data, Y)\n",
    "\n",
    "metrics(Y_V, clf.predict(test_data))\n",
    "RF_acc.append(clf.score(test_data, Y_V))\n",
    "print(\"\\nAccuracy - \", clf.score(test_data, Y_V))"
   ]
  },
  {
   "cell_type": "markdown",
   "metadata": {
    "id": "E45-GITle9AN"
   },
   "source": [
    "##### **99% Information**"
   ]
  },
  {
   "cell_type": "code",
   "execution_count": 35,
   "metadata": {
    "colab": {
     "base_uri": "https://localhost:8080/"
    },
    "executionInfo": {
     "elapsed": 67144,
     "status": "ok",
     "timestamp": 1620771688316,
     "user": {
      "displayName": "Sasya Reddi",
      "photoUrl": "",
      "userId": "02400148251831989501"
     },
     "user_tz": 420
    },
    "id": "YpaiHu2Ge9AN",
    "outputId": "1cd03327-6b77-466c-bfb5-6e841bd09538"
   },
   "outputs": [
    {
     "name": "stdout",
     "output_type": "stream",
     "text": [
      "Initial Dimension - (216, 40921)\n",
      "Transformed Dimension - (216, 181) \n",
      "\n",
      "Confusion matrix:\n",
      " [[ 1 27]\n",
      " [ 2 24]]\n",
      "\n",
      "Report:\n",
      "               precision    recall  f1-score   support\n",
      "\n",
      "         0.0       0.33      0.04      0.06        28\n",
      "         1.0       0.47      0.92      0.62        26\n",
      "\n",
      "    accuracy                           0.46        54\n",
      "   macro avg       0.40      0.48      0.34        54\n",
      "weighted avg       0.40      0.46      0.33        54\n",
      "\n",
      "\n",
      "Accuracy -  0.46296296296296297\n"
     ]
    }
   ],
   "source": [
    "# Apply transform to both the training set and the test set.\n",
    "train_data = scaler.transform(X)\n",
    "print(\"Initial Dimension -\", train_data.shape)\n",
    "test_data = scaler.transform(X_V)\n",
    "\n",
    "pca = PCA(.99)\n",
    "pca.fit(train_data)\n",
    "\n",
    "train_data = pca.transform(train_data)\n",
    "print(\"Transformed Dimension -\", train_data.shape, \"\\n\")\n",
    "test_data = pca.transform(test_data)\n",
    "\n",
    "clf = RandomForestClassifier(max_depth=2, random_state=0)\n",
    "clf.fit(train_data, Y)\n",
    "\n",
    "metrics(Y_V, clf.predict(test_data))\n",
    "RF_acc.append(clf.score(test_data, Y_V))\n",
    "print(\"\\nAccuracy - \", clf.score(test_data, Y_V))"
   ]
  },
  {
   "cell_type": "markdown",
   "metadata": {
    "id": "4l-h1w_ke9AO"
   },
   "source": [
    "##### **95% Information**"
   ]
  },
  {
   "cell_type": "code",
   "execution_count": 36,
   "metadata": {
    "colab": {
     "base_uri": "https://localhost:8080/"
    },
    "executionInfo": {
     "elapsed": 69384,
     "status": "ok",
     "timestamp": 1620771690571,
     "user": {
      "displayName": "Sasya Reddi",
      "photoUrl": "",
      "userId": "02400148251831989501"
     },
     "user_tz": 420
    },
    "id": "Ufh-dm0je9AO",
    "outputId": "e20726db-87f6-4ddc-d5b9-e3bba6a464f3"
   },
   "outputs": [
    {
     "name": "stdout",
     "output_type": "stream",
     "text": [
      "Initial Dimension - (216, 40921)\n",
      "Transformed Dimension - (216, 144) \n",
      "\n",
      "Confusion matrix:\n",
      " [[ 2 26]\n",
      " [ 2 24]]\n",
      "\n",
      "Report:\n",
      "               precision    recall  f1-score   support\n",
      "\n",
      "         0.0       0.50      0.07      0.12        28\n",
      "         1.0       0.48      0.92      0.63        26\n",
      "\n",
      "    accuracy                           0.48        54\n",
      "   macro avg       0.49      0.50      0.38        54\n",
      "weighted avg       0.49      0.48      0.37        54\n",
      "\n",
      "\n",
      "Accuracy -  0.48148148148148145\n"
     ]
    }
   ],
   "source": [
    "# Apply transform to both the training set and the test set.\n",
    "train_data = scaler.transform(X)\n",
    "print(\"Initial Dimension -\", train_data.shape)\n",
    "test_data = scaler.transform(X_V)\n",
    "\n",
    "pca = PCA(.95)\n",
    "pca.fit(train_data)\n",
    "\n",
    "train_data = pca.transform(train_data)\n",
    "print(\"Transformed Dimension -\", train_data.shape, \"\\n\")\n",
    "test_data = pca.transform(test_data)\n",
    "\n",
    "clf = RandomForestClassifier(max_depth=2, random_state=0)\n",
    "clf.fit(train_data, Y)\n",
    "\n",
    "metrics(Y_V, clf.predict(test_data))\n",
    "RF_acc.append(clf.score(test_data, Y_V))\n",
    "print(\"\\nAccuracy - \", clf.score(test_data, Y_V))"
   ]
  },
  {
   "cell_type": "markdown",
   "metadata": {
    "id": "n-oAVI7Ii31e"
   },
   "source": [
    "---"
   ]
  },
  {
   "cell_type": "markdown",
   "metadata": {
    "id": "0btMYAnti4zN"
   },
   "source": [
    "### <font color='blue'>**Accuracies**"
   ]
  },
  {
   "cell_type": "code",
   "execution_count": 37,
   "metadata": {
    "executionInfo": {
     "elapsed": 69373,
     "status": "ok",
     "timestamp": 1620771690573,
     "user": {
      "displayName": "Sasya Reddi",
      "photoUrl": "",
      "userId": "02400148251831989501"
     },
     "user_tz": 420
    },
    "id": "sZ7hJZXpTewt"
   },
   "outputs": [],
   "source": [
    "acc = pd.DataFrame({'Model': ['Without PCA', 'PCA (99)', 'PCA (95)'],\n",
    "                   'Log. Reg.': logreg_acc,\n",
    "                   'SGD': SGD_acc,\n",
    "                   'XGBoost': XGB_acc,\n",
    "                   'Ran. Forest': RF_acc})"
   ]
  },
  {
   "cell_type": "code",
   "execution_count": 38,
   "metadata": {
    "executionInfo": {
     "elapsed": 69367,
     "status": "ok",
     "timestamp": 1620771690575,
     "user": {
      "displayName": "Sasya Reddi",
      "photoUrl": "",
      "userId": "02400148251831989501"
     },
     "user_tz": 420
    },
    "id": "RUagjeshVJ32"
   },
   "outputs": [],
   "source": [
    "acc.to_csv('./drive/Shareddrives/CSE 291C/ML_accuracies_new.csv')"
   ]
  },
  {
   "cell_type": "code",
   "execution_count": 39,
   "metadata": {
    "colab": {
     "base_uri": "https://localhost:8080/",
     "height": 141
    },
    "executionInfo": {
     "elapsed": 69358,
     "status": "ok",
     "timestamp": 1620771690578,
     "user": {
      "displayName": "Sasya Reddi",
      "photoUrl": "",
      "userId": "02400148251831989501"
     },
     "user_tz": 420
    },
    "id": "wYQcRY65Vuyu",
    "outputId": "11f2585f-164c-4012-8f3b-638966d90902"
   },
   "outputs": [
    {
     "data": {
      "text/html": [
       "<div>\n",
       "<style scoped>\n",
       "    .dataframe tbody tr th:only-of-type {\n",
       "        vertical-align: middle;\n",
       "    }\n",
       "\n",
       "    .dataframe tbody tr th {\n",
       "        vertical-align: top;\n",
       "    }\n",
       "\n",
       "    .dataframe thead th {\n",
       "        text-align: right;\n",
       "    }\n",
       "</style>\n",
       "<table border=\"1\" class=\"dataframe\">\n",
       "  <thead>\n",
       "    <tr style=\"text-align: right;\">\n",
       "      <th></th>\n",
       "      <th>Model</th>\n",
       "      <th>Log. Reg.</th>\n",
       "      <th>SGD</th>\n",
       "      <th>XGBoost</th>\n",
       "      <th>Ran. Forest</th>\n",
       "    </tr>\n",
       "  </thead>\n",
       "  <tbody>\n",
       "    <tr>\n",
       "      <th>0</th>\n",
       "      <td>Without PCA</td>\n",
       "      <td>0.444444</td>\n",
       "      <td>0.555556</td>\n",
       "      <td>0.870370</td>\n",
       "      <td>0.814815</td>\n",
       "    </tr>\n",
       "    <tr>\n",
       "      <th>1</th>\n",
       "      <td>PCA (99)</td>\n",
       "      <td>0.500000</td>\n",
       "      <td>0.481481</td>\n",
       "      <td>0.555556</td>\n",
       "      <td>0.462963</td>\n",
       "    </tr>\n",
       "    <tr>\n",
       "      <th>2</th>\n",
       "      <td>PCA (95)</td>\n",
       "      <td>0.500000</td>\n",
       "      <td>0.500000</td>\n",
       "      <td>0.555556</td>\n",
       "      <td>0.481481</td>\n",
       "    </tr>\n",
       "  </tbody>\n",
       "</table>\n",
       "</div>"
      ],
      "text/plain": [
       "         Model  Log. Reg.       SGD   XGBoost  Ran. Forest\n",
       "0  Without PCA   0.444444  0.555556  0.870370     0.814815\n",
       "1     PCA (99)   0.500000  0.481481  0.555556     0.462963\n",
       "2     PCA (95)   0.500000  0.500000  0.555556     0.481481"
      ]
     },
     "execution_count": 39,
     "metadata": {
      "tags": []
     },
     "output_type": "execute_result"
    }
   ],
   "source": [
    "acc"
   ]
  },
  {
   "cell_type": "code",
   "execution_count": 42,
   "metadata": {
    "executionInfo": {
     "elapsed": 349,
     "status": "ok",
     "timestamp": 1620771784269,
     "user": {
      "displayName": "Sasya Reddi",
      "photoUrl": "",
      "userId": "02400148251831989501"
     },
     "user_tz": 420
    },
    "id": "dOb-HqAliTjI"
   },
   "outputs": [],
   "source": [
    "import pandas as pd\n",
    "\n",
    "acc_df = pd.read_csv('./drive/Shareddrives/CSE 291C/ML_accuracies_new.csv')"
   ]
  },
  {
   "cell_type": "code",
   "execution_count": 43,
   "metadata": {
    "colab": {
     "base_uri": "https://localhost:8080/",
     "height": 141
    },
    "executionInfo": {
     "elapsed": 368,
     "status": "ok",
     "timestamp": 1620771784570,
     "user": {
      "displayName": "Sasya Reddi",
      "photoUrl": "",
      "userId": "02400148251831989501"
     },
     "user_tz": 420
    },
    "id": "Iu_-U4cKie3a",
    "outputId": "6128dae7-e0a9-44ed-e0eb-f5939b57864e"
   },
   "outputs": [
    {
     "data": {
      "text/html": [
       "<div>\n",
       "<style scoped>\n",
       "    .dataframe tbody tr th:only-of-type {\n",
       "        vertical-align: middle;\n",
       "    }\n",
       "\n",
       "    .dataframe tbody tr th {\n",
       "        vertical-align: top;\n",
       "    }\n",
       "\n",
       "    .dataframe thead th {\n",
       "        text-align: right;\n",
       "    }\n",
       "</style>\n",
       "<table border=\"1\" class=\"dataframe\">\n",
       "  <thead>\n",
       "    <tr style=\"text-align: right;\">\n",
       "      <th></th>\n",
       "      <th>Unnamed: 0</th>\n",
       "      <th>Model</th>\n",
       "      <th>Log. Reg.</th>\n",
       "      <th>SGD</th>\n",
       "      <th>XGBoost</th>\n",
       "      <th>Ran. Forest</th>\n",
       "    </tr>\n",
       "  </thead>\n",
       "  <tbody>\n",
       "    <tr>\n",
       "      <th>0</th>\n",
       "      <td>0</td>\n",
       "      <td>Without PCA</td>\n",
       "      <td>0.444444</td>\n",
       "      <td>0.555556</td>\n",
       "      <td>0.870370</td>\n",
       "      <td>0.814815</td>\n",
       "    </tr>\n",
       "    <tr>\n",
       "      <th>1</th>\n",
       "      <td>1</td>\n",
       "      <td>PCA (99)</td>\n",
       "      <td>0.500000</td>\n",
       "      <td>0.481481</td>\n",
       "      <td>0.555556</td>\n",
       "      <td>0.462963</td>\n",
       "    </tr>\n",
       "    <tr>\n",
       "      <th>2</th>\n",
       "      <td>2</td>\n",
       "      <td>PCA (95)</td>\n",
       "      <td>0.500000</td>\n",
       "      <td>0.500000</td>\n",
       "      <td>0.555556</td>\n",
       "      <td>0.481481</td>\n",
       "    </tr>\n",
       "  </tbody>\n",
       "</table>\n",
       "</div>"
      ],
      "text/plain": [
       "   Unnamed: 0        Model  Log. Reg.       SGD   XGBoost  Ran. Forest\n",
       "0           0  Without PCA   0.444444  0.555556  0.870370     0.814815\n",
       "1           1     PCA (99)   0.500000  0.481481  0.555556     0.462963\n",
       "2           2     PCA (95)   0.500000  0.500000  0.555556     0.481481"
      ]
     },
     "execution_count": 43,
     "metadata": {
      "tags": []
     },
     "output_type": "execute_result"
    }
   ],
   "source": [
    "acc_df"
   ]
  },
  {
   "cell_type": "code",
   "execution_count": 41,
   "metadata": {
    "executionInfo": {
     "elapsed": 69692,
     "status": "ok",
     "timestamp": 1620771690948,
     "user": {
      "displayName": "Sasya Reddi",
      "photoUrl": "",
      "userId": "02400148251831989501"
     },
     "user_tz": 420
    },
    "id": "6iLiZZkCixVw"
   },
   "outputs": [],
   "source": []
  },
  {
   "cell_type": "code",
   "execution_count": 41,
   "metadata": {
    "executionInfo": {
     "elapsed": 69690,
     "status": "ok",
     "timestamp": 1620771690955,
     "user": {
      "displayName": "Sasya Reddi",
      "photoUrl": "",
      "userId": "02400148251831989501"
     },
     "user_tz": 420
    },
    "id": "yxRZgpqkRUEg"
   },
   "outputs": [],
   "source": []
  }
 ],
 "metadata": {
  "accelerator": "GPU",
  "colab": {
   "collapsed_sections": [],
   "name": "Sasya (+PCA) - MLApproach.ipynb",
   "provenance": [
    {
     "file_id": "12_DObUJrtJgTxoDAO0EMkmFffF00QZW-",
     "timestamp": 1620702652816
    },
    {
     "file_id": "1pNQiIjpJYOh77_dYQqoLwb5AGJASHqv3",
     "timestamp": 1620595978554
    },
    {
     "file_id": "1U_LAchbfb3T_4N40qQcJfUUSbpgTS61r",
     "timestamp": 1620209098555
    },
    {
     "file_id": "1qLV4gTUNJVNYuCJvMbGLc5gXpeZk2EIm",
     "timestamp": 1620203669488
    }
   ]
  },
  "kernelspec": {
   "display_name": "Python 3",
   "language": "python",
   "name": "python3"
  },
  "language_info": {
   "codemirror_mode": {
    "name": "ipython",
    "version": 3
   },
   "file_extension": ".py",
   "mimetype": "text/x-python",
   "name": "python",
   "nbconvert_exporter": "python",
   "pygments_lexer": "ipython3",
   "version": "3.6.9"
  }
 },
 "nbformat": 4,
 "nbformat_minor": 1
}
