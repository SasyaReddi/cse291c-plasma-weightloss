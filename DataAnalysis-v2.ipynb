{
 "cells": [
  {
   "cell_type": "markdown",
   "metadata": {
    "id": "Zh_FkgR00zpY"
   },
   "source": [
    "### <font color='blue'>**Data Exploration**\n",
    "    Pulled from Eric's notebook\n"
   ]
  },
  {
   "cell_type": "code",
   "execution_count": 1,
   "metadata": {
    "executionInfo": {
     "elapsed": 3912,
     "status": "ok",
     "timestamp": 1620771624579,
     "user": {
      "displayName": "Sasya Reddi",
      "photoUrl": "",
      "userId": "02400148251831989501"
     },
     "user_tz": 420
    },
    "id": "T6f2dxrBuR1z"
   },
   "outputs": [],
   "source": [
    "import random\n",
    "import pandas as pd\n",
    "import numpy as np\n",
    "import os\n",
    "from tqdm import tqdm"
   ]
  },
  {
   "cell_type": "code",
   "execution_count": 2,
   "metadata": {
    "executionInfo": {
     "elapsed": 10350,
     "status": "ok",
     "timestamp": 1620771631080,
     "user": {
      "displayName": "Sasya Reddi",
      "photoUrl": "",
      "userId": "02400148251831989501"
     },
     "user_tz": 420
    },
    "id": "XdLCLw1wuR19"
   },
   "outputs": [],
   "source": [
    "class Dataset:\n",
    "    def __init__(self, pep_df, min_timepoints_per_patient=2):\n",
    "        '''\n",
    "        pep_df should be the pep_reduced_intensity_df we created above\n",
    "        This dataset will only include patients with at least `min_timepoints_per_patient` timepoints\n",
    "        '''\n",
    "        self.pep_df = pep_df\n",
    "        \n",
    "        self.data = {} # patient id -> [array of timepoint vectors]\n",
    "        for patient_idx in range(1, 58+1):\n",
    "            patient_timepoint_vectors = []\n",
    "            for timepoint in range(1, 7+1):\n",
    "                try:\n",
    "                    # We replace all nans with zeros using np.nan_to_num\n",
    "                    patient_timepoint_vector = np.nan_to_num(self.pep_df[f\"Patient_{patient_idx:02d}.Timepoint_{timepoint:01d}\"].values)\n",
    "                    patient_timepoint_vectors.append(patient_timepoint_vector)\n",
    "                except:\n",
    "                    # This patient timepoint doesnt exist in the data\n",
    "                    pass\n",
    "            \n",
    "            # If this patient had at least `min_timepoints_per_patient` timepoints, then include this patient id\n",
    "            if len(patient_timepoint_vectors) >= min_timepoints_per_patient:\n",
    "                self.data[patient_idx] = patient_timepoint_vectors\n",
    "                \n",
    "    @staticmethod\n",
    "    def prepare_df(filepath):\n",
    "        df = pd.read_csv(filepath, sep=\"\\t\")\n",
    "        \n",
    "        # only keep the Patient_x.Timepoint_y formatted columns\n",
    "        df = df.iloc[:, :667]\n",
    "        \n",
    "        # Remove all _unmod columns\n",
    "        df = df[df.columns.drop(list(df.filter(regex='.\\_unmod')))]\n",
    "        \n",
    "        # Convert the string abundance numbers into ints for all patient timepoint cols\n",
    "        def convert_to_number(val):\n",
    "            if isinstance(val, str):\n",
    "                return int(val.replace(\",\",\"\").strip())\n",
    "            return val\n",
    "\n",
    "        for patient_timepoint_col in df.columns.values[32:]:\n",
    "            df[patient_timepoint_col] = df[patient_timepoint_col].apply(convert_to_number)\n",
    "            df[patient_timepoint_col] = df[patient_timepoint_col].astype(float)\n",
    "        \n",
    "        return df\n",
    "    \n",
    "    @classmethod\n",
    "    def from_file(cls, filepath, *args, **kwargs):\n",
    "        pip_df = cls.prepare_df(filepath)\n",
    "        return cls(pip_df, *args, **kwargs)\n",
    "        \n",
    "                \n",
    "    def data_generator(self, patient_ids, num_samples, peptide_indices=None, same_patient_pair_probability=0.5):\n",
    "        \"\"\"\n",
    "        This will return a generator that will yield `num_samples` sample pairs of peptide vectors \n",
    "        (limited to only the `patient_ids` given, and the `peptide_indices` given (if none is given, then all peptides will be included))\n",
    "        such that, `same_patient_pair_probability` of the time, the pair of vectors will be from the same patient (but different time points)\n",
    "        \n",
    "        Note: when same_patient_pair_probability is None, it will model the true data distribution by putting all timepoint vectors into 1 bucket\n",
    "        and randomly sampling from this (this will make it such that it is always way more likely for the timepoint vectors to be from different patients than the same one)\n",
    "        \n",
    "        Data samples yielded by the returned generator will be of the form:\n",
    "        {\n",
    "            \"first_patient_idx\" : ...,\n",
    "            \"first_patient_timepoint_vector\" : ...,\n",
    "            \"second_patient_idx\" : ...,\n",
    "            \"second_patient_timepoint_vector\" : ...,\n",
    "            \"is_same_patient\" : True/False\n",
    "        }\n",
    "        \n",
    "        \"\"\"\n",
    "        # First ensure all of the given patient ids are in out prepared dataset\n",
    "        assert all(pid in self.data for pid in patient_ids), \"Not all of the given patient ids are in our dataset\"\n",
    "        \n",
    "        \n",
    "        def true_data_dist_gen():\n",
    "            # This generator is used when same_patient_pair_probability is None\n",
    "            all_patient_timepoint_vectors = []\n",
    "            for patient_idx in patient_ids:\n",
    "                for patient_timepoint_vector in self.data[patient_idx]:\n",
    "                    all_patient_timepoint_vectors.append((patient_idx, patient_timepoint_vector))\n",
    "            \n",
    "            for _ in range(num_samples):\n",
    "                first_patient_id, first_patient_timepoint_vector = random.choice(all_patient_timepoint_vectors)\n",
    "                second_patient_id, second_patient_timepoint_vector = random.choice(all_patient_timepoint_vectors)\n",
    "                \n",
    "                # if peptide_indices is given, filter the vectors to only include the `peptide_indices` peptides\n",
    "                if peptide_indices:\n",
    "                    first_patient_timepoint_vector = first_patient_timepoint_vector[peptide_indices]\n",
    "                    second_patient_timepoint_vector = second_patient_timepoint_vector[peptide_indices]\n",
    "                    \n",
    "                yield {\n",
    "                    \"first_patient_id\" : first_patient_id,\n",
    "                    \"first_patient_timepoint_vector\" : first_patient_timepoint_vector,\n",
    "                    \"second_patient_id\" : second_patient_id,\n",
    "                    \"second_patient_timepoint_vector\" : second_patient_timepoint_vector,\n",
    "                    \"is_same_patient\" : first_patient_id == second_patient_id\n",
    "                }\n",
    "\n",
    "        \n",
    "        def data_gen():\n",
    "            # This generator is used when same_patient_pair_probability is NOT None\n",
    "            for _ in range(num_samples):\n",
    "                \n",
    "                # pick a random first patient id\n",
    "                first_patient_id = random.choice(patient_ids)\n",
    "                \n",
    "                # pick a random timepoint vector for this first patient id\n",
    "                first_patient_timepoint_vector = random.choice(self.data[first_patient_id])\n",
    "                \n",
    "                # decide if the second patient in our pair should be the same as the first\n",
    "                is_second_patient_same = random.random() <= same_patient_pair_probability\n",
    "                \n",
    "                if is_second_patient_same:\n",
    "                    second_patient_id = first_patient_id\n",
    "                else:\n",
    "                    second_patient_id = random.choice([pid for pid in patient_ids if pid != first_patient_id])\n",
    "                \n",
    "                # Note: In this approach, it is possible that, when the second patient = first patient,\n",
    "                # They both return the same timepoint vector. but that should be okay, since this will help the model learn\n",
    "                # to detect identical inputs, especially when the input to the model is the concatenated vector\n",
    "                second_patient_timepoint_vector = random.choice(self.data[second_patient_id])\n",
    "                \n",
    "                # if peptide_indices is given, filter the vectors to only include the `peptide_indices` peptides\n",
    "                if peptide_indices:\n",
    "                    first_patient_timepoint_vector = first_patient_timepoint_vector[peptide_indices]\n",
    "                    second_patient_timepoint_vector = second_patient_timepoint_vector[peptide_indices]\n",
    "                \n",
    "                yield {\n",
    "                    \"first_patient_id\" : first_patient_id,\n",
    "                    \"first_patient_timepoint_vector\" : first_patient_timepoint_vector,\n",
    "                    \"second_patient_id\" : second_patient_id,\n",
    "                    \"second_patient_timepoint_vector\" : second_patient_timepoint_vector,\n",
    "                    \"is_same_patient\" : first_patient_id == second_patient_id\n",
    "                }\n",
    "\n",
    "        # Based on same_patient_pair_probability, return the correct data generator\n",
    "        if same_patient_pair_probability is None:\n",
    "            return true_data_dist_gen()\n",
    "        else:\n",
    "            return data_gen()"
   ]
  },
  {
   "cell_type": "code",
   "execution_count": 3,
   "metadata": {},
   "outputs": [],
   "source": [
    "DATA_DIR = \"./Data\"\n",
    "DATA_TSV_FILEPATH = os.path.join(DATA_DIR, \"peptidoforms_intensity\", \"data.tsv\")"
   ]
  },
  {
   "cell_type": "code",
   "execution_count": 4,
   "metadata": {},
   "outputs": [],
   "source": [
    "# Establish all random seeds\n",
    "random.seed(2021)\n",
    "\n",
    "# TODO: other libraries should be seeded here, like sklearn, torch, xgboost, etc."
   ]
  },
  {
   "cell_type": "markdown",
   "metadata": {},
   "source": [
    "### <font color='blue'>**Creating Main Dataset**"
   ]
  },
  {
   "cell_type": "code",
   "execution_count": 5,
   "metadata": {},
   "outputs": [
    {
     "name": "stderr",
     "output_type": "stream",
     "text": [
      "/Users/subby/UCSD/CSE_291C/Projects/cse291c-plasma-weightloss/venv/lib/python3.7/site-packages/IPython/core/interactiveshell.py:3441: DtypeWarning: Columns (38,42,44,48,52,56,92,98,102,108,116,122,124,126,128,130,132,134,138,140,144,146,148,150,152,154,156,176,184,190,196,200,212,216,228,234,236,238,242,244,246,248,250,252,254,256,258,260,262,264,268,270,272,274,284,286,288,290,292,294,296,298,300,302,304,306,308,310,312,314,316,318,322,324,330,332,334,336,338,340,342,344,346,350,364,372,374,378,380,382,388,390,392,394,398,404,406,408,410,412,414,416,426,428,440,444,446,454,458,460,464,466,468,484,502,510,514,516,522,524,526,528,538,540,542,544,552,554,556,558,562,576,592,606,608,610,612,618,622,624,626,628,630,632,640,642,644,646,650,652,654,656,658,660,662,664,674,676,678,684,686,692,694,696,698,700,702) have mixed types.Specify dtype option on import or set low_memory=False.\n",
      "  exec(code_obj, self.user_global_ns, self.user_ns)\n"
     ]
    }
   ],
   "source": [
    "peptidoforms_intensity_dataset = Dataset.from_file(DATA_TSV_FILEPATH)"
   ]
  },
  {
   "cell_type": "code",
   "execution_count": 6,
   "metadata": {},
   "outputs": [
    {
     "data": {
      "text/plain": [
       "(40921, 350)"
      ]
     },
     "execution_count": 6,
     "metadata": {},
     "output_type": "execute_result"
    }
   ],
   "source": [
    "peptidoforms_intensity_df = peptidoforms_intensity_dataset.pep_df\n",
    "peptidoforms_intensity_df.shape"
   ]
  },
  {
   "cell_type": "code",
   "execution_count": 7,
   "metadata": {},
   "outputs": [
    {
     "data": {
      "text/plain": [
       "array([318, 318, 318, ...,   1,   7,   1])"
      ]
     },
     "execution_count": 7,
     "metadata": {},
     "output_type": "execute_result"
    }
   ],
   "source": [
    "# For each peptide index, count the number of NON-NaNs it has across all patient timepoints\n",
    "peptide_nonempty_count_across_patient_timepoints = np.count_nonzero(~np.isnan(peptidoforms_intensity_df.values[:,32:].astype(float)), axis=-1)\n",
    "peptide_nonempty_count_across_patient_timepoints"
   ]
  },
  {
   "cell_type": "code",
   "execution_count": 8,
   "metadata": {},
   "outputs": [
    {
     "data": {
      "text/plain": [
       "count    40921.000000\n",
       "mean        25.752572\n",
       "std         68.130665\n",
       "min          0.000000\n",
       "25%          0.000000\n",
       "50%          0.000000\n",
       "75%          8.000000\n",
       "max        318.000000\n",
       "dtype: float64"
      ]
     },
     "execution_count": 8,
     "metadata": {},
     "output_type": "execute_result"
    }
   ],
   "source": [
    "pd.Series(peptide_nonempty_count_across_patient_timepoints).describe()"
   ]
  },
  {
   "cell_type": "code",
   "execution_count": 9,
   "metadata": {},
   "outputs": [
    {
     "data": {
      "text/plain": [
       "37461"
      ]
     },
     "execution_count": 9,
     "metadata": {},
     "output_type": "execute_result"
    }
   ],
   "source": [
    "len(peptide_nonempty_count_across_patient_timepoints[peptide_nonempty_count_across_patient_timepoints <= 100])"
   ]
  },
  {
   "cell_type": "markdown",
   "metadata": {
    "id": "-6Z8H_TkcxZE"
   },
   "source": [
    "---"
   ]
  },
  {
   "cell_type": "markdown",
   "metadata": {
    "id": "iFUA7k1jGkcH"
   },
   "source": [
    "### <font color='blue'>**Creating Train/Val/Test Datasets**\n",
    "    \n",
    "Train and val datasets will enforce the `same_patient_pair_probability = 0.5`, while the test set will use the true data distribution"
   ]
  },
  {
   "cell_type": "code",
   "execution_count": 10,
   "metadata": {},
   "outputs": [],
   "source": [
    "train_ratio = 0.6\n",
    "val_ratio = 0.2\n",
    "test_ratio = 0.2"
   ]
  },
  {
   "cell_type": "code",
   "execution_count": 11,
   "metadata": {},
   "outputs": [],
   "source": [
    "# For now, we don't select a particular subset of peptides, and just use all of them.\n",
    "selected_peptide_indices = None"
   ]
  },
  {
   "cell_type": "code",
   "execution_count": 12,
   "metadata": {},
   "outputs": [],
   "source": [
    "train_same_patient_pair_probability = 0.5\n",
    "val_same_patient_pair_probability = 0.5\n",
    "test_same_patient_pair_probability = None"
   ]
  },
  {
   "cell_type": "code",
   "execution_count": 13,
   "metadata": {},
   "outputs": [],
   "source": [
    "num_train_samples = 10000\n",
    "num_val_samples = 10000\n",
    "num_test_samples = 10000"
   ]
  },
  {
   "cell_type": "code",
   "execution_count": 14,
   "metadata": {},
   "outputs": [
    {
     "data": {
      "text/plain": [
       "52"
      ]
     },
     "execution_count": 14,
     "metadata": {},
     "output_type": "execute_result"
    }
   ],
   "source": [
    "all_patient_ids = list(peptidoforms_intensity_dataset.data.keys())\n",
    "num_patient_ids = len(all_patient_ids)\n",
    "num_patient_ids"
   ]
  },
  {
   "cell_type": "code",
   "execution_count": 15,
   "metadata": {},
   "outputs": [
    {
     "data": {
      "text/plain": [
       "(31, 10, 11)"
      ]
     },
     "execution_count": 15,
     "metadata": {},
     "output_type": "execute_result"
    }
   ],
   "source": [
    "random.shuffle(all_patient_ids)\n",
    "train_patient_ids, val_patient_ids, test_patient_ids = np.split(all_patient_ids, \n",
    "                                                                [int(train_ratio * num_patient_ids), \n",
    "                                                                 int((train_ratio + val_ratio) * num_patient_ids)\n",
    "                                                                ])\n",
    "train_patient_ids = train_patient_ids.tolist()\n",
    "val_patient_ids = val_patient_ids.tolist()\n",
    "test_patient_ids = test_patient_ids.tolist()\n",
    "\n",
    "len(train_patient_ids), len(val_patient_ids), len(test_patient_ids)"
   ]
  },
  {
   "cell_type": "code",
   "execution_count": 16,
   "metadata": {},
   "outputs": [],
   "source": [
    "def create_data_arrays_from_generator(gen):\n",
    "    \"\"\"\n",
    "    The input is a concatenated vector of the 2 patient vectors, and the output is 1/0 if the vectors are from the same patient or not\n",
    "    \"\"\"\n",
    "    X, Y = [], []\n",
    "    \n",
    "    for data_input in tqdm(gen):\n",
    "        x = np.hstack((data_input['first_patient_timepoint_vector'], data_input['second_patient_timepoint_vector'])).astype(int)\n",
    "        y = 1 if data_input['is_same_patient'] else 0\n",
    "        \n",
    "        X.append(x)\n",
    "        Y.append(y)\n",
    "\n",
    "    return X, Y"
   ]
  },
  {
   "cell_type": "code",
   "execution_count": 17,
   "metadata": {},
   "outputs": [
    {
     "name": "stderr",
     "output_type": "stream",
     "text": [
      "10000it [00:04, 2322.45it/s]\n",
      "10000it [00:06, 1615.45it/s]\n",
      "10000it [00:06, 1658.54it/s]\n"
     ]
    }
   ],
   "source": [
    "train_data_gen = peptidoforms_intensity_dataset.data_generator(\n",
    "    patient_ids=train_patient_ids, \n",
    "    num_samples=num_train_samples, \n",
    "    peptide_indices=selected_peptide_indices, \n",
    "    same_patient_pair_probability=train_same_patient_pair_probability)\n",
    "trainX, trainY = create_data_arrays_from_generator(train_data_gen)\n",
    "\n",
    "val_data_gen = peptidoforms_intensity_dataset.data_generator(\n",
    "    patient_ids=val_patient_ids, \n",
    "    num_samples=num_val_samples, \n",
    "    peptide_indices=selected_peptide_indices, \n",
    "    same_patient_pair_probability=val_same_patient_pair_probability)\n",
    "valX, valY = create_data_arrays_from_generator(val_data_gen)\n",
    "\n",
    "test_data_gen = peptidoforms_intensity_dataset.data_generator(\n",
    "    patient_ids=test_patient_ids, \n",
    "    num_samples=num_test_samples, \n",
    "    peptide_indices=selected_peptide_indices, \n",
    "    same_patient_pair_probability=test_same_patient_pair_probability)\n",
    "testX, testY = create_data_arrays_from_generator(test_data_gen)"
   ]
  },
  {
   "cell_type": "markdown",
   "metadata": {
    "id": "h7AWhg0RJXeQ"
   },
   "source": [
    "---"
   ]
  },
  {
   "cell_type": "markdown",
   "metadata": {},
   "source": [
    "## NOTE on using scalers: \n",
    "Current approach of just using standard scaling on concatenated input feature vectors is likely not optimal/correct.\n",
    "\n",
    "This is because, the first half and the second half of each concatenated feature vector is semantically the same, yet the scaler will scale them differently.\n",
    "\n",
    "A better approach may be to create a data matrix of shape (num peptide, num patient time points) (and replacing all NaNs with 0s), and fit the standard scaler on this (using only the training patient ids). Then, when transforming the data, we transform the first half of each vector and the second half of each vector separately (using the same scaler), and concat these 2 scaled halfs to create a new scaled & concatenated feature vector\n",
    "\n",
    "However, tree-based methods (including XGBoost) are invariant to feature scaling, so they don't need any scaling: https://datascience.stackexchange.com/questions/60950/is-it-necessary-to-normalise-data-for-xgboost"
   ]
  },
  {
   "cell_type": "code",
   "execution_count": 19,
   "metadata": {},
   "outputs": [],
   "source": [
    "from sklearn.metrics import confusion_matrix\n",
    "from sklearn.metrics import classification_report\n",
    "\n",
    "# helper method to print basic model metrics\n",
    "def metrics(y_true, y_pred):\n",
    "    print('Confusion matrix:\\n', confusion_matrix(y_true, y_pred))\n",
    "    print('\\nReport:\\n', classification_report(y_true, y_pred))"
   ]
  },
  {
   "cell_type": "markdown",
   "metadata": {
    "id": "yJAvFabadQuR"
   },
   "source": [
    "### <font color='blue'>**XGBoost Classifier**"
   ]
  },
  {
   "cell_type": "code",
   "execution_count": null,
   "metadata": {},
   "outputs": [],
   "source": [
    "from xgboost import XGBClassifier\n",
    "from sklearn.metrics import accuracy_score\n",
    "\n",
    "# Apply transform to both the training set and the test set.\n",
    "train_dataX = np.array(trainX) # scaler.transform(trainX)\n",
    "val_dataX = np.array(valX) # scaler.transform(valX)\n",
    "test_dataX = np.array(testX) # scaler.transform(testX)\n",
    "\n",
    "train_dataY = np.array(trainY)\n",
    "val_dataY = np.array(valY)\n",
    "test_dataY = np.array(testY)"
   ]
  },
  {
   "cell_type": "code",
   "execution_count": null,
   "metadata": {
    "colab": {
     "base_uri": "https://localhost:8080/"
    },
    "executionInfo": {
     "elapsed": 60095,
     "status": "ok",
     "timestamp": 1620771681210,
     "user": {
      "displayName": "Sasya Reddi",
      "photoUrl": "",
      "userId": "02400148251831989501"
     },
     "user_tz": 420
    },
    "id": "DNyMiM4BQib8",
    "outputId": "7f3ce4a0-f7ee-4768-b271-4650aa90f15f"
   },
   "outputs": [
    {
     "name": "stdout",
     "output_type": "stream",
     "text": [
      "[14:57:48] WARNING: /Users/travis/build/dmlc/xgboost/src/learner.cc:1095: Starting in XGBoost 1.3.0, the default evaluation metric used with the objective 'binary:logistic' was changed from 'error' to 'logloss'. Explicitly set eval_metric if you'd like to restore the old behavior.\n"
     ]
    }
   ],
   "source": [
    "model = XGBClassifier(use_label_encoder=False)\n",
    "model.fit(train_dataX, train_dataY)"
   ]
  },
  {
   "cell_type": "code",
   "execution_count": null,
   "metadata": {},
   "outputs": [],
   "source": [
    "# Train metrics\n",
    "train_ypred = model.predict(train_dataX)\n",
    "train_predictions = [round(value) for value in train_ypred]\n",
    "\n",
    "metrics(train_dataY, train_predictions)\n",
    "train_accuracy = accuracy_score(train_dataY, train_predictions)\n",
    "\n",
    "print(\"Train accuracy - \", train_accuracy)"
   ]
  },
  {
   "cell_type": "code",
   "execution_count": null,
   "metadata": {},
   "outputs": [],
   "source": [
    "# Validation metrics\n",
    "val_ypred = model.predict(val_dataX)\n",
    "val_predictions = [round(value) for value in val_ypred]\n",
    "\n",
    "metrics(val_dataY, val_predictions)\n",
    "val_accuracy = accuracy_score(val_dataY, val_predictions)\n",
    "\n",
    "print(\"Val accuracy - \", val_accuracy)"
   ]
  },
  {
   "cell_type": "code",
   "execution_count": null,
   "metadata": {},
   "outputs": [],
   "source": [
    "# Test metrics\n",
    "test_ypred = model.predict(test_dataX)\n",
    "test_predictions = [round(value) for value in test_ypred]\n",
    "\n",
    "metrics(test_dataY, test_predictions)\n",
    "test_accuracy = accuracy_score(test_dataY, test_predictions)\n",
    "\n",
    "print(\"Test accuracy - \", test_accuracy)"
   ]
  }
 ],
 "metadata": {
  "accelerator": "GPU",
  "colab": {
   "collapsed_sections": [],
   "name": "Sasya (+PCA) - MLApproach.ipynb",
   "provenance": [
    {
     "file_id": "12_DObUJrtJgTxoDAO0EMkmFffF00QZW-",
     "timestamp": 1620702652816
    },
    {
     "file_id": "1pNQiIjpJYOh77_dYQqoLwb5AGJASHqv3",
     "timestamp": 1620595978554
    },
    {
     "file_id": "1U_LAchbfb3T_4N40qQcJfUUSbpgTS61r",
     "timestamp": 1620209098555
    },
    {
     "file_id": "1qLV4gTUNJVNYuCJvMbGLc5gXpeZk2EIm",
     "timestamp": 1620203669488
    }
   ]
  },
  "kernelspec": {
   "display_name": "Python 3",
   "language": "python",
   "name": "python3"
  },
  "language_info": {
   "codemirror_mode": {
    "name": "ipython",
    "version": 3
   },
   "file_extension": ".py",
   "mimetype": "text/x-python",
   "name": "python",
   "nbconvert_exporter": "python",
   "pygments_lexer": "ipython3",
   "version": "3.7.2"
  }
 },
 "nbformat": 4,
 "nbformat_minor": 4
}
