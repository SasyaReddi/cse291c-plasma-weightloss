{
 "cells": [
  {
   "cell_type": "markdown",
   "metadata": {
    "id": "Zh_FkgR00zpY"
   },
   "source": [
    "### <font color='blue'>**Data Exploration + XGBoost starter model**\n",
    "    Pulled from Eric's notebook\n"
   ]
  },
  {
   "cell_type": "code",
   "execution_count": 1,
   "metadata": {
    "executionInfo": {
     "elapsed": 3912,
     "status": "ok",
     "timestamp": 1620771624579,
     "user": {
      "displayName": "Sasya Reddi",
      "photoUrl": "",
      "userId": "02400148251831989501"
     },
     "user_tz": 420
    },
    "id": "T6f2dxrBuR1z"
   },
   "outputs": [],
   "source": [
    "import random\n",
    "import pandas as pd\n",
    "import numpy as np\n",
    "import os\n",
    "from tqdm import tqdm"
   ]
  },
  {
   "cell_type": "code",
   "execution_count": 2,
   "metadata": {
    "executionInfo": {
     "elapsed": 10350,
     "status": "ok",
     "timestamp": 1620771631080,
     "user": {
      "displayName": "Sasya Reddi",
      "photoUrl": "",
      "userId": "02400148251831989501"
     },
     "user_tz": 420
    },
    "id": "XdLCLw1wuR19"
   },
   "outputs": [],
   "source": [
    "class Dataset:\n",
    "    def __init__(self, pep_df, min_timepoints_per_patient=2):\n",
    "        '''\n",
    "        pep_df should be the pep_reduced_intensity_df we created above\n",
    "        This dataset will only include patients with at least `min_timepoints_per_patient` timepoints\n",
    "        '''\n",
    "        self.pep_df = pep_df\n",
    "        \n",
    "        self.data = {} # patient id -> [array of timepoint vectors]\n",
    "        for patient_idx in range(1, 58+1):\n",
    "            patient_timepoint_vectors = []\n",
    "            for timepoint in range(1, 7+1):\n",
    "                try:\n",
    "                    # We replace all nans with zeros using np.nan_to_num\n",
    "                    patient_timepoint_vector = np.nan_to_num(self.pep_df[f\"Patient_{patient_idx:02d}.Timepoint_{timepoint:01d}\"].values)\n",
    "                    patient_timepoint_vectors.append(patient_timepoint_vector)\n",
    "                except:\n",
    "                    # This patient timepoint doesnt exist in the data\n",
    "                    pass\n",
    "            \n",
    "            # If this patient had at least `min_timepoints_per_patient` timepoints, then include this patient id\n",
    "            if len(patient_timepoint_vectors) >= min_timepoints_per_patient:\n",
    "                self.data[patient_idx] = patient_timepoint_vectors\n",
    "                \n",
    "    @staticmethod\n",
    "    def prepare_df(filepath):\n",
    "        df = pd.read_csv(filepath, sep=\"\\t\")\n",
    "        \n",
    "        # only keep the Patient_x.Timepoint_y formatted columns\n",
    "        df = df.iloc[:, :667]\n",
    "        \n",
    "        # Remove all _unmod columns\n",
    "        df = df[df.columns.drop(list(df.filter(regex='.\\_unmod')))]\n",
    "        \n",
    "        # Convert the string abundance numbers into ints for all patient timepoint cols\n",
    "        def convert_to_number(val):\n",
    "            if isinstance(val, str):\n",
    "                return int(val.replace(\",\",\"\").strip())\n",
    "            return val\n",
    "\n",
    "        for patient_timepoint_col in df.columns.values[32:]:\n",
    "            df[patient_timepoint_col] = df[patient_timepoint_col].apply(convert_to_number)\n",
    "            df[patient_timepoint_col] = df[patient_timepoint_col].astype(float)\n",
    "        \n",
    "        return df\n",
    "    \n",
    "    @classmethod\n",
    "    def from_file(cls, filepath, *args, **kwargs):\n",
    "        pip_df = cls.prepare_df(filepath)\n",
    "        return cls(pip_df, *args, **kwargs)\n",
    "        \n",
    "                \n",
    "    def data_generator(self, patient_ids, num_samples, peptide_indices=None, same_patient_pair_probability=0.5):\n",
    "        \"\"\"\n",
    "        This will return a generator that will yield `num_samples` sample pairs of peptide vectors \n",
    "        (limited to only the `patient_ids` given, and the `peptide_indices` given (if none is given, then all peptides will be included))\n",
    "        such that, `same_patient_pair_probability` of the time, the pair of vectors will be from the same patient (but different time points)\n",
    "                \n",
    "        Data samples yielded by the returned generator will be of the form:\n",
    "        {\n",
    "            \"first_patient_idx\" : ...,\n",
    "            \"first_patient_timepoint_vector\" : ...,\n",
    "            \"second_patient_idx\" : ...,\n",
    "            \"second_patient_timepoint_vector\" : ...,\n",
    "            \"is_same_patient\" : True/False\n",
    "        }\n",
    "        \n",
    "        \"\"\"\n",
    "        assert same_patient_pair_probability is not None\n",
    "        \n",
    "        # First ensure all of the given patient ids are in out prepared dataset\n",
    "        assert all(pid in self.data for pid in patient_ids), \"Not all of the given patient ids are in our dataset\"\n",
    "        \n",
    "        def data_gen():\n",
    "            # This generator is used when same_patient_pair_probability is NOT None\n",
    "            for _ in range(num_samples):\n",
    "                \n",
    "                # pick a random first patient id\n",
    "                first_patient_id = random.choice(patient_ids)\n",
    "                \n",
    "                # pick a random timepoint vector for this first patient id\n",
    "                first_patient_timepoint_vector = random.choice(self.data[first_patient_id])\n",
    "                \n",
    "                # decide if the second patient in our pair should be the same as the first\n",
    "                is_second_patient_same = random.random() <= same_patient_pair_probability\n",
    "                \n",
    "                if is_second_patient_same:\n",
    "                    second_patient_id = first_patient_id\n",
    "                else:\n",
    "                    second_patient_id = random.choice([pid for pid in patient_ids if pid != first_patient_id])\n",
    "                \n",
    "                # Note: In this approach, it is possible that, when the second patient = first patient,\n",
    "                # They both return the same timepoint vector. but that should be okay, since this will help the model learn\n",
    "                # to detect identical inputs, especially when the input to the model is the concatenated vector\n",
    "                second_patient_timepoint_vector = random.choice(self.data[second_patient_id])\n",
    "                \n",
    "                # if peptide_indices is given, filter the vectors to only include the `peptide_indices` peptides\n",
    "                if peptide_indices:\n",
    "                    first_patient_timepoint_vector = first_patient_timepoint_vector[peptide_indices]\n",
    "                    second_patient_timepoint_vector = second_patient_timepoint_vector[peptide_indices]\n",
    "                \n",
    "                yield {\n",
    "                    \"first_patient_id\" : first_patient_id,\n",
    "                    \"first_patient_timepoint_vector\" : first_patient_timepoint_vector,\n",
    "                    \"second_patient_id\" : second_patient_id,\n",
    "                    \"second_patient_timepoint_vector\" : second_patient_timepoint_vector,\n",
    "                    \"is_same_patient\" : first_patient_id == second_patient_id\n",
    "                }\n",
    "\n",
    "        return data_gen()"
   ]
  },
  {
   "cell_type": "code",
   "execution_count": 3,
   "metadata": {},
   "outputs": [],
   "source": [
    "DATA_DIR = \"./Data\"\n",
    "DATA_TSV_FILEPATH = os.path.join(DATA_DIR, \"peptidoforms_intensity\", \"data.tsv\")"
   ]
  },
  {
   "cell_type": "code",
   "execution_count": 4,
   "metadata": {},
   "outputs": [],
   "source": [
    "# Establish all random seeds\n",
    "random.seed(2021)\n",
    "\n",
    "# TODO: other libraries should be seeded here, like sklearn, torch, xgboost, etc."
   ]
  },
  {
   "cell_type": "markdown",
   "metadata": {},
   "source": [
    "### <font color='blue'>**Creating Main Dataset**"
   ]
  },
  {
   "cell_type": "code",
   "execution_count": 5,
   "metadata": {},
   "outputs": [
    {
     "name": "stderr",
     "output_type": "stream",
     "text": [
      "/Users/subby/UCSD/CSE_291C/Projects/cse291c-plasma-weightloss/venv/lib/python3.7/site-packages/IPython/core/interactiveshell.py:3441: DtypeWarning: Columns (38,42,44,48,52,56,92,98,102,108,116,122,124,126,128,130,132,134,138,140,144,146,148,150,152,154,156,176,184,190,196,200,212,216,228,234,236,238,242,244,246,248,250,252,254,256,258,260,262,264,268,270,272,274,284,286,288,290,292,294,296,298,300,302,304,306,308,310,312,314,316,318,322,324,330,332,334,336,338,340,342,344,346,350,364,372,374,378,380,382,388,390,392,394,398,404,406,408,410,412,414,416,426,428,440,444,446,454,458,460,464,466,468,484,502,510,514,516,522,524,526,528,538,540,542,544,552,554,556,558,562,576,592,606,608,610,612,618,622,624,626,628,630,632,640,642,644,646,650,652,654,656,658,660,662,664,674,676,678,684,686,692,694,696,698,700,702) have mixed types.Specify dtype option on import or set low_memory=False.\n",
      "  exec(code_obj, self.user_global_ns, self.user_ns)\n"
     ]
    }
   ],
   "source": [
    "peptidoforms_intensity_dataset = Dataset.from_file(DATA_TSV_FILEPATH)"
   ]
  },
  {
   "cell_type": "code",
   "execution_count": 6,
   "metadata": {},
   "outputs": [
    {
     "data": {
      "text/plain": [
       "(40921, 350)"
      ]
     },
     "execution_count": 6,
     "metadata": {},
     "output_type": "execute_result"
    }
   ],
   "source": [
    "peptidoforms_intensity_df = peptidoforms_intensity_dataset.pep_df\n",
    "peptidoforms_intensity_df.shape"
   ]
  },
  {
   "cell_type": "markdown",
   "metadata": {
    "id": "-6Z8H_TkcxZE"
   },
   "source": [
    "---"
   ]
  },
  {
   "cell_type": "markdown",
   "metadata": {
    "id": "iFUA7k1jGkcH"
   },
   "source": [
    "### <font color='blue'>**Creating Train/Val/Test Datasets**\n",
    "    \n",
    "Train/val/test datasets will enforce the `same_patient_pair_probability = 0.5`"
   ]
  },
  {
   "cell_type": "code",
   "execution_count": 7,
   "metadata": {},
   "outputs": [],
   "source": [
    "train_ratio = 0.6\n",
    "val_ratio = 0.2\n",
    "test_ratio = 0.2"
   ]
  },
  {
   "cell_type": "code",
   "execution_count": 8,
   "metadata": {},
   "outputs": [],
   "source": [
    "# For now, we don't select a particular subset of peptides, and just use all of them.\n",
    "selected_peptide_indices = None"
   ]
  },
  {
   "cell_type": "code",
   "execution_count": 9,
   "metadata": {},
   "outputs": [],
   "source": [
    "train_same_patient_pair_probability = 0.5\n",
    "val_same_patient_pair_probability = 0.5\n",
    "test_same_patient_pair_probability = 0.5"
   ]
  },
  {
   "cell_type": "code",
   "execution_count": 10,
   "metadata": {},
   "outputs": [],
   "source": [
    "# using 1k samples for train/val/test finishes fast, but may not be accurate\n",
    "# so we should train with more samples (~100K train/val/test) with colab/gpu later, which would take more time\n",
    "num_train_samples = 10000\n",
    "num_val_samples = 10000\n",
    "num_test_samples = 10000"
   ]
  },
  {
   "cell_type": "code",
   "execution_count": 11,
   "metadata": {},
   "outputs": [
    {
     "data": {
      "text/plain": [
       "52"
      ]
     },
     "execution_count": 11,
     "metadata": {},
     "output_type": "execute_result"
    }
   ],
   "source": [
    "all_patient_ids = list(peptidoforms_intensity_dataset.data.keys())\n",
    "num_patient_ids = len(all_patient_ids)\n",
    "num_patient_ids"
   ]
  },
  {
   "cell_type": "code",
   "execution_count": 12,
   "metadata": {},
   "outputs": [
    {
     "data": {
      "text/plain": [
       "(31, 10, 11)"
      ]
     },
     "execution_count": 12,
     "metadata": {},
     "output_type": "execute_result"
    }
   ],
   "source": [
    "random.shuffle(all_patient_ids)\n",
    "train_patient_ids, val_patient_ids, test_patient_ids = np.split(all_patient_ids, \n",
    "                                                                [int(train_ratio * num_patient_ids), \n",
    "                                                                 int((train_ratio + val_ratio) * num_patient_ids)\n",
    "                                                                ])\n",
    "train_patient_ids = train_patient_ids.tolist()\n",
    "val_patient_ids = val_patient_ids.tolist()\n",
    "test_patient_ids = test_patient_ids.tolist()\n",
    "\n",
    "len(train_patient_ids), len(val_patient_ids), len(test_patient_ids)"
   ]
  },
  {
   "cell_type": "code",
   "execution_count": 18,
   "metadata": {},
   "outputs": [],
   "source": [
    "def create_data_arrays_from_generator(gen):\n",
    "    \"\"\"\n",
    "    returns (concatX, absdiffX Y)\n",
    "    \n",
    "    concatX is the two input feature vectors concatenated together\n",
    "    absdiffX is the abs difference between the two input feature vectors\n",
    "    Y is always 1/0 if the vectors are from the same patient or not\n",
    "    \"\"\"    \n",
    "    concatX, absdiffX, Y = [], [], []\n",
    "    \n",
    "    for data_input in tqdm(gen):\n",
    "        concatX.append(np.hstack((data_input['first_patient_timepoint_vector'], data_input['second_patient_timepoint_vector'])).astype(int))\n",
    "        absdiffX.append(np.abs(data_input['first_patient_timepoint_vector'] - data_input['second_patient_timepoint_vector']).astype(int))\n",
    "        Y.append(1 if data_input['is_same_patient'] else 0)\n",
    "    \n",
    "    return np.array(concatX), np.array(absdiffX), np.array(Y)"
   ]
  },
  {
   "cell_type": "code",
   "execution_count": 19,
   "metadata": {},
   "outputs": [
    {
     "name": "stderr",
     "output_type": "stream",
     "text": [
      "10000it [00:09, 1085.89it/s]\n",
      "10000it [00:09, 1065.04it/s]\n",
      "10000it [00:08, 1159.44it/s]\n"
     ]
    }
   ],
   "source": [
    "train_data_gen = peptidoforms_intensity_dataset.data_generator(\n",
    "    patient_ids=train_patient_ids, \n",
    "    num_samples=num_train_samples, \n",
    "    peptide_indices=selected_peptide_indices, \n",
    "    same_patient_pair_probability=train_same_patient_pair_probability)\n",
    "concatTrainX, absDiffTrainX, trainY = create_data_arrays_from_generator(train_data_gen)\n",
    "\n",
    "val_data_gen = peptidoforms_intensity_dataset.data_generator(\n",
    "    patient_ids=val_patient_ids, \n",
    "    num_samples=num_val_samples, \n",
    "    peptide_indices=selected_peptide_indices, \n",
    "    same_patient_pair_probability=val_same_patient_pair_probability)\n",
    "concatValX, absDiffValX, valY = create_data_arrays_from_generator(val_data_gen)\n",
    "\n",
    "test_data_gen = peptidoforms_intensity_dataset.data_generator(\n",
    "    patient_ids=test_patient_ids, \n",
    "    num_samples=num_test_samples, \n",
    "    peptide_indices=selected_peptide_indices, \n",
    "    same_patient_pair_probability=test_same_patient_pair_probability)\n",
    "concatTestX, absDiffTestX, testY = create_data_arrays_from_generator(test_data_gen)"
   ]
  },
  {
   "cell_type": "code",
   "execution_count": 24,
   "metadata": {},
   "outputs": [
    {
     "data": {
      "text/plain": [
       "1    5035\n",
       "0    4965\n",
       "dtype: int64"
      ]
     },
     "execution_count": 24,
     "metadata": {},
     "output_type": "execute_result"
    }
   ],
   "source": [
    "# Sanity check that the labels are in a rough 50-50 distribution\n",
    "pd.Series(trainY).value_counts()"
   ]
  },
  {
   "cell_type": "code",
   "execution_count": 25,
   "metadata": {},
   "outputs": [
    {
     "data": {
      "text/plain": [
       "0    5021\n",
       "1    4979\n",
       "dtype: int64"
      ]
     },
     "execution_count": 25,
     "metadata": {},
     "output_type": "execute_result"
    }
   ],
   "source": [
    "# Sanity check that the labels are in a rough 50-50 distribution\n",
    "pd.Series(valY).value_counts()"
   ]
  },
  {
   "cell_type": "code",
   "execution_count": 26,
   "metadata": {},
   "outputs": [
    {
     "data": {
      "text/plain": [
       "1    5008\n",
       "0    4992\n",
       "dtype: int64"
      ]
     },
     "execution_count": 26,
     "metadata": {},
     "output_type": "execute_result"
    }
   ],
   "source": [
    "# Sanity check that the labels are in a rough 50-50 distribution\n",
    "pd.Series(testY).value_counts()"
   ]
  },
  {
   "cell_type": "markdown",
   "metadata": {
    "id": "h7AWhg0RJXeQ"
   },
   "source": [
    "---"
   ]
  },
  {
   "cell_type": "markdown",
   "metadata": {
    "id": "yJAvFabadQuR"
   },
   "source": [
    "### <font color='blue'>**XGBoost model variants**</font>\n",
    "\n",
    "The different variants we will be training are the following:\n",
    "\n",
    "First, train 2 models where one takes in concatenated features vs. the other takes in the absolute value difference of the input feature vectors. Let the better of these 2 models (based on the lowest val loss achieved) be called model A.\n",
    "\n",
    "Using model A, get its important feature weights, and try to train the same model architecture but only using the top k features (where k = 1, 10, 100, num_nonzeroweight_peptides_from_modelA).\n",
    "\n",
    "Finally, using model A, also train only using peptides present in at most N patients for N = (5, 10, 20, 40).\n",
    "\n",
    "---\n",
    "\n",
    "**Sanity check:** Initial log loss should be around $0.69$, since $-ln(0.5) = 0.6931471806$ and there is a $0.5$ probability of same/different patient"
   ]
  },
  {
   "cell_type": "code",
   "execution_count": 41,
   "metadata": {},
   "outputs": [],
   "source": [
    "from xgboost import XGBClassifier\n",
    "from sklearn.metrics import accuracy_score, precision_recall_curve"
   ]
  },
  {
   "cell_type": "code",
   "execution_count": 33,
   "metadata": {},
   "outputs": [],
   "source": [
    "modelA1 = XGBClassifier(use_label_encoder=False, max_depth=3)\n",
    "modelA2 = XGBClassifier(use_label_encoder=False, max_depth=3)"
   ]
  },
  {
   "cell_type": "code",
   "execution_count": 34,
   "metadata": {
    "colab": {
     "base_uri": "https://localhost:8080/"
    },
    "executionInfo": {
     "elapsed": 60095,
     "status": "ok",
     "timestamp": 1620771681210,
     "user": {
      "displayName": "Sasya Reddi",
      "photoUrl": "",
      "userId": "02400148251831989501"
     },
     "user_tz": 420
    },
    "id": "DNyMiM4BQib8",
    "outputId": "7f3ce4a0-f7ee-4768-b271-4650aa90f15f"
   },
   "outputs": [
    {
     "name": "stdout",
     "output_type": "stream",
     "text": [
      "Training model A1: concatenated input feature vectors\n",
      "[0]\tvalidation_0-logloss:0.68710\n",
      "[1]\tvalidation_0-logloss:0.68349\n",
      "[2]\tvalidation_0-logloss:0.69130\n",
      "[3]\tvalidation_0-logloss:0.66392\n",
      "[4]\tvalidation_0-logloss:0.64433\n",
      "[5]\tvalidation_0-logloss:0.61686\n",
      "[6]\tvalidation_0-logloss:0.62079\n",
      "[7]\tvalidation_0-logloss:0.59032\n",
      "[8]\tvalidation_0-logloss:0.59351\n",
      "[9]\tvalidation_0-logloss:0.59635\n",
      "[10]\tvalidation_0-logloss:0.59247\n",
      "[11]\tvalidation_0-logloss:0.59075\n",
      "[12]\tvalidation_0-logloss:0.59527\n",
      "[13]\tvalidation_0-logloss:0.59056\n",
      "[14]\tvalidation_0-logloss:0.56340\n",
      "[15]\tvalidation_0-logloss:0.53616\n",
      "[16]\tvalidation_0-logloss:0.53252\n",
      "[17]\tvalidation_0-logloss:0.48561\n",
      "[18]\tvalidation_0-logloss:0.48758\n",
      "[19]\tvalidation_0-logloss:0.45069\n",
      "[20]\tvalidation_0-logloss:0.44118\n",
      "[21]\tvalidation_0-logloss:0.44524\n",
      "[22]\tvalidation_0-logloss:0.40883\n",
      "[23]\tvalidation_0-logloss:0.40808\n",
      "[24]\tvalidation_0-logloss:0.40684\n",
      "[25]\tvalidation_0-logloss:0.37849\n",
      "[26]\tvalidation_0-logloss:0.37960\n",
      "[27]\tvalidation_0-logloss:0.38072\n",
      "[28]\tvalidation_0-logloss:0.38673\n",
      "[29]\tvalidation_0-logloss:0.35928\n",
      "[30]\tvalidation_0-logloss:0.35633\n",
      "[31]\tvalidation_0-logloss:0.35869\n",
      "[32]\tvalidation_0-logloss:0.35584\n",
      "[33]\tvalidation_0-logloss:0.36152\n",
      "[34]\tvalidation_0-logloss:0.36790\n",
      "[35]\tvalidation_0-logloss:0.35714\n",
      "[36]\tvalidation_0-logloss:0.34103\n",
      "[37]\tvalidation_0-logloss:0.35302\n",
      "[38]\tvalidation_0-logloss:0.35286\n",
      "[39]\tvalidation_0-logloss:0.36412\n",
      "[40]\tvalidation_0-logloss:0.35680\n",
      "[41]\tvalidation_0-logloss:0.35397\n",
      "[42]\tvalidation_0-logloss:0.36233\n",
      "[43]\tvalidation_0-logloss:0.34879\n",
      "[44]\tvalidation_0-logloss:0.34653\n",
      "[45]\tvalidation_0-logloss:0.33380\n",
      "[46]\tvalidation_0-logloss:0.31978\n",
      "[47]\tvalidation_0-logloss:0.32104\n",
      "[48]\tvalidation_0-logloss:0.32108\n",
      "[49]\tvalidation_0-logloss:0.32134\n",
      "[50]\tvalidation_0-logloss:0.31838\n",
      "[51]\tvalidation_0-logloss:0.30583\n",
      "[52]\tvalidation_0-logloss:0.30512\n",
      "[53]\tvalidation_0-logloss:0.30520\n",
      "[54]\tvalidation_0-logloss:0.30112\n",
      "[55]\tvalidation_0-logloss:0.29493\n",
      "[56]\tvalidation_0-logloss:0.28983\n",
      "[57]\tvalidation_0-logloss:0.28804\n",
      "[58]\tvalidation_0-logloss:0.27028\n",
      "[59]\tvalidation_0-logloss:0.27074\n",
      "[60]\tvalidation_0-logloss:0.27082\n",
      "[61]\tvalidation_0-logloss:0.27535\n",
      "[62]\tvalidation_0-logloss:0.27444\n",
      "[63]\tvalidation_0-logloss:0.27580\n",
      "[64]\tvalidation_0-logloss:0.26865\n",
      "[65]\tvalidation_0-logloss:0.26487\n",
      "[66]\tvalidation_0-logloss:0.26636\n",
      "[67]\tvalidation_0-logloss:0.26704\n",
      "[68]\tvalidation_0-logloss:0.27265\n",
      "[69]\tvalidation_0-logloss:0.27283\n",
      "[70]\tvalidation_0-logloss:0.27215\n",
      "[71]\tvalidation_0-logloss:0.27535\n",
      "[72]\tvalidation_0-logloss:0.27310\n",
      "[73]\tvalidation_0-logloss:0.26968\n",
      "[74]\tvalidation_0-logloss:0.26289\n",
      "[75]\tvalidation_0-logloss:0.26783\n",
      "[76]\tvalidation_0-logloss:0.27194\n",
      "[77]\tvalidation_0-logloss:0.26349\n",
      "[78]\tvalidation_0-logloss:0.26283\n",
      "[79]\tvalidation_0-logloss:0.24998\n",
      "[80]\tvalidation_0-logloss:0.24838\n",
      "[81]\tvalidation_0-logloss:0.24244\n",
      "[82]\tvalidation_0-logloss:0.24301\n",
      "[83]\tvalidation_0-logloss:0.24140\n",
      "[84]\tvalidation_0-logloss:0.24230\n",
      "[85]\tvalidation_0-logloss:0.23609\n",
      "[86]\tvalidation_0-logloss:0.23332\n",
      "[87]\tvalidation_0-logloss:0.23067\n",
      "[88]\tvalidation_0-logloss:0.23312\n",
      "[89]\tvalidation_0-logloss:0.22679\n",
      "[90]\tvalidation_0-logloss:0.21930\n",
      "[91]\tvalidation_0-logloss:0.21522\n",
      "[92]\tvalidation_0-logloss:0.20823\n",
      "[93]\tvalidation_0-logloss:0.20821\n",
      "[94]\tvalidation_0-logloss:0.20961\n",
      "[95]\tvalidation_0-logloss:0.20576\n",
      "[96]\tvalidation_0-logloss:0.19587\n",
      "[97]\tvalidation_0-logloss:0.19643\n",
      "[98]\tvalidation_0-logloss:0.19162\n",
      "[99]\tvalidation_0-logloss:0.19511\n",
      "\n",
      "\n",
      "\n",
      "Training model A2: abs difference of input feature vectors\n",
      "[0]\tvalidation_0-logloss:0.51639\n",
      "[1]\tvalidation_0-logloss:0.40751\n",
      "[2]\tvalidation_0-logloss:0.34215\n",
      "[3]\tvalidation_0-logloss:0.30480\n",
      "[4]\tvalidation_0-logloss:0.26570\n",
      "[5]\tvalidation_0-logloss:0.23234\n",
      "[6]\tvalidation_0-logloss:0.20550\n",
      "[7]\tvalidation_0-logloss:0.17766\n",
      "[8]\tvalidation_0-logloss:0.15006\n",
      "[9]\tvalidation_0-logloss:0.12553\n",
      "[10]\tvalidation_0-logloss:0.10920\n",
      "[11]\tvalidation_0-logloss:0.09892\n",
      "[12]\tvalidation_0-logloss:0.08632\n",
      "[13]\tvalidation_0-logloss:0.07646\n",
      "[14]\tvalidation_0-logloss:0.06775\n",
      "[15]\tvalidation_0-logloss:0.05941\n",
      "[16]\tvalidation_0-logloss:0.05496\n",
      "[17]\tvalidation_0-logloss:0.04893\n",
      "[18]\tvalidation_0-logloss:0.04492\n",
      "[19]\tvalidation_0-logloss:0.04121\n",
      "[20]\tvalidation_0-logloss:0.03976\n",
      "[21]\tvalidation_0-logloss:0.03728\n",
      "[22]\tvalidation_0-logloss:0.03488\n",
      "[23]\tvalidation_0-logloss:0.03257\n",
      "[24]\tvalidation_0-logloss:0.03184\n",
      "[25]\tvalidation_0-logloss:0.03009\n",
      "[26]\tvalidation_0-logloss:0.02761\n",
      "[27]\tvalidation_0-logloss:0.02636\n",
      "[28]\tvalidation_0-logloss:0.02604\n",
      "[29]\tvalidation_0-logloss:0.02408\n",
      "[30]\tvalidation_0-logloss:0.02405\n",
      "[31]\tvalidation_0-logloss:0.02377\n",
      "[32]\tvalidation_0-logloss:0.02217\n",
      "[33]\tvalidation_0-logloss:0.02204\n",
      "[34]\tvalidation_0-logloss:0.02106\n",
      "[35]\tvalidation_0-logloss:0.02058\n",
      "[36]\tvalidation_0-logloss:0.02006\n",
      "[37]\tvalidation_0-logloss:0.01918\n",
      "[38]\tvalidation_0-logloss:0.01872\n",
      "[39]\tvalidation_0-logloss:0.01895\n",
      "[40]\tvalidation_0-logloss:0.01904\n",
      "[41]\tvalidation_0-logloss:0.01819\n",
      "[42]\tvalidation_0-logloss:0.01772\n",
      "[43]\tvalidation_0-logloss:0.01750\n",
      "[44]\tvalidation_0-logloss:0.01740\n",
      "[45]\tvalidation_0-logloss:0.01750\n",
      "[46]\tvalidation_0-logloss:0.01728\n",
      "[47]\tvalidation_0-logloss:0.01732\n",
      "[48]\tvalidation_0-logloss:0.01743\n",
      "[49]\tvalidation_0-logloss:0.01735\n",
      "[50]\tvalidation_0-logloss:0.01764\n",
      "[51]\tvalidation_0-logloss:0.01773\n",
      "[52]\tvalidation_0-logloss:0.01751\n",
      "[53]\tvalidation_0-logloss:0.01752\n",
      "[54]\tvalidation_0-logloss:0.01712\n",
      "[55]\tvalidation_0-logloss:0.01716\n",
      "[56]\tvalidation_0-logloss:0.01704\n",
      "[57]\tvalidation_0-logloss:0.01672\n",
      "[58]\tvalidation_0-logloss:0.01677\n",
      "[59]\tvalidation_0-logloss:0.01684\n",
      "[60]\tvalidation_0-logloss:0.01656\n",
      "[61]\tvalidation_0-logloss:0.01665\n",
      "[62]\tvalidation_0-logloss:0.01716\n",
      "[63]\tvalidation_0-logloss:0.01735\n",
      "[64]\tvalidation_0-logloss:0.01763\n",
      "[65]\tvalidation_0-logloss:0.01776\n",
      "[66]\tvalidation_0-logloss:0.01777\n",
      "[67]\tvalidation_0-logloss:0.01778\n",
      "[68]\tvalidation_0-logloss:0.01779\n",
      "[69]\tvalidation_0-logloss:0.01780\n",
      "[70]\tvalidation_0-logloss:0.01781\n",
      "[71]\tvalidation_0-logloss:0.01781\n",
      "[72]\tvalidation_0-logloss:0.01782\n",
      "[73]\tvalidation_0-logloss:0.01782\n",
      "[74]\tvalidation_0-logloss:0.01782\n",
      "[75]\tvalidation_0-logloss:0.01782\n",
      "[76]\tvalidation_0-logloss:0.01783\n",
      "[77]\tvalidation_0-logloss:0.01783\n",
      "[78]\tvalidation_0-logloss:0.01783\n",
      "[79]\tvalidation_0-logloss:0.01783\n",
      "[80]\tvalidation_0-logloss:0.01783\n",
      "[81]\tvalidation_0-logloss:0.01783\n",
      "[82]\tvalidation_0-logloss:0.01783\n",
      "[83]\tvalidation_0-logloss:0.01783\n",
      "[84]\tvalidation_0-logloss:0.01783\n",
      "[85]\tvalidation_0-logloss:0.01783\n",
      "[86]\tvalidation_0-logloss:0.01783\n",
      "[87]\tvalidation_0-logloss:0.01783\n",
      "[88]\tvalidation_0-logloss:0.01783\n",
      "[89]\tvalidation_0-logloss:0.01783\n",
      "[90]\tvalidation_0-logloss:0.01783\n",
      "[91]\tvalidation_0-logloss:0.01783\n",
      "[92]\tvalidation_0-logloss:0.01783\n",
      "[93]\tvalidation_0-logloss:0.01783\n",
      "[94]\tvalidation_0-logloss:0.01783\n",
      "[95]\tvalidation_0-logloss:0.01783\n",
      "[96]\tvalidation_0-logloss:0.01783\n",
      "[97]\tvalidation_0-logloss:0.01783\n",
      "[98]\tvalidation_0-logloss:0.01783\n",
      "[99]\tvalidation_0-logloss:0.01783\n"
     ]
    },
    {
     "data": {
      "text/plain": [
       "XGBClassifier(base_score=0.5, booster='gbtree', colsample_bylevel=1,\n",
       "              colsample_bynode=1, colsample_bytree=1, gamma=0, gpu_id=-1,\n",
       "              importance_type='gain', interaction_constraints='',\n",
       "              learning_rate=0.300000012, max_delta_step=0, max_depth=3,\n",
       "              min_child_weight=1, missing=nan, monotone_constraints='()',\n",
       "              n_estimators=100, n_jobs=8, num_parallel_tree=1, random_state=0,\n",
       "              reg_alpha=0, reg_lambda=1, scale_pos_weight=1, subsample=1,\n",
       "              tree_method='exact', use_label_encoder=False,\n",
       "              validate_parameters=1, verbosity=None)"
      ]
     },
     "execution_count": 34,
     "metadata": {},
     "output_type": "execute_result"
    }
   ],
   "source": [
    "# trained on concatenated vectors\n",
    "print(\"Training model A1: concatenated input feature vectors\")\n",
    "modelA1.fit(concatTrainX, trainY, eval_metric=\"logloss\", eval_set=[(concatValX, valY)], verbose=True)\n",
    "\n",
    "print(\"\\n\\n\")\n",
    "\n",
    "# trained on concatenated vectors\n",
    "print(\"Training model A2: abs difference of input feature vectors\")\n",
    "modelA2.fit(absDiffTrainX, trainY, eval_metric=\"logloss\", eval_set=[(absDiffValX, valY)], verbose=True)"
   ]
  },
  {
   "cell_type": "code",
   "execution_count": 36,
   "metadata": {},
   "outputs": [],
   "source": [
    "## Save models\n",
    "modelA1.save_model('xgboost_modelA1.json')\n",
    "modelA2.save_model('xgboost_modelA2.json')"
   ]
  },
  {
   "cell_type": "markdown",
   "metadata": {},
   "source": [
    "### Model A variants - metrics"
   ]
  },
  {
   "cell_type": "code",
   "execution_count": 37,
   "metadata": {},
   "outputs": [],
   "source": [
    "import matplotlib.pyplot as plt"
   ]
  },
  {
   "cell_type": "code",
   "execution_count": 38,
   "metadata": {},
   "outputs": [],
   "source": [
    "from sklearn.metrics import confusion_matrix\n",
    "from sklearn.metrics import classification_report\n",
    "\n",
    "# helper method to print basic model metrics\n",
    "def metrics(y_true, y_pred):\n",
    "    print('Confusion matrix:\\n', confusion_matrix(y_true, y_pred))\n",
    "    print('\\nReport:\\n', classification_report(y_true, y_pred))"
   ]
  },
  {
   "cell_type": "code",
   "execution_count": 108,
   "metadata": {},
   "outputs": [],
   "source": [
    "def print_model_metrics(model, model_input_format, mode, peptide_indices=None):\n",
    "    assert model_input_format in (\"concat\", \"abs_diff\")\n",
    "    assert mode in (\"train\", \"val\", \"test\")\n",
    "    \n",
    "    if peptide_indices is None:\n",
    "        x_s = {\n",
    "            \"train\" : {\n",
    "                \"concat\" : concatTrainX,\n",
    "                \"abs_diff\" : absDiffTrainX\n",
    "            },\n",
    "            \"val\" : {\n",
    "                \"concat\" : concatValX,\n",
    "                \"abs_diff\" : absDiffValX\n",
    "            },\n",
    "            \"test\" : {\n",
    "                \"concat\" : concatTestX,\n",
    "                \"abs_diff\" : absDiffTestX\n",
    "            }\n",
    "        }\n",
    "    else:\n",
    "        x_s = {\n",
    "            \"train\" : {\n",
    "                \"concat\" : concatTrainX,\n",
    "                \"abs_diff\" : absDiffTrainX[:,peptide_indices]\n",
    "            },\n",
    "            \"val\" : {\n",
    "                \"concat\" : concatValX,\n",
    "                \"abs_diff\" : absDiffValX[:,peptide_indices]\n",
    "            },\n",
    "            \"test\" : {\n",
    "                \"concat\" : concatTestX,\n",
    "                \"abs_diff\" : absDiffTestX[:,peptide_indices]\n",
    "            }\n",
    "        }\n",
    "\n",
    "\n",
    "    y_s = {\n",
    "        \"train\" : trainY,\n",
    "        \"val\" : valY,\n",
    "        \"test\" : testY\n",
    "    }\n",
    "    \n",
    "    x = x_s[mode][model_input_format]\n",
    "    y = y_s[mode]\n",
    "        \n",
    "    pred_scores = model.predict(x)\n",
    "    preds = [round(pred_score) for pred_score in pred_scores]\n",
    "    \n",
    "    metrics(y, preds)\n",
    "    acc = accuracy_score(y, preds)\n",
    "    \n",
    "    print (f\"{mode} accuracy: {acc}\")\n",
    "    \n",
    "    precision, recall, thresholds = precision_recall_curve(y, pred_scores)\n",
    "    \n",
    "    # plotting below taken from: \n",
    "    # https://machinelearningmastery.com/roc-curves-and-precision-recall-curves-for-imbalanced-classification/\n",
    "    \n",
    "    # calculate the no skill line as the proportion of the positive class\n",
    "    no_skill = len(y[y==0]) / len(y)\n",
    "    \n",
    "    # plot the no skill precision-recall curve\n",
    "    plt.plot([0, 1], [no_skill, no_skill], linestyle='--', label='Trivial model')\n",
    "    \n",
    "    # plot the model precision-recall curve\n",
    "    plt.plot(recall, precision, marker='.', label='XGBoost model')\n",
    "    \n",
    "    # axis labels\n",
    "    plt.xlabel('Recall')\n",
    "    plt.ylabel('Precision')\n",
    "    \n",
    "    # show the legend\n",
    "    plt.legend()\n",
    "    \n",
    "    # show the plot\n",
    "    plt.show()"
   ]
  },
  {
   "cell_type": "markdown",
   "metadata": {},
   "source": [
    "#### Model A1"
   ]
  },
  {
   "cell_type": "code",
   "execution_count": 43,
   "metadata": {},
   "outputs": [
    {
     "name": "stdout",
     "output_type": "stream",
     "text": [
      "Confusion matrix:\n",
      " [[4965    0]\n",
      " [   0 5035]]\n",
      "\n",
      "Report:\n",
      "               precision    recall  f1-score   support\n",
      "\n",
      "           0       1.00      1.00      1.00      4965\n",
      "           1       1.00      1.00      1.00      5035\n",
      "\n",
      "    accuracy                           1.00     10000\n",
      "   macro avg       1.00      1.00      1.00     10000\n",
      "weighted avg       1.00      1.00      1.00     10000\n",
      "\n",
      "train accuracy: 1.0\n"
     ]
    },
    {
     "data": {
      "image/png": "[encoded data removed]",
      "text/plain": [
       "<Figure size 432x288 with 1 Axes>"
      ]
     },
     "metadata": {
      "needs_background": "light"
     },
     "output_type": "display_data"
    }
   ],
   "source": [
    "print_model_metrics(modelA1, \"concat\", \"train\")"
   ]
  },
  {
   "cell_type": "code",
   "execution_count": 44,
   "metadata": {},
   "outputs": [
    {
     "name": "stdout",
     "output_type": "stream",
     "text": [
      "Confusion matrix:\n",
      " [[4986   35]\n",
      " [ 618 4361]]\n",
      "\n",
      "Report:\n",
      "               precision    recall  f1-score   support\n",
      "\n",
      "           0       0.89      0.99      0.94      5021\n",
      "           1       0.99      0.88      0.93      4979\n",
      "\n",
      "    accuracy                           0.93     10000\n",
      "   macro avg       0.94      0.93      0.93     10000\n",
      "weighted avg       0.94      0.93      0.93     10000\n",
      "\n",
      "val accuracy: 0.9347\n"
     ]
    },
    {
     "data": {
      "image/png": "[encoded data removed]",
      "text/plain": [
       "<Figure size 432x288 with 1 Axes>"
      ]
     },
     "metadata": {
      "needs_background": "light"
     },
     "output_type": "display_data"
    }
   ],
   "source": [
    "print_model_metrics(modelA1, \"concat\", \"val\")"
   ]
  },
  {
   "cell_type": "code",
   "execution_count": 45,
   "metadata": {},
   "outputs": [
    {
     "name": "stdout",
     "output_type": "stream",
     "text": [
      "Confusion matrix:\n",
      " [[4984    8]\n",
      " [1222 3786]]\n",
      "\n",
      "Report:\n",
      "               precision    recall  f1-score   support\n",
      "\n",
      "           0       0.80      1.00      0.89      4992\n",
      "           1       1.00      0.76      0.86      5008\n",
      "\n",
      "    accuracy                           0.88     10000\n",
      "   macro avg       0.90      0.88      0.88     10000\n",
      "weighted avg       0.90      0.88      0.88     10000\n",
      "\n",
      "test accuracy: 0.877\n"
     ]
    },
    {
     "data": {
      "image/png": "[encoded data removed]",
      "text/plain": [
       "<Figure size 432x288 with 1 Axes>"
      ]
     },
     "metadata": {
      "needs_background": "light"
     },
     "output_type": "display_data"
    }
   ],
   "source": [
    "print_model_metrics(modelA1, \"concat\", \"test\")"
   ]
  },
  {
   "cell_type": "markdown",
   "metadata": {},
   "source": [
    "#### Model A2"
   ]
  },
  {
   "cell_type": "code",
   "execution_count": 46,
   "metadata": {},
   "outputs": [
    {
     "name": "stdout",
     "output_type": "stream",
     "text": [
      "Confusion matrix:\n",
      " [[4965    0]\n",
      " [   0 5035]]\n",
      "\n",
      "Report:\n",
      "               precision    recall  f1-score   support\n",
      "\n",
      "           0       1.00      1.00      1.00      4965\n",
      "           1       1.00      1.00      1.00      5035\n",
      "\n",
      "    accuracy                           1.00     10000\n",
      "   macro avg       1.00      1.00      1.00     10000\n",
      "weighted avg       1.00      1.00      1.00     10000\n",
      "\n",
      "train accuracy: 1.0\n"
     ]
    },
    {
     "data": {
      "image/png": "[encoded data removed]",
      "text/plain": [
       "<Figure size 432x288 with 1 Axes>"
      ]
     },
     "metadata": {
      "needs_background": "light"
     },
     "output_type": "display_data"
    }
   ],
   "source": [
    "print_model_metrics(modelA2, \"abs_diff\", \"train\")"
   ]
  },
  {
   "cell_type": "code",
   "execution_count": 47,
   "metadata": {},
   "outputs": [
    {
     "name": "stdout",
     "output_type": "stream",
     "text": [
      "Confusion matrix:\n",
      " [[5017    4]\n",
      " [  35 4944]]\n",
      "\n",
      "Report:\n",
      "               precision    recall  f1-score   support\n",
      "\n",
      "           0       0.99      1.00      1.00      5021\n",
      "           1       1.00      0.99      1.00      4979\n",
      "\n",
      "    accuracy                           1.00     10000\n",
      "   macro avg       1.00      1.00      1.00     10000\n",
      "weighted avg       1.00      1.00      1.00     10000\n",
      "\n",
      "val accuracy: 0.9961\n"
     ]
    },
    {
     "data": {
      "image/png": "[encoded data removed]",
      "text/plain": [
       "<Figure size 432x288 with 1 Axes>"
      ]
     },
     "metadata": {
      "needs_background": "light"
     },
     "output_type": "display_data"
    }
   ],
   "source": [
    "print_model_metrics(modelA2, \"abs_diff\", \"val\")"
   ]
  },
  {
   "cell_type": "code",
   "execution_count": 48,
   "metadata": {},
   "outputs": [
    {
     "name": "stdout",
     "output_type": "stream",
     "text": [
      "Confusion matrix:\n",
      " [[4992    0]\n",
      " [  36 4972]]\n",
      "\n",
      "Report:\n",
      "               precision    recall  f1-score   support\n",
      "\n",
      "           0       0.99      1.00      1.00      4992\n",
      "           1       1.00      0.99      1.00      5008\n",
      "\n",
      "    accuracy                           1.00     10000\n",
      "   macro avg       1.00      1.00      1.00     10000\n",
      "weighted avg       1.00      1.00      1.00     10000\n",
      "\n",
      "test accuracy: 0.9964\n"
     ]
    },
    {
     "data": {
      "image/png": "[encoded data removed]",
      "text/plain": [
       "<Figure size 432x288 with 1 Axes>"
      ]
     },
     "metadata": {
      "needs_background": "light"
     },
     "output_type": "display_data"
    }
   ],
   "source": [
    "print_model_metrics(modelA2, \"abs_diff\", \"test\")"
   ]
  },
  {
   "cell_type": "markdown",
   "metadata": {},
   "source": [
    "### Training model A2 using only the top k peptides (k = 1, 5, 10, 25, 50, num_peptides_with_nonzero_weight)"
   ]
  },
  {
   "cell_type": "code",
   "execution_count": 49,
   "metadata": {},
   "outputs": [],
   "source": [
    "ft = modelA2.feature_importances_\n",
    "np.save(\"modelA2_feature_importances.npy\", ft)"
   ]
  },
  {
   "cell_type": "code",
   "execution_count": 9,
   "metadata": {},
   "outputs": [],
   "source": [
    "ft = np.load(\"modelA2_feature_importances.npy\")"
   ]
  },
  {
   "cell_type": "code",
   "execution_count": 10,
   "metadata": {},
   "outputs": [
    {
     "data": {
      "text/plain": [
       "186"
      ]
     },
     "execution_count": 10,
     "metadata": {},
     "output_type": "execute_result"
    }
   ],
   "source": [
    "num_peptides_with_nonzero_weight = len(ft[ft > 0]) # count number of peptides with a non-zero weight\n",
    "num_peptides_with_nonzero_weight"
   ]
  },
  {
   "cell_type": "code",
   "execution_count": 11,
   "metadata": {},
   "outputs": [],
   "source": [
    "num_unique_peptides = len(peptidoforms_intensity_df)\n",
    "assert num_unique_peptides == len(ft)"
   ]
  },
  {
   "cell_type": "code",
   "execution_count": 18,
   "metadata": {},
   "outputs": [],
   "source": [
    "top_peptidoform_indices = ft.argsort()[::-1]"
   ]
  },
  {
   "cell_type": "code",
   "execution_count": 19,
   "metadata": {},
   "outputs": [
    {
     "data": {
      "text/plain": [
       "array([3074, 1854, 1549, 1845, 6518, 3600, 4682, 2028, 3143, 3205])"
      ]
     },
     "execution_count": 19,
     "metadata": {},
     "output_type": "execute_result"
    }
   ],
   "source": [
    "# lets get some of the most important (top 10) peptide indices\n",
    "top_peptidoform_indices[:10]"
   ]
  },
  {
   "cell_type": "code",
   "execution_count": 20,
   "metadata": {},
   "outputs": [
    {
     "data": {
      "text/plain": [
       "array([0.22851141, 0.07314852, 0.06615254, 0.04299809, 0.04167254,\n",
       "       0.03468453, 0.02914159, 0.02787849, 0.02349349, 0.02179071],\n",
       "      dtype=float32)"
      ]
     },
     "execution_count": 20,
     "metadata": {},
     "output_type": "execute_result"
    }
   ],
   "source": [
    "# weights of the top 10 most important peptides\n",
    "ft[top_peptidoform_indices[:10]]"
   ]
  },
  {
   "cell_type": "code",
   "execution_count": 26,
   "metadata": {},
   "outputs": [
    {
     "data": {
      "text/plain": [
       "(186,)"
      ]
     },
     "execution_count": 26,
     "metadata": {},
     "output_type": "execute_result"
    }
   ],
   "source": [
    "np.where(ft > 0)[0].shape"
   ]
  },
  {
   "cell_type": "code",
   "execution_count": 103,
   "metadata": {},
   "outputs": [],
   "source": [
    "def isolate_peptide_indices(X, peptide_indices):\n",
    "    # use only the given peptide indices from the given X matrix, where X is a list of all the absolute difference vectors\n",
    "    # since this model format performed the best, when compared to the concatenated vector representation\n",
    "    return X[:,peptide_indices]"
   ]
  },
  {
   "cell_type": "code",
   "execution_count": 115,
   "metadata": {},
   "outputs": [],
   "source": [
    "def try_model_on_top_k_peptides(k_values=(1, 5, 10, 25, 50, num_peptides_with_nonzero_weight)):\n",
    "    \n",
    "    topkpeptide_models = []\n",
    "    for k in k_values:\n",
    "        print (\"=\"*50)\n",
    "        print (f\"K value: {k}\")\n",
    "        print (\"=\"*50)\n",
    "        \n",
    "        k_trainX = isolate_peptide_indices(absDiffTrainX, top_peptidoform_indices[:k])\n",
    "        k_trainY = trainY\n",
    "        \n",
    "        k_valX = isolate_peptide_indices(absDiffValX, top_peptidoform_indices[:k])\n",
    "        k_valY = valY\n",
    "        \n",
    "        topk_model = XGBClassifier(use_label_encoder=False, max_depth=3)\n",
    "        topk_model.fit(k_trainX, k_trainY, eval_metric=\"logloss\", eval_set=[(k_valX, k_valY)], verbose=True)\n",
    "        topk_model.save_model(f\"xgboost_modelA2_top{k}_peptides.json\")\n",
    "        topkpeptide_models.append(topk_model)\n",
    "        \n",
    "        print_model_metrics(topk_model, \"abs_diff\", \"train\", peptide_indices=top_peptidoform_indices[:k])\n",
    "        print_model_metrics(topk_model, \"abs_diff\", \"val\", peptide_indices=top_peptidoform_indices[:k])\n",
    "        print_model_metrics(topk_model, \"abs_diff\", \"test\", peptide_indices=top_peptidoform_indices[:k])\n",
    "\n",
    "        print (\"\\n\\n\")\n",
    "    \n",
    "    return topkpeptide_models"
   ]
  },
  {
   "cell_type": "code",
   "execution_count": 116,
   "metadata": {},
   "outputs": [
    {
     "name": "stdout",
     "output_type": "stream",
     "text": [
      "==================================================\n",
      "K value: 1\n",
      "==================================================\n",
      "[0]\tvalidation_0-logloss:0.59486\n",
      "[1]\tvalidation_0-logloss:0.54596\n",
      "[2]\tvalidation_0-logloss:0.52249\n",
      "[3]\tvalidation_0-logloss:0.50989\n",
      "[4]\tvalidation_0-logloss:0.50589\n",
      "[5]\tvalidation_0-logloss:0.50522\n",
      "[6]\tvalidation_0-logloss:0.50384\n",
      "[7]\tvalidation_0-logloss:0.50987\n",
      "[8]\tvalidation_0-logloss:0.51347\n",
      "[9]\tvalidation_0-logloss:0.52176\n",
      "[10]\tvalidation_0-logloss:0.52341\n",
      "[11]\tvalidation_0-logloss:0.52525\n",
      "[12]\tvalidation_0-logloss:0.52463\n",
      "[13]\tvalidation_0-logloss:0.52571\n",
      "[14]\tvalidation_0-logloss:0.52603\n",
      "[15]\tvalidation_0-logloss:0.52674\n",
      "[16]\tvalidation_0-logloss:0.52747\n",
      "[17]\tvalidation_0-logloss:0.52841\n",
      "[18]\tvalidation_0-logloss:0.52964\n",
      "[19]\tvalidation_0-logloss:0.53027\n",
      "[20]\tvalidation_0-logloss:0.53151\n",
      "[21]\tvalidation_0-logloss:0.53324\n",
      "[22]\tvalidation_0-logloss:0.53213\n",
      "[23]\tvalidation_0-logloss:0.53339\n",
      "[24]\tvalidation_0-logloss:0.53524\n",
      "[25]\tvalidation_0-logloss:0.53101\n",
      "[26]\tvalidation_0-logloss:0.53078\n",
      "[27]\tvalidation_0-logloss:0.53077\n",
      "[28]\tvalidation_0-logloss:0.53163\n",
      "[29]\tvalidation_0-logloss:0.53236\n",
      "[30]\tvalidation_0-logloss:0.53140\n",
      "[31]\tvalidation_0-logloss:0.53211\n",
      "[32]\tvalidation_0-logloss:0.53238\n",
      "[33]\tvalidation_0-logloss:0.53262\n",
      "[34]\tvalidation_0-logloss:0.53366\n",
      "[35]\tvalidation_0-logloss:0.53318\n",
      "[36]\tvalidation_0-logloss:0.53390\n",
      "[37]\tvalidation_0-logloss:0.53712\n",
      "[38]\tvalidation_0-logloss:0.53779\n",
      "[39]\tvalidation_0-logloss:0.53704\n",
      "[40]\tvalidation_0-logloss:0.53784\n",
      "[41]\tvalidation_0-logloss:0.53049\n",
      "[42]\tvalidation_0-logloss:0.53070\n",
      "[43]\tvalidation_0-logloss:0.53058\n",
      "[44]\tvalidation_0-logloss:0.53167\n",
      "[45]\tvalidation_0-logloss:0.53219\n",
      "[46]\tvalidation_0-logloss:0.53121\n",
      "[47]\tvalidation_0-logloss:0.53291\n",
      "[48]\tvalidation_0-logloss:0.53971\n",
      "[49]\tvalidation_0-logloss:0.54117\n",
      "[50]\tvalidation_0-logloss:0.54205\n",
      "[51]\tvalidation_0-logloss:0.54189\n",
      "[52]\tvalidation_0-logloss:0.54287\n",
      "[53]\tvalidation_0-logloss:0.54248\n",
      "[54]\tvalidation_0-logloss:0.54368\n",
      "[55]\tvalidation_0-logloss:0.54325\n",
      "[56]\tvalidation_0-logloss:0.54198\n",
      "[57]\tvalidation_0-logloss:0.54344\n",
      "[58]\tvalidation_0-logloss:0.54330\n",
      "[59]\tvalidation_0-logloss:0.54619\n",
      "[60]\tvalidation_0-logloss:0.54570\n",
      "[61]\tvalidation_0-logloss:0.54525\n",
      "[62]\tvalidation_0-logloss:0.54497\n",
      "[63]\tvalidation_0-logloss:0.54686\n",
      "[64]\tvalidation_0-logloss:0.54659\n",
      "[65]\tvalidation_0-logloss:0.54758\n",
      "[66]\tvalidation_0-logloss:0.54887\n",
      "[67]\tvalidation_0-logloss:0.55034\n",
      "[68]\tvalidation_0-logloss:0.55076\n",
      "[69]\tvalidation_0-logloss:0.55035\n",
      "[70]\tvalidation_0-logloss:0.55013\n",
      "[71]\tvalidation_0-logloss:0.54988\n",
      "[72]\tvalidation_0-logloss:0.55095\n",
      "[73]\tvalidation_0-logloss:0.55196\n",
      "[74]\tvalidation_0-logloss:0.55178\n",
      "[75]\tvalidation_0-logloss:0.55174\n",
      "[76]\tvalidation_0-logloss:0.55342\n",
      "[77]\tvalidation_0-logloss:0.55314\n",
      "[78]\tvalidation_0-logloss:0.55401\n",
      "[79]\tvalidation_0-logloss:0.56102\n",
      "[80]\tvalidation_0-logloss:0.56091\n",
      "[81]\tvalidation_0-logloss:0.56240\n",
      "[82]\tvalidation_0-logloss:0.56275\n",
      "[83]\tvalidation_0-logloss:0.56369\n",
      "[84]\tvalidation_0-logloss:0.56455\n",
      "[85]\tvalidation_0-logloss:0.56594\n",
      "[86]\tvalidation_0-logloss:0.56714\n",
      "[87]\tvalidation_0-logloss:0.56650\n",
      "[88]\tvalidation_0-logloss:0.56631\n",
      "[89]\tvalidation_0-logloss:0.56775\n",
      "[90]\tvalidation_0-logloss:0.56659\n",
      "[91]\tvalidation_0-logloss:0.56644\n",
      "[92]\tvalidation_0-logloss:0.56617\n",
      "[93]\tvalidation_0-logloss:0.56820\n",
      "[94]\tvalidation_0-logloss:0.56794\n",
      "[95]\tvalidation_0-logloss:0.56839\n",
      "[96]\tvalidation_0-logloss:0.56785\n",
      "[97]\tvalidation_0-logloss:0.56878\n",
      "[98]\tvalidation_0-logloss:0.56942\n",
      "[99]\tvalidation_0-logloss:0.56990\n",
      "Confusion matrix:\n",
      " [[3610 1355]\n",
      " [ 233 4802]]\n",
      "\n",
      "Report:\n",
      "               precision    recall  f1-score   support\n",
      "\n",
      "           0       0.94      0.73      0.82      4965\n",
      "           1       0.78      0.95      0.86      5035\n",
      "\n",
      "    accuracy                           0.84     10000\n",
      "   macro avg       0.86      0.84      0.84     10000\n",
      "weighted avg       0.86      0.84      0.84     10000\n",
      "\n",
      "train accuracy: 0.8412\n"
     ]
    },
    {
     "data": {
      "image/png": "[encoded data removed]",
      "text/plain": [
       "<Figure size 432x288 with 1 Axes>"
      ]
     },
     "metadata": {
      "needs_background": "light"
     },
     "output_type": "display_data"
    },
    {
     "name": "stdout",
     "output_type": "stream",
     "text": [
      "Confusion matrix:\n",
      " [[3717 1304]\n",
      " [1083 3896]]\n",
      "\n",
      "Report:\n",
      "               precision    recall  f1-score   support\n",
      "\n",
      "           0       0.77      0.74      0.76      5021\n",
      "           1       0.75      0.78      0.77      4979\n",
      "\n",
      "    accuracy                           0.76     10000\n",
      "   macro avg       0.76      0.76      0.76     10000\n",
      "weighted avg       0.76      0.76      0.76     10000\n",
      "\n",
      "val accuracy: 0.7613\n"
     ]
    },
    {
     "data": {
      "image/png": "[encoded data removed]",
      "text/plain": [
       "<Figure size 432x288 with 1 Axes>"
      ]
     },
     "metadata": {
      "needs_background": "light"
     },
     "output_type": "display_data"
    },
    {
     "name": "stdout",
     "output_type": "stream",
     "text": [
      "Confusion matrix:\n",
      " [[3466 1526]\n",
      " [1093 3915]]\n",
      "\n",
      "Report:\n",
      "               precision    recall  f1-score   support\n",
      "\n",
      "           0       0.76      0.69      0.73      4992\n",
      "           1       0.72      0.78      0.75      5008\n",
      "\n",
      "    accuracy                           0.74     10000\n",
      "   macro avg       0.74      0.74      0.74     10000\n",
      "weighted avg       0.74      0.74      0.74     10000\n",
      "\n",
      "test accuracy: 0.7381\n"
     ]
    },
    {
     "data": {
      "image/png": "[encoded data removed]",
      "text/plain": [
       "<Figure size 432x288 with 1 Axes>"
      ]
     },
     "metadata": {
      "needs_background": "light"
     },
     "output_type": "display_data"
    },
    {
     "name": "stdout",
     "output_type": "stream",
     "text": [
      "\n",
      "\n",
      "\n",
      "==================================================\n",
      "K value: 5\n",
      "==================================================\n",
      "[0]\tvalidation_0-logloss:0.53694\n",
      "[1]\tvalidation_0-logloss:0.44952\n",
      "[2]\tvalidation_0-logloss:0.38437\n",
      "[3]\tvalidation_0-logloss:0.33534\n",
      "[4]\tvalidation_0-logloss:0.30286\n",
      "[5]\tvalidation_0-logloss:0.29041\n",
      "[6]\tvalidation_0-logloss:0.27395\n",
      "[7]\tvalidation_0-logloss:0.25847\n",
      "[8]\tvalidation_0-logloss:0.26265\n",
      "[9]\tvalidation_0-logloss:0.25260\n",
      "[10]\tvalidation_0-logloss:0.25454\n",
      "[11]\tvalidation_0-logloss:0.25981\n",
      "[12]\tvalidation_0-logloss:0.25273\n",
      "[13]\tvalidation_0-logloss:0.25129\n",
      "[14]\tvalidation_0-logloss:0.25990\n",
      "[15]\tvalidation_0-logloss:0.26194\n",
      "[16]\tvalidation_0-logloss:0.26088\n",
      "[17]\tvalidation_0-logloss:0.26926\n",
      "[18]\tvalidation_0-logloss:0.26739\n",
      "[19]\tvalidation_0-logloss:0.27001\n",
      "[20]\tvalidation_0-logloss:0.27255\n",
      "[21]\tvalidation_0-logloss:0.27175\n",
      "[22]\tvalidation_0-logloss:0.27098\n",
      "[23]\tvalidation_0-logloss:0.27346\n",
      "[24]\tvalidation_0-logloss:0.28368\n",
      "[25]\tvalidation_0-logloss:0.28337\n",
      "[26]\tvalidation_0-logloss:0.28365\n",
      "[27]\tvalidation_0-logloss:0.28243\n",
      "[28]\tvalidation_0-logloss:0.28146\n",
      "[29]\tvalidation_0-logloss:0.29058\n",
      "[30]\tvalidation_0-logloss:0.29003\n",
      "[31]\tvalidation_0-logloss:0.29146\n",
      "[32]\tvalidation_0-logloss:0.29119\n",
      "[33]\tvalidation_0-logloss:0.30061\n",
      "[34]\tvalidation_0-logloss:0.30313\n",
      "[35]\tvalidation_0-logloss:0.30382\n",
      "[36]\tvalidation_0-logloss:0.31002\n",
      "[37]\tvalidation_0-logloss:0.31201\n",
      "[38]\tvalidation_0-logloss:0.31174\n",
      "[39]\tvalidation_0-logloss:0.31156\n",
      "[40]\tvalidation_0-logloss:0.31118\n",
      "[41]\tvalidation_0-logloss:0.31155\n",
      "[42]\tvalidation_0-logloss:0.31132\n",
      "[43]\tvalidation_0-logloss:0.32197\n",
      "[44]\tvalidation_0-logloss:0.32112\n",
      "[45]\tvalidation_0-logloss:0.32242\n",
      "[46]\tvalidation_0-logloss:0.32165\n",
      "[47]\tvalidation_0-logloss:0.32518\n",
      "[48]\tvalidation_0-logloss:0.32534\n",
      "[49]\tvalidation_0-logloss:0.32449\n",
      "[50]\tvalidation_0-logloss:0.32540\n",
      "[51]\tvalidation_0-logloss:0.32395\n",
      "[52]\tvalidation_0-logloss:0.32796\n",
      "[53]\tvalidation_0-logloss:0.32943\n",
      "[54]\tvalidation_0-logloss:0.33414\n",
      "[55]\tvalidation_0-logloss:0.33475\n",
      "[56]\tvalidation_0-logloss:0.33623\n",
      "[57]\tvalidation_0-logloss:0.33612\n",
      "[58]\tvalidation_0-logloss:0.33429\n",
      "[59]\tvalidation_0-logloss:0.33424\n",
      "[60]\tvalidation_0-logloss:0.33765\n",
      "[61]\tvalidation_0-logloss:0.33739\n",
      "[62]\tvalidation_0-logloss:0.33875\n",
      "[63]\tvalidation_0-logloss:0.34796\n",
      "[64]\tvalidation_0-logloss:0.34943\n",
      "[65]\tvalidation_0-logloss:0.35035\n",
      "[66]\tvalidation_0-logloss:0.34989\n",
      "[67]\tvalidation_0-logloss:0.35319\n",
      "[68]\tvalidation_0-logloss:0.35145\n",
      "[69]\tvalidation_0-logloss:0.35463\n",
      "[70]\tvalidation_0-logloss:0.35617\n",
      "[71]\tvalidation_0-logloss:0.35537\n",
      "[72]\tvalidation_0-logloss:0.35560\n",
      "[73]\tvalidation_0-logloss:0.35578\n",
      "[74]\tvalidation_0-logloss:0.35724\n",
      "[75]\tvalidation_0-logloss:0.36785\n",
      "[76]\tvalidation_0-logloss:0.36827\n",
      "[77]\tvalidation_0-logloss:0.37060\n",
      "[78]\tvalidation_0-logloss:0.37089\n",
      "[79]\tvalidation_0-logloss:0.37859\n",
      "[80]\tvalidation_0-logloss:0.37528\n",
      "[81]\tvalidation_0-logloss:0.37589\n",
      "[82]\tvalidation_0-logloss:0.37593\n",
      "[83]\tvalidation_0-logloss:0.37496\n",
      "[84]\tvalidation_0-logloss:0.38255\n",
      "[85]\tvalidation_0-logloss:0.38418\n",
      "[86]\tvalidation_0-logloss:0.38637\n",
      "[87]\tvalidation_0-logloss:0.38645\n",
      "[88]\tvalidation_0-logloss:0.38791\n",
      "[89]\tvalidation_0-logloss:0.39171\n",
      "[90]\tvalidation_0-logloss:0.39207\n",
      "[91]\tvalidation_0-logloss:0.39113\n",
      "[92]\tvalidation_0-logloss:0.39140\n",
      "[93]\tvalidation_0-logloss:0.39477\n",
      "[94]\tvalidation_0-logloss:0.39638\n",
      "[95]\tvalidation_0-logloss:0.39752\n",
      "[96]\tvalidation_0-logloss:0.39674\n",
      "[97]\tvalidation_0-logloss:0.39751\n",
      "[98]\tvalidation_0-logloss:0.40090\n",
      "[99]\tvalidation_0-logloss:0.39956\n",
      "Confusion matrix:\n",
      " [[4852  113]\n",
      " [   8 5027]]\n",
      "\n",
      "Report:\n",
      "               precision    recall  f1-score   support\n",
      "\n",
      "           0       1.00      0.98      0.99      4965\n",
      "           1       0.98      1.00      0.99      5035\n",
      "\n",
      "    accuracy                           0.99     10000\n",
      "   macro avg       0.99      0.99      0.99     10000\n",
      "weighted avg       0.99      0.99      0.99     10000\n",
      "\n",
      "train accuracy: 0.9879\n"
     ]
    },
    {
     "data": {
      "image/png": "[encoded data removed]",
      "text/plain": [
       "<Figure size 432x288 with 1 Axes>"
      ]
     },
     "metadata": {
      "needs_background": "light"
     },
     "output_type": "display_data"
    },
    {
     "name": "stdout",
     "output_type": "stream",
     "text": [
      "Confusion matrix:\n",
      " [[4651  370]\n",
      " [1043 3936]]\n",
      "\n",
      "Report:\n",
      "               precision    recall  f1-score   support\n",
      "\n",
      "           0       0.82      0.93      0.87      5021\n",
      "           1       0.91      0.79      0.85      4979\n",
      "\n",
      "    accuracy                           0.86     10000\n",
      "   macro avg       0.87      0.86      0.86     10000\n",
      "weighted avg       0.87      0.86      0.86     10000\n",
      "\n",
      "val accuracy: 0.8587\n"
     ]
    },
    {
     "data": {
      "image/png": "[encoded data removed]",
      "text/plain": [
       "<Figure size 432x288 with 1 Axes>"
      ]
     },
     "metadata": {
      "needs_background": "light"
     },
     "output_type": "display_data"
    },
    {
     "name": "stdout",
     "output_type": "stream",
     "text": [
      "Confusion matrix:\n",
      " [[4614  378]\n",
      " [1161 3847]]\n",
      "\n",
      "Report:\n",
      "               precision    recall  f1-score   support\n",
      "\n",
      "           0       0.80      0.92      0.86      4992\n",
      "           1       0.91      0.77      0.83      5008\n",
      "\n",
      "    accuracy                           0.85     10000\n",
      "   macro avg       0.85      0.85      0.85     10000\n",
      "weighted avg       0.85      0.85      0.85     10000\n",
      "\n",
      "test accuracy: 0.8461\n"
     ]
    },
    {
     "data": {
      "image/png": "[encoded data removed]",
      "text/plain": [
       "<Figure size 432x288 with 1 Axes>"
      ]
     },
     "metadata": {
      "needs_background": "light"
     },
     "output_type": "display_data"
    },
    {
     "name": "stdout",
     "output_type": "stream",
     "text": [
      "\n",
      "\n",
      "\n",
      "==================================================\n",
      "K value: 10\n",
      "==================================================\n",
      "[0]\tvalidation_0-logloss:0.52458\n",
      "[1]\tvalidation_0-logloss:0.41507\n",
      "[2]\tvalidation_0-logloss:0.35686\n",
      "[3]\tvalidation_0-logloss:0.31432\n",
      "[4]\tvalidation_0-logloss:0.25802\n",
      "[5]\tvalidation_0-logloss:0.22815\n",
      "[6]\tvalidation_0-logloss:0.20753\n",
      "[7]\tvalidation_0-logloss:0.18846\n",
      "[8]\tvalidation_0-logloss:0.16920\n",
      "[9]\tvalidation_0-logloss:0.16041\n",
      "[10]\tvalidation_0-logloss:0.15482\n",
      "[11]\tvalidation_0-logloss:0.14967\n",
      "[12]\tvalidation_0-logloss:0.14247\n",
      "[13]\tvalidation_0-logloss:0.13612\n",
      "[14]\tvalidation_0-logloss:0.12957\n",
      "[15]\tvalidation_0-logloss:0.12514\n",
      "[16]\tvalidation_0-logloss:0.12055\n",
      "[17]\tvalidation_0-logloss:0.12231\n",
      "[18]\tvalidation_0-logloss:0.12024\n",
      "[19]\tvalidation_0-logloss:0.11832\n",
      "[20]\tvalidation_0-logloss:0.12327\n",
      "[21]\tvalidation_0-logloss:0.12120\n",
      "[22]\tvalidation_0-logloss:0.11869\n",
      "[23]\tvalidation_0-logloss:0.11678\n",
      "[24]\tvalidation_0-logloss:0.11824\n",
      "[25]\tvalidation_0-logloss:0.11676\n",
      "[26]\tvalidation_0-logloss:0.11834\n",
      "[27]\tvalidation_0-logloss:0.11657\n",
      "[28]\tvalidation_0-logloss:0.11735\n",
      "[29]\tvalidation_0-logloss:0.11668\n",
      "[30]\tvalidation_0-logloss:0.11981\n",
      "[31]\tvalidation_0-logloss:0.11953\n",
      "[32]\tvalidation_0-logloss:0.12165\n",
      "[33]\tvalidation_0-logloss:0.12122\n",
      "[34]\tvalidation_0-logloss:0.11872\n",
      "[35]\tvalidation_0-logloss:0.12143\n",
      "[36]\tvalidation_0-logloss:0.12386\n",
      "[37]\tvalidation_0-logloss:0.12226\n",
      "[38]\tvalidation_0-logloss:0.12201\n",
      "[39]\tvalidation_0-logloss:0.12129\n",
      "[40]\tvalidation_0-logloss:0.12094\n",
      "[41]\tvalidation_0-logloss:0.12159\n",
      "[42]\tvalidation_0-logloss:0.12348\n",
      "[43]\tvalidation_0-logloss:0.12233\n",
      "[44]\tvalidation_0-logloss:0.12248\n",
      "[45]\tvalidation_0-logloss:0.12600\n",
      "[46]\tvalidation_0-logloss:0.12669\n",
      "[47]\tvalidation_0-logloss:0.12946\n",
      "[48]\tvalidation_0-logloss:0.13100\n",
      "[49]\tvalidation_0-logloss:0.13052\n",
      "[50]\tvalidation_0-logloss:0.12864\n",
      "[51]\tvalidation_0-logloss:0.13119\n",
      "[52]\tvalidation_0-logloss:0.13321\n",
      "[53]\tvalidation_0-logloss:0.13324\n",
      "[54]\tvalidation_0-logloss:0.13337\n",
      "[55]\tvalidation_0-logloss:0.13436\n",
      "[56]\tvalidation_0-logloss:0.13333\n",
      "[57]\tvalidation_0-logloss:0.13598\n",
      "[58]\tvalidation_0-logloss:0.13802\n",
      "[59]\tvalidation_0-logloss:0.13785\n",
      "[60]\tvalidation_0-logloss:0.13668\n",
      "[61]\tvalidation_0-logloss:0.13676\n",
      "[62]\tvalidation_0-logloss:0.13653\n",
      "[63]\tvalidation_0-logloss:0.13846\n",
      "[64]\tvalidation_0-logloss:0.13822\n",
      "[65]\tvalidation_0-logloss:0.13778\n",
      "[66]\tvalidation_0-logloss:0.13895\n",
      "[67]\tvalidation_0-logloss:0.14259\n",
      "[68]\tvalidation_0-logloss:0.14490\n",
      "[69]\tvalidation_0-logloss:0.14436\n",
      "[70]\tvalidation_0-logloss:0.14285\n",
      "[71]\tvalidation_0-logloss:0.14323\n",
      "[72]\tvalidation_0-logloss:0.14249\n",
      "[73]\tvalidation_0-logloss:0.14449\n",
      "[74]\tvalidation_0-logloss:0.14714\n",
      "[75]\tvalidation_0-logloss:0.14663\n",
      "[76]\tvalidation_0-logloss:0.14655\n",
      "[77]\tvalidation_0-logloss:0.14906\n",
      "[78]\tvalidation_0-logloss:0.14835\n",
      "[79]\tvalidation_0-logloss:0.15049\n",
      "[80]\tvalidation_0-logloss:0.15272\n",
      "[81]\tvalidation_0-logloss:0.15160\n",
      "[82]\tvalidation_0-logloss:0.14990\n",
      "[83]\tvalidation_0-logloss:0.15205\n",
      "[84]\tvalidation_0-logloss:0.15388\n",
      "[85]\tvalidation_0-logloss:0.15478\n",
      "[86]\tvalidation_0-logloss:0.15549\n",
      "[87]\tvalidation_0-logloss:0.15690\n",
      "[88]\tvalidation_0-logloss:0.15799\n",
      "[89]\tvalidation_0-logloss:0.15970\n",
      "[90]\tvalidation_0-logloss:0.16056\n",
      "[91]\tvalidation_0-logloss:0.16222\n",
      "[92]\tvalidation_0-logloss:0.16326\n",
      "[93]\tvalidation_0-logloss:0.16326\n",
      "[94]\tvalidation_0-logloss:0.16348\n",
      "[95]\tvalidation_0-logloss:0.16368\n",
      "[96]\tvalidation_0-logloss:0.16440\n",
      "[97]\tvalidation_0-logloss:0.16699\n",
      "[98]\tvalidation_0-logloss:0.16671\n",
      "[99]\tvalidation_0-logloss:0.16720\n",
      "Confusion matrix:\n",
      " [[4964    1]\n",
      " [   0 5035]]\n",
      "\n",
      "Report:\n",
      "               precision    recall  f1-score   support\n",
      "\n",
      "           0       1.00      1.00      1.00      4965\n",
      "           1       1.00      1.00      1.00      5035\n",
      "\n",
      "    accuracy                           1.00     10000\n",
      "   macro avg       1.00      1.00      1.00     10000\n",
      "weighted avg       1.00      1.00      1.00     10000\n",
      "\n",
      "train accuracy: 0.9999\n"
     ]
    },
    {
     "data": {
      "image/png": "[encoded data removed]",
      "text/plain": [
       "<Figure size 432x288 with 1 Axes>"
      ]
     },
     "metadata": {
      "needs_background": "light"
     },
     "output_type": "display_data"
    },
    {
     "name": "stdout",
     "output_type": "stream",
     "text": [
      "Confusion matrix:\n",
      " [[4745  276]\n",
      " [ 297 4682]]\n",
      "\n",
      "Report:\n",
      "               precision    recall  f1-score   support\n",
      "\n",
      "           0       0.94      0.95      0.94      5021\n",
      "           1       0.94      0.94      0.94      4979\n",
      "\n",
      "    accuracy                           0.94     10000\n",
      "   macro avg       0.94      0.94      0.94     10000\n",
      "weighted avg       0.94      0.94      0.94     10000\n",
      "\n",
      "val accuracy: 0.9427\n"
     ]
    },
    {
     "data": {
      "image/png": "[encoded data removed]",
      "text/plain": [
       "<Figure size 432x288 with 1 Axes>"
      ]
     },
     "metadata": {
      "needs_background": "light"
     },
     "output_type": "display_data"
    },
    {
     "name": "stdout",
     "output_type": "stream",
     "text": [
      "Confusion matrix:\n",
      " [[4955   37]\n",
      " [ 949 4059]]\n",
      "\n",
      "Report:\n",
      "               precision    recall  f1-score   support\n",
      "\n",
      "           0       0.84      0.99      0.91      4992\n",
      "           1       0.99      0.81      0.89      5008\n",
      "\n",
      "    accuracy                           0.90     10000\n",
      "   macro avg       0.92      0.90      0.90     10000\n",
      "weighted avg       0.92      0.90      0.90     10000\n",
      "\n",
      "test accuracy: 0.9014\n"
     ]
    },
    {
     "data": {
      "image/png": "[encoded data removed]",
      "text/plain": [
       "<Figure size 432x288 with 1 Axes>"
      ]
     },
     "metadata": {
      "needs_background": "light"
     },
     "output_type": "display_data"
    },
    {
     "name": "stdout",
     "output_type": "stream",
     "text": [
      "\n",
      "\n",
      "\n",
      "==================================================\n",
      "K value: 25\n",
      "==================================================\n",
      "[0]\tvalidation_0-logloss:0.51726\n",
      "[1]\tvalidation_0-logloss:0.40777\n",
      "[2]\tvalidation_0-logloss:0.34364\n",
      "[3]\tvalidation_0-logloss:0.30536\n",
      "[4]\tvalidation_0-logloss:0.25996\n",
      "[5]\tvalidation_0-logloss:0.23032\n",
      "[6]\tvalidation_0-logloss:0.20572\n",
      "[7]\tvalidation_0-logloss:0.18085\n",
      "[8]\tvalidation_0-logloss:0.16763\n",
      "[9]\tvalidation_0-logloss:0.14466\n",
      "[10]\tvalidation_0-logloss:0.13262\n",
      "[11]\tvalidation_0-logloss:0.13028\n",
      "[12]\tvalidation_0-logloss:0.11911\n",
      "[13]\tvalidation_0-logloss:0.11261\n",
      "[14]\tvalidation_0-logloss:0.10600\n",
      "[15]\tvalidation_0-logloss:0.10491\n",
      "[16]\tvalidation_0-logloss:0.09780\n",
      "[17]\tvalidation_0-logloss:0.08996\n",
      "[18]\tvalidation_0-logloss:0.08718\n",
      "[19]\tvalidation_0-logloss:0.08045\n",
      "[20]\tvalidation_0-logloss:0.07506\n",
      "[21]\tvalidation_0-logloss:0.07035\n",
      "[22]\tvalidation_0-logloss:0.07163\n",
      "[23]\tvalidation_0-logloss:0.07071\n",
      "[24]\tvalidation_0-logloss:0.06471\n",
      "[25]\tvalidation_0-logloss:0.06253\n",
      "[26]\tvalidation_0-logloss:0.05957\n",
      "[27]\tvalidation_0-logloss:0.05791\n",
      "[28]\tvalidation_0-logloss:0.05887\n",
      "[29]\tvalidation_0-logloss:0.05785\n",
      "[30]\tvalidation_0-logloss:0.05689\n",
      "[31]\tvalidation_0-logloss:0.05734\n",
      "[32]\tvalidation_0-logloss:0.05746\n",
      "[33]\tvalidation_0-logloss:0.05829\n",
      "[34]\tvalidation_0-logloss:0.05702\n",
      "[35]\tvalidation_0-logloss:0.05517\n",
      "[36]\tvalidation_0-logloss:0.05410\n",
      "[37]\tvalidation_0-logloss:0.05173\n",
      "[38]\tvalidation_0-logloss:0.05197\n",
      "[39]\tvalidation_0-logloss:0.05377\n",
      "[40]\tvalidation_0-logloss:0.05404\n",
      "[41]\tvalidation_0-logloss:0.05277\n",
      "[42]\tvalidation_0-logloss:0.05051\n",
      "[43]\tvalidation_0-logloss:0.04928\n",
      "[44]\tvalidation_0-logloss:0.05118\n",
      "[45]\tvalidation_0-logloss:0.05351\n",
      "[46]\tvalidation_0-logloss:0.05416\n",
      "[47]\tvalidation_0-logloss:0.05140\n",
      "[48]\tvalidation_0-logloss:0.05120\n",
      "[49]\tvalidation_0-logloss:0.05225\n",
      "[50]\tvalidation_0-logloss:0.05147\n",
      "[51]\tvalidation_0-logloss:0.05160\n",
      "[52]\tvalidation_0-logloss:0.05145\n",
      "[53]\tvalidation_0-logloss:0.04999\n",
      "[54]\tvalidation_0-logloss:0.05086\n",
      "[55]\tvalidation_0-logloss:0.05158\n",
      "[56]\tvalidation_0-logloss:0.05334\n",
      "[57]\tvalidation_0-logloss:0.05113\n",
      "[58]\tvalidation_0-logloss:0.05066\n",
      "[59]\tvalidation_0-logloss:0.05077\n",
      "[60]\tvalidation_0-logloss:0.04996\n",
      "[61]\tvalidation_0-logloss:0.04996\n",
      "[62]\tvalidation_0-logloss:0.04974\n",
      "[63]\tvalidation_0-logloss:0.04953\n",
      "[64]\tvalidation_0-logloss:0.04912\n",
      "[65]\tvalidation_0-logloss:0.04943\n",
      "[66]\tvalidation_0-logloss:0.05113\n",
      "[67]\tvalidation_0-logloss:0.05172\n",
      "[68]\tvalidation_0-logloss:0.05082\n",
      "[69]\tvalidation_0-logloss:0.05127\n",
      "[70]\tvalidation_0-logloss:0.05033\n",
      "[71]\tvalidation_0-logloss:0.05027\n",
      "[72]\tvalidation_0-logloss:0.05110\n",
      "[73]\tvalidation_0-logloss:0.05090\n",
      "[74]\tvalidation_0-logloss:0.05063\n",
      "[75]\tvalidation_0-logloss:0.05104\n",
      "[76]\tvalidation_0-logloss:0.05133\n",
      "[77]\tvalidation_0-logloss:0.05106\n",
      "[78]\tvalidation_0-logloss:0.05183\n",
      "[79]\tvalidation_0-logloss:0.05185\n",
      "[80]\tvalidation_0-logloss:0.05213\n",
      "[81]\tvalidation_0-logloss:0.05121\n",
      "[82]\tvalidation_0-logloss:0.05156\n",
      "[83]\tvalidation_0-logloss:0.05088\n",
      "[84]\tvalidation_0-logloss:0.05090\n",
      "[85]\tvalidation_0-logloss:0.05090\n",
      "[86]\tvalidation_0-logloss:0.05042\n",
      "[87]\tvalidation_0-logloss:0.05153\n",
      "[88]\tvalidation_0-logloss:0.05209\n",
      "[89]\tvalidation_0-logloss:0.05232\n",
      "[90]\tvalidation_0-logloss:0.05240\n",
      "[91]\tvalidation_0-logloss:0.05310\n",
      "[92]\tvalidation_0-logloss:0.05285\n",
      "[93]\tvalidation_0-logloss:0.05258\n",
      "[94]\tvalidation_0-logloss:0.05239\n",
      "[95]\tvalidation_0-logloss:0.05294\n",
      "[96]\tvalidation_0-logloss:0.05328\n",
      "[97]\tvalidation_0-logloss:0.05339\n",
      "[98]\tvalidation_0-logloss:0.05316\n",
      "[99]\tvalidation_0-logloss:0.05292\n",
      "Confusion matrix:\n",
      " [[4965    0]\n",
      " [   0 5035]]\n",
      "\n",
      "Report:\n",
      "               precision    recall  f1-score   support\n",
      "\n",
      "           0       1.00      1.00      1.00      4965\n",
      "           1       1.00      1.00      1.00      5035\n",
      "\n",
      "    accuracy                           1.00     10000\n",
      "   macro avg       1.00      1.00      1.00     10000\n",
      "weighted avg       1.00      1.00      1.00     10000\n",
      "\n",
      "train accuracy: 1.0\n"
     ]
    },
    {
     "data": {
      "image/png": "[encoded data removed]",
      "text/plain": [
       "<Figure size 432x288 with 1 Axes>"
      ]
     },
     "metadata": {
      "needs_background": "light"
     },
     "output_type": "display_data"
    },
    {
     "name": "stdout",
     "output_type": "stream",
     "text": [
      "Confusion matrix:\n",
      " [[4958   63]\n",
      " [ 141 4838]]\n",
      "\n",
      "Report:\n",
      "               precision    recall  f1-score   support\n",
      "\n",
      "           0       0.97      0.99      0.98      5021\n",
      "           1       0.99      0.97      0.98      4979\n",
      "\n",
      "    accuracy                           0.98     10000\n",
      "   macro avg       0.98      0.98      0.98     10000\n",
      "weighted avg       0.98      0.98      0.98     10000\n",
      "\n",
      "val accuracy: 0.9796\n"
     ]
    },
    {
     "data": {
      "image/png": "[encoded data removed]",
      "text/plain": [
       "<Figure size 432x288 with 1 Axes>"
      ]
     },
     "metadata": {
      "needs_background": "light"
     },
     "output_type": "display_data"
    },
    {
     "name": "stdout",
     "output_type": "stream",
     "text": [
      "Confusion matrix:\n",
      " [[4988    4]\n",
      " [ 397 4611]]\n",
      "\n",
      "Report:\n",
      "               precision    recall  f1-score   support\n",
      "\n",
      "           0       0.93      1.00      0.96      4992\n",
      "           1       1.00      0.92      0.96      5008\n",
      "\n",
      "    accuracy                           0.96     10000\n",
      "   macro avg       0.96      0.96      0.96     10000\n",
      "weighted avg       0.96      0.96      0.96     10000\n",
      "\n",
      "test accuracy: 0.9599\n"
     ]
    },
    {
     "data": {
      "image/png": "[encoded data removed]",
      "text/plain": [
       "<Figure size 432x288 with 1 Axes>"
      ]
     },
     "metadata": {
      "needs_background": "light"
     },
     "output_type": "display_data"
    },
    {
     "name": "stdout",
     "output_type": "stream",
     "text": [
      "\n",
      "\n",
      "\n",
      "==================================================\n",
      "K value: 50\n",
      "==================================================\n",
      "[0]\tvalidation_0-logloss:0.51639\n",
      "[1]\tvalidation_0-logloss:0.40751\n",
      "[2]\tvalidation_0-logloss:0.34215\n",
      "[3]\tvalidation_0-logloss:0.29958\n",
      "[4]\tvalidation_0-logloss:0.25926\n",
      "[5]\tvalidation_0-logloss:0.22664\n",
      "[6]\tvalidation_0-logloss:0.19570\n",
      "[7]\tvalidation_0-logloss:0.16789\n",
      "[8]\tvalidation_0-logloss:0.14365\n",
      "[9]\tvalidation_0-logloss:0.12359\n",
      "[10]\tvalidation_0-logloss:0.11458\n",
      "[11]\tvalidation_0-logloss:0.10033\n",
      "[12]\tvalidation_0-logloss:0.09009\n",
      "[13]\tvalidation_0-logloss:0.07964\n",
      "[14]\tvalidation_0-logloss:0.07096\n",
      "[15]\tvalidation_0-logloss:0.06942\n",
      "[16]\tvalidation_0-logloss:0.05997\n",
      "[17]\tvalidation_0-logloss:0.05406\n",
      "[18]\tvalidation_0-logloss:0.04635\n",
      "[19]\tvalidation_0-logloss:0.04643\n",
      "[20]\tvalidation_0-logloss:0.04186\n",
      "[21]\tvalidation_0-logloss:0.04010\n",
      "[22]\tvalidation_0-logloss:0.03742\n",
      "[23]\tvalidation_0-logloss:0.03509\n",
      "[24]\tvalidation_0-logloss:0.03404\n",
      "[25]\tvalidation_0-logloss:0.03077\n",
      "[26]\tvalidation_0-logloss:0.02975\n",
      "[27]\tvalidation_0-logloss:0.02820\n",
      "[28]\tvalidation_0-logloss:0.02704\n",
      "[29]\tvalidation_0-logloss:0.02491\n",
      "[30]\tvalidation_0-logloss:0.02285\n",
      "[31]\tvalidation_0-logloss:0.02227\n",
      "[32]\tvalidation_0-logloss:0.02142\n",
      "[33]\tvalidation_0-logloss:0.01982\n",
      "[34]\tvalidation_0-logloss:0.01892\n",
      "[35]\tvalidation_0-logloss:0.01893\n",
      "[36]\tvalidation_0-logloss:0.01846\n",
      "[37]\tvalidation_0-logloss:0.01768\n",
      "[38]\tvalidation_0-logloss:0.01767\n",
      "[39]\tvalidation_0-logloss:0.01741\n",
      "[40]\tvalidation_0-logloss:0.01716\n",
      "[41]\tvalidation_0-logloss:0.01733\n",
      "[42]\tvalidation_0-logloss:0.01699\n",
      "[43]\tvalidation_0-logloss:0.01662\n",
      "[44]\tvalidation_0-logloss:0.01664\n",
      "[45]\tvalidation_0-logloss:0.01627\n",
      "[46]\tvalidation_0-logloss:0.01543\n",
      "[47]\tvalidation_0-logloss:0.01540\n",
      "[48]\tvalidation_0-logloss:0.01558\n",
      "[49]\tvalidation_0-logloss:0.01535\n",
      "[50]\tvalidation_0-logloss:0.01539\n",
      "[51]\tvalidation_0-logloss:0.01521\n",
      "[52]\tvalidation_0-logloss:0.01541\n",
      "[53]\tvalidation_0-logloss:0.01475\n",
      "[54]\tvalidation_0-logloss:0.01497\n",
      "[55]\tvalidation_0-logloss:0.01492\n",
      "[56]\tvalidation_0-logloss:0.01490\n",
      "[57]\tvalidation_0-logloss:0.01508\n",
      "[58]\tvalidation_0-logloss:0.01515\n",
      "[59]\tvalidation_0-logloss:0.01513\n",
      "[60]\tvalidation_0-logloss:0.01483\n",
      "[61]\tvalidation_0-logloss:0.01472\n",
      "[62]\tvalidation_0-logloss:0.01481\n",
      "[63]\tvalidation_0-logloss:0.01511\n",
      "[64]\tvalidation_0-logloss:0.01493\n",
      "[65]\tvalidation_0-logloss:0.01482\n",
      "[66]\tvalidation_0-logloss:0.01495\n",
      "[67]\tvalidation_0-logloss:0.01499\n",
      "[68]\tvalidation_0-logloss:0.01522\n",
      "[69]\tvalidation_0-logloss:0.01548\n",
      "[70]\tvalidation_0-logloss:0.01567\n",
      "[71]\tvalidation_0-logloss:0.01556\n",
      "[72]\tvalidation_0-logloss:0.01571\n",
      "[73]\tvalidation_0-logloss:0.01575\n",
      "[74]\tvalidation_0-logloss:0.01547\n",
      "[75]\tvalidation_0-logloss:0.01558\n",
      "[76]\tvalidation_0-logloss:0.01553\n",
      "[77]\tvalidation_0-logloss:0.01534\n",
      "[78]\tvalidation_0-logloss:0.01534\n",
      "[79]\tvalidation_0-logloss:0.01540\n",
      "[80]\tvalidation_0-logloss:0.01550\n",
      "[81]\tvalidation_0-logloss:0.01556\n",
      "[82]\tvalidation_0-logloss:0.01548\n",
      "[83]\tvalidation_0-logloss:0.01533\n",
      "[84]\tvalidation_0-logloss:0.01554\n",
      "[85]\tvalidation_0-logloss:0.01549\n",
      "[86]\tvalidation_0-logloss:0.01569\n",
      "[87]\tvalidation_0-logloss:0.01583\n",
      "[88]\tvalidation_0-logloss:0.01554\n",
      "[89]\tvalidation_0-logloss:0.01553\n",
      "[90]\tvalidation_0-logloss:0.01537\n",
      "[91]\tvalidation_0-logloss:0.01557\n",
      "[92]\tvalidation_0-logloss:0.01575\n",
      "[93]\tvalidation_0-logloss:0.01583\n",
      "[94]\tvalidation_0-logloss:0.01578\n",
      "[95]\tvalidation_0-logloss:0.01585\n",
      "[96]\tvalidation_0-logloss:0.01603\n",
      "[97]\tvalidation_0-logloss:0.01621\n",
      "[98]\tvalidation_0-logloss:0.01616\n",
      "[99]\tvalidation_0-logloss:0.01616\n",
      "Confusion matrix:\n",
      " [[4965    0]\n",
      " [   0 5035]]\n",
      "\n",
      "Report:\n",
      "               precision    recall  f1-score   support\n",
      "\n",
      "           0       1.00      1.00      1.00      4965\n",
      "           1       1.00      1.00      1.00      5035\n",
      "\n",
      "    accuracy                           1.00     10000\n",
      "   macro avg       1.00      1.00      1.00     10000\n",
      "weighted avg       1.00      1.00      1.00     10000\n",
      "\n",
      "train accuracy: 1.0\n"
     ]
    },
    {
     "data": {
      "image/png": "[encoded data removed]",
      "text/plain": [
       "<Figure size 432x288 with 1 Axes>"
      ]
     },
     "metadata": {
      "needs_background": "light"
     },
     "output_type": "display_data"
    },
    {
     "name": "stdout",
     "output_type": "stream",
     "text": [
      "Confusion matrix:\n",
      " [[5020    1]\n",
      " [  65 4914]]\n",
      "\n",
      "Report:\n",
      "               precision    recall  f1-score   support\n",
      "\n",
      "           0       0.99      1.00      0.99      5021\n",
      "           1       1.00      0.99      0.99      4979\n",
      "\n",
      "    accuracy                           0.99     10000\n",
      "   macro avg       0.99      0.99      0.99     10000\n",
      "weighted avg       0.99      0.99      0.99     10000\n",
      "\n",
      "val accuracy: 0.9934\n"
     ]
    },
    {
     "data": {
      "image/png": "[encoded data removed]",
      "text/plain": [
       "<Figure size 432x288 with 1 Axes>"
      ]
     },
     "metadata": {
      "needs_background": "light"
     },
     "output_type": "display_data"
    },
    {
     "name": "stdout",
     "output_type": "stream",
     "text": [
      "Confusion matrix:\n",
      " [[4992    0]\n",
      " [ 142 4866]]\n",
      "\n",
      "Report:\n",
      "               precision    recall  f1-score   support\n",
      "\n",
      "           0       0.97      1.00      0.99      4992\n",
      "           1       1.00      0.97      0.99      5008\n",
      "\n",
      "    accuracy                           0.99     10000\n",
      "   macro avg       0.99      0.99      0.99     10000\n",
      "weighted avg       0.99      0.99      0.99     10000\n",
      "\n",
      "test accuracy: 0.9858\n"
     ]
    },
    {
     "data": {
      "image/png": "[encoded data removed]",
      "text/plain": [
       "<Figure size 432x288 with 1 Axes>"
      ]
     },
     "metadata": {
      "needs_background": "light"
     },
     "output_type": "display_data"
    },
    {
     "name": "stdout",
     "output_type": "stream",
     "text": [
      "\n",
      "\n",
      "\n",
      "==================================================\n",
      "K value: 186\n",
      "==================================================\n",
      "[0]\tvalidation_0-logloss:0.51639\n",
      "[1]\tvalidation_0-logloss:0.40751\n",
      "[2]\tvalidation_0-logloss:0.34215\n",
      "[3]\tvalidation_0-logloss:0.30480\n",
      "[4]\tvalidation_0-logloss:0.26570\n",
      "[5]\tvalidation_0-logloss:0.23234\n",
      "[6]\tvalidation_0-logloss:0.20550\n",
      "[7]\tvalidation_0-logloss:0.17771\n",
      "[8]\tvalidation_0-logloss:0.15010\n",
      "[9]\tvalidation_0-logloss:0.12557\n",
      "[10]\tvalidation_0-logloss:0.10923\n",
      "[11]\tvalidation_0-logloss:0.09894\n",
      "[12]\tvalidation_0-logloss:0.08634\n",
      "[13]\tvalidation_0-logloss:0.07647\n",
      "[14]\tvalidation_0-logloss:0.06776\n",
      "[15]\tvalidation_0-logloss:0.05942\n",
      "[16]\tvalidation_0-logloss:0.05497\n",
      "[17]\tvalidation_0-logloss:0.04894\n",
      "[18]\tvalidation_0-logloss:0.04493\n",
      "[19]\tvalidation_0-logloss:0.04121\n",
      "[20]\tvalidation_0-logloss:0.03977\n",
      "[21]\tvalidation_0-logloss:0.03728\n",
      "[22]\tvalidation_0-logloss:0.03489\n",
      "[23]\tvalidation_0-logloss:0.03257\n",
      "[24]\tvalidation_0-logloss:0.03184\n",
      "[25]\tvalidation_0-logloss:0.03009\n",
      "[26]\tvalidation_0-logloss:0.02761\n",
      "[27]\tvalidation_0-logloss:0.02636\n",
      "[28]\tvalidation_0-logloss:0.02604\n",
      "[29]\tvalidation_0-logloss:0.02408\n",
      "[30]\tvalidation_0-logloss:0.02405\n",
      "[31]\tvalidation_0-logloss:0.02378\n",
      "[32]\tvalidation_0-logloss:0.02218\n",
      "[33]\tvalidation_0-logloss:0.02204\n",
      "[34]\tvalidation_0-logloss:0.02106\n",
      "[35]\tvalidation_0-logloss:0.02058\n",
      "[36]\tvalidation_0-logloss:0.02007\n",
      "[37]\tvalidation_0-logloss:0.01918\n",
      "[38]\tvalidation_0-logloss:0.01872\n",
      "[39]\tvalidation_0-logloss:0.01895\n",
      "[40]\tvalidation_0-logloss:0.01904\n",
      "[41]\tvalidation_0-logloss:0.01819\n",
      "[42]\tvalidation_0-logloss:0.01772\n",
      "[43]\tvalidation_0-logloss:0.01750\n",
      "[44]\tvalidation_0-logloss:0.01740\n",
      "[45]\tvalidation_0-logloss:0.01750\n",
      "[46]\tvalidation_0-logloss:0.01729\n",
      "[47]\tvalidation_0-logloss:0.01732\n",
      "[48]\tvalidation_0-logloss:0.01743\n",
      "[49]\tvalidation_0-logloss:0.01735\n",
      "[50]\tvalidation_0-logloss:0.01764\n",
      "[51]\tvalidation_0-logloss:0.01773\n",
      "[52]\tvalidation_0-logloss:0.01751\n",
      "[53]\tvalidation_0-logloss:0.01752\n",
      "[54]\tvalidation_0-logloss:0.01712\n",
      "[55]\tvalidation_0-logloss:0.01716\n",
      "[56]\tvalidation_0-logloss:0.01704\n",
      "[57]\tvalidation_0-logloss:0.01673\n",
      "[58]\tvalidation_0-logloss:0.01677\n",
      "[59]\tvalidation_0-logloss:0.01684\n",
      "[60]\tvalidation_0-logloss:0.01656\n",
      "[61]\tvalidation_0-logloss:0.01665\n",
      "[62]\tvalidation_0-logloss:0.01716\n",
      "[63]\tvalidation_0-logloss:0.01735\n",
      "[64]\tvalidation_0-logloss:0.01763\n",
      "[65]\tvalidation_0-logloss:0.01776\n",
      "[66]\tvalidation_0-logloss:0.01777\n",
      "[67]\tvalidation_0-logloss:0.01778\n",
      "[68]\tvalidation_0-logloss:0.01779\n",
      "[69]\tvalidation_0-logloss:0.01780\n",
      "[70]\tvalidation_0-logloss:0.01781\n",
      "[71]\tvalidation_0-logloss:0.01781\n",
      "[72]\tvalidation_0-logloss:0.01782\n",
      "[73]\tvalidation_0-logloss:0.01782\n",
      "[74]\tvalidation_0-logloss:0.01782\n",
      "[75]\tvalidation_0-logloss:0.01783\n",
      "[76]\tvalidation_0-logloss:0.01783\n",
      "[77]\tvalidation_0-logloss:0.01783\n",
      "[78]\tvalidation_0-logloss:0.01783\n",
      "[79]\tvalidation_0-logloss:0.01783\n",
      "[80]\tvalidation_0-logloss:0.01783\n",
      "[81]\tvalidation_0-logloss:0.01783\n",
      "[82]\tvalidation_0-logloss:0.01783\n",
      "[83]\tvalidation_0-logloss:0.01783\n",
      "[84]\tvalidation_0-logloss:0.01783\n",
      "[85]\tvalidation_0-logloss:0.01783\n",
      "[86]\tvalidation_0-logloss:0.01783\n",
      "[87]\tvalidation_0-logloss:0.01783\n",
      "[88]\tvalidation_0-logloss:0.01783\n",
      "[89]\tvalidation_0-logloss:0.01783\n",
      "[90]\tvalidation_0-logloss:0.01783\n",
      "[91]\tvalidation_0-logloss:0.01783\n",
      "[92]\tvalidation_0-logloss:0.01783\n",
      "[93]\tvalidation_0-logloss:0.01783\n",
      "[94]\tvalidation_0-logloss:0.01783\n",
      "[95]\tvalidation_0-logloss:0.01783\n",
      "[96]\tvalidation_0-logloss:0.01783\n",
      "[97]\tvalidation_0-logloss:0.01783\n",
      "[98]\tvalidation_0-logloss:0.01783\n",
      "[99]\tvalidation_0-logloss:0.01783\n",
      "Confusion matrix:\n",
      " [[4965    0]\n",
      " [   0 5035]]\n",
      "\n",
      "Report:\n",
      "               precision    recall  f1-score   support\n",
      "\n",
      "           0       1.00      1.00      1.00      4965\n",
      "           1       1.00      1.00      1.00      5035\n",
      "\n",
      "    accuracy                           1.00     10000\n",
      "   macro avg       1.00      1.00      1.00     10000\n",
      "weighted avg       1.00      1.00      1.00     10000\n",
      "\n",
      "train accuracy: 1.0\n"
     ]
    },
    {
     "data": {
      "image/png": "[encoded data removed]",
      "text/plain": [
       "<Figure size 432x288 with 1 Axes>"
      ]
     },
     "metadata": {
      "needs_background": "light"
     },
     "output_type": "display_data"
    },
    {
     "name": "stdout",
     "output_type": "stream",
     "text": [
      "Confusion matrix:\n",
      " [[5017    4]\n",
      " [  35 4944]]\n",
      "\n",
      "Report:\n",
      "               precision    recall  f1-score   support\n",
      "\n",
      "           0       0.99      1.00      1.00      5021\n",
      "           1       1.00      0.99      1.00      4979\n",
      "\n",
      "    accuracy                           1.00     10000\n",
      "   macro avg       1.00      1.00      1.00     10000\n",
      "weighted avg       1.00      1.00      1.00     10000\n",
      "\n",
      "val accuracy: 0.9961\n"
     ]
    },
    {
     "data": {
      "image/png": "[encoded data removed]",
      "text/plain": [
       "<Figure size 432x288 with 1 Axes>"
      ]
     },
     "metadata": {
      "needs_background": "light"
     },
     "output_type": "display_data"
    },
    {
     "name": "stdout",
     "output_type": "stream",
     "text": [
      "Confusion matrix:\n",
      " [[4992    0]\n",
      " [  36 4972]]\n",
      "\n",
      "Report:\n",
      "               precision    recall  f1-score   support\n",
      "\n",
      "           0       0.99      1.00      1.00      4992\n",
      "           1       1.00      0.99      1.00      5008\n",
      "\n",
      "    accuracy                           1.00     10000\n",
      "   macro avg       1.00      1.00      1.00     10000\n",
      "weighted avg       1.00      1.00      1.00     10000\n",
      "\n",
      "test accuracy: 0.9964\n"
     ]
    },
    {
     "data": {
      "image/png": "[encoded data removed]",
      "text/plain": [
       "<Figure size 432x288 with 1 Axes>"
      ]
     },
     "metadata": {
      "needs_background": "light"
     },
     "output_type": "display_data"
    },
    {
     "name": "stdout",
     "output_type": "stream",
     "text": [
      "\n",
      "\n",
      "\n"
     ]
    }
   ],
   "source": [
    "_ = try_model_on_top_k_peptides()"
   ]
  },
  {
   "cell_type": "markdown",
   "metadata": {},
   "source": [
    "### <font color='blue'>**Important peptides analysis**"
   ]
  },
  {
   "cell_type": "code",
   "execution_count": 71,
   "metadata": {},
   "outputs": [],
   "source": [
    "import matplotlib.pyplot as plt"
   ]
  },
  {
   "cell_type": "code",
   "execution_count": 55,
   "metadata": {},
   "outputs": [],
   "source": [
    "def get_patients_peptide_is_present_in(peptide_index):\n",
    "    present_patient_timepoints = peptidoforms_intensity_df.iloc[peptide_index, 32:].dropna().index\n",
    "    \n",
    "    patients = set()\n",
    "    for pt in present_patient_timepoints:\n",
    "        spltidx = pt.index(\".Timepoint_\")\n",
    "        patient_id = int(pt[:spltidx].replace(\"Patient_\", \"\"))\n",
    "        patients.add(patient_id)\n",
    "    \n",
    "    return patients"
   ]
  },
  {
   "cell_type": "code",
   "execution_count": 178,
   "metadata": {},
   "outputs": [],
   "source": [
    "def plot_binned_peptidoform_and_patient_counts(ft, bin_width=0.025):\n",
    "    # sorted_peptidoform_indices is sorted by ascending weights\n",
    "    sorted_peptidoform_indices = ft.argsort()\n",
    "    \n",
    "    bins = []\n",
    "    current_bins_first_peptidoform_weight = None\n",
    "    \n",
    "    for pep_idx in sorted_peptidoform_indices:\n",
    "        pep_weight = ft[pep_idx]\n",
    "                \n",
    "        # should we add this pep idx to the current bin, or to a new one?\n",
    "        if current_bins_first_peptidoform_weight is None or pep_weight - current_bins_first_peptidoform_weight  > bin_width:\n",
    "            # Add this pep idx to a new bin\n",
    "            new_bin = [pep_idx,]\n",
    "            bins.append(new_bin)\n",
    "            \n",
    "            current_bins_first_peptidoform_weight = pep_weight\n",
    "        else:\n",
    "            # Add this pep idx to the current, latest bin\n",
    "            bins[-1].append(pep_idx)\n",
    "    \n",
    "    num_patients_per_bin = []\n",
    "    num_peptides_per_bin = []\n",
    "    \n",
    "    for bin_peptide_indices in bins:\n",
    "        # bin_peptide_indices is the set of peptide indices in this bin\n",
    "        # get the total, unique set of patients spanned across all the peptides in this bin\n",
    "        \n",
    "        # using sets ensures that the patients stay de-duplicated across the peptides\n",
    "        all_patients_in_this_bin = set.union(*[get_patients_peptide_is_present_in(pep_idx) for pep_idx in bin_peptide_indices])\n",
    "        num_patients_per_bin.append(len(all_patients_in_this_bin))\n",
    "        num_peptides_per_bin.append(len(bin_peptide_indices))\n",
    "        \n",
    "    # this plot style adapted from: https://matplotlib.org/stable/gallery/subplots_axes_and_figures/two_scales.html\n",
    "    fig, ax1 = plt.subplots()\n",
    "\n",
    "    plt.title(\"Peptidoform & patient counts\")\n",
    "    ax1.set_xlabel('Peptidoform importance weight')\n",
    "    ax1.set_ylabel('Number of patients')\n",
    "    ax1.scatter([ft[b[0]] for b in bins], num_patients_per_bin)\n",
    "    ax1.tick_params(axis='y')\n",
    "    ax1.legend([\"# peptidoforms\"])\n",
    "\n",
    "    ax2 = ax1.twinx()\n",
    "\n",
    "    ax2.set_ylabel('Number of peptidoforms')  # we already handled the x-label with ax1\n",
    "    ax2.bar([ft[b[0]] for b in bins], num_peptides_per_bin, width=0.01, align=\"center\", fc=(0, 0, 1, 0.05))\n",
    "    ax2.tick_params(axis='y')\n",
    "    plt.ylim(top=100) # because there are thousands of peptides with low importance, this will improve the plot readability\n",
    "    \n",
    "    fig.tight_layout()\n",
    "    plt.show()"
   ]
  },
  {
   "cell_type": "code",
   "execution_count": 179,
   "metadata": {},
   "outputs": [
    {
     "data": {
      "image/png": "[encoded data removed]",
      "text/plain": [
       "<Figure size 432x288 with 2 Axes>"
      ]
     },
     "metadata": {
      "needs_background": "light"
     },
     "output_type": "display_data"
    }
   ],
   "source": [
    "plot_binned_peptidoform_and_patient_counts(ft, bin_width=0.01)"
   ]
  },
  {
   "cell_type": "code",
   "execution_count": 22,
   "metadata": {},
   "outputs": [
    {
     "data": {
      "text/plain": [
       "<AxesSubplot:>"
      ]
     },
     "execution_count": 22,
     "metadata": {},
     "output_type": "execute_result"
    },
    {
     "data": {
      "image/png": "[encoded data removed]",
      "text/plain": [
       "<Figure size 432x288 with 1 Axes>"
      ]
     },
     "metadata": {
      "needs_background": "light"
     },
     "output_type": "display_data"
    }
   ],
   "source": [
    "# x-axis is weight and y-axis is count\n",
    "# this shows that very, very few peptides have a significant weight (ie., > 0.035)\n",
    "pd.Series(ft[ft > 0]).hist()"
   ]
  },
  {
   "cell_type": "code",
   "execution_count": 129,
   "metadata": {},
   "outputs": [
    {
     "data": {
      "text/plain": [
       "186"
      ]
     },
     "execution_count": 129,
     "metadata": {},
     "output_type": "execute_result"
    }
   ],
   "source": [
    "# Because the first half of the features and the second half are semantically the same, \n",
    "# we have to % by the number of unique peptides (ie., the size of the first half of each combined feature vector)\n",
    "# to get the unique set of peptides that are deemed important\n",
    "important_peptide_indices = np.where(ft > 0)[0]\n",
    "len(important_peptide_indices)"
   ]
  },
  {
   "cell_type": "code",
   "execution_count": 131,
   "metadata": {},
   "outputs": [
    {
     "name": "stdout",
     "output_type": "stream",
     "text": [
      "Peptide 3074, weight: 0.22851140797138214\n",
      "33 patients have this peptide\n",
      "\n",
      "\n",
      "Peptide 1854, weight: 0.07314851880073547\n",
      "33 patients have this peptide\n",
      "\n",
      "\n",
      "Peptide 1549, weight: 0.06615254282951355\n",
      "39 patients have this peptide\n",
      "\n",
      "\n",
      "Peptide 1845, weight: 0.042998094111680984\n",
      "39 patients have this peptide\n",
      "\n",
      "\n",
      "Peptide 6518, weight: 0.04167253524065018\n",
      "16 patients have this peptide\n",
      "\n",
      "\n",
      "Peptide 3600, weight: 0.03468452766537666\n",
      "18 patients have this peptide\n",
      "\n",
      "\n",
      "Peptide 4682, weight: 0.029141593724489212\n",
      "24 patients have this peptide\n",
      "\n",
      "\n",
      "Peptide 2028, weight: 0.02787848562002182\n",
      "23 patients have this peptide\n",
      "\n",
      "\n",
      "Peptide 3143, weight: 0.023493491113185883\n",
      "31 patients have this peptide\n",
      "\n",
      "\n",
      "Peptide 3205, weight: 0.02179071493446827\n",
      "32 patients have this peptide\n",
      "\n",
      "\n"
     ]
    }
   ],
   "source": [
    "for peptide_index in top_k_peptidoform_indices:\n",
    "    print (f\"Peptide {peptide_index}, weight: {ft[peptide_index]}\")\n",
    "    print (f\"{len(get_patients_peptide_is_present_in(peptide_index))} patients have this peptide\")\n",
    "    print(\"\\n\")"
   ]
  },
  {
   "cell_type": "code",
   "execution_count": 140,
   "metadata": {},
   "outputs": [],
   "source": [
    "original_data_df = pd.read_csv(DATA_TSV_FILEPATH, sep=\"\\t\")\n",
    "assert original_data_df.shape[0] == peptidoforms_intensity_df.shape[0]"
   ]
  },
  {
   "cell_type": "code",
   "execution_count": 141,
   "metadata": {},
   "outputs": [],
   "source": [
    "original_data_df = original_data_df.iloc[important_peptide_indices]\n",
    "original_data_df['model_weight'] = ft[important_peptide_indices]"
   ]
  },
  {
   "cell_type": "code",
   "execution_count": 142,
   "metadata": {},
   "outputs": [],
   "source": [
    "original_data_df.to_csv(\"important_peptidoforms_selected_by_xgboost_all_columns.csv\", index=None)"
   ]
  },
  {
   "cell_type": "code",
   "execution_count": 143,
   "metadata": {},
   "outputs": [
    {
     "name": "stderr",
     "output_type": "stream",
     "text": [
      "/Users/subby/UCSD/CSE_291C/Projects/cse291c-plasma-weightloss/venv/lib/python3.7/site-packages/ipykernel_launcher.py:2: SettingWithCopyWarning: \n",
      "A value is trying to be set on a copy of a slice from a DataFrame.\n",
      "Try using .loc[row_indexer,col_indexer] = value instead\n",
      "\n",
      "See the caveats in the documentation: https://pandas.pydata.org/pandas-docs/stable/user_guide/indexing.html#returning-a-view-versus-a-copy\n",
      "  \n"
     ]
    }
   ],
   "source": [
    "export_peptidoforms_intensity_df = peptidoforms_intensity_df.iloc[important_peptide_indices]\n",
    "export_peptidoforms_intensity_df['model_weight'] = ft[important_peptide_indices]\n",
    "export_peptidoforms_intensity_df.to_csv(\"important_peptidoforms_selected_by_xgboost.csv\", index=None)"
   ]
  },
  {
   "cell_type": "markdown",
   "metadata": {},
   "source": [
    "## TODO: Any necessary code for Results section"
   ]
  },
  {
   "cell_type": "code",
   "execution_count": 152,
   "metadata": {},
   "outputs": [
    {
     "data": {
      "text/plain": [
       "[(3074, 0.22851141),\n",
       " (1854, 0.07314852),\n",
       " (1549, 0.06615254),\n",
       " (1845, 0.042998094),\n",
       " (6518, 0.041672535),\n",
       " (3600, 0.034684528),\n",
       " (4682, 0.029141594),\n",
       " (2028, 0.027878486),\n",
       " (3143, 0.023493491),\n",
       " (3205, 0.021790715),\n",
       " (2033, 0.020951884),\n",
       " (2541, 0.019307991),\n",
       " (1232, 0.01791606),\n",
       " (8440, 0.01783628),\n",
       " (2666, 0.017380735),\n",
       " (23746, 0.0145922825),\n",
       " (1174, 0.014109291),\n",
       " (4126, 0.013826251),\n",
       " (2097, 0.012858437),\n",
       " (3937, 0.012448698),\n",
       " (6566, 0.011071347),\n",
       " (2895, 0.010754213),\n",
       " (5372, 0.010683319),\n",
       " (340, 0.009568229),\n",
       " (1384, 0.009350699),\n",
       " (19296, 0.008959952),\n",
       " (1315, 0.008320592),\n",
       " (1701, 0.008162984),\n",
       " (810, 0.008066755),\n",
       " (6788, 0.007653236),\n",
       " (3449, 0.006913286),\n",
       " (5409, 0.0062752175),\n",
       " (1867, 0.006098008),\n",
       " (1694, 0.005788241),\n",
       " (778, 0.005706477),\n",
       " (4131, 0.0054975273),\n",
       " (2318, 0.0051626614),\n",
       " (1544, 0.004834093),\n",
       " (1091, 0.0047946908),\n",
       " (1961, 0.0041230186),\n",
       " (1783, 0.00374912),\n",
       " (3288, 0.0034803038),\n",
       " (3364, 0.0034768868),\n",
       " (3557, 0.0033953986),\n",
       " (9532, 0.0032854285),\n",
       " (2407, 0.0030750923),\n",
       " (3445, 0.00290091),\n",
       " (4018, 0.002805455),\n",
       " (1456, 0.0027073591),\n",
       " (4748, 0.0026749806),\n",
       " (1713, 0.0026690671),\n",
       " (608, 0.002390966),\n",
       " (801, 0.0023649435),\n",
       " (4617, 0.0023571702),\n",
       " (3856, 0.002267774),\n",
       " (184, 0.0022247625),\n",
       " (5475, 0.0022123873),\n",
       " (17932, 0.002147801),\n",
       " (3190, 0.0021401474),\n",
       " (1965, 0.0020762105),\n",
       " (2930, 0.002017691),\n",
       " (1816, 0.0018552007),\n",
       " (1688, 0.0017143844),\n",
       " (383, 0.0016041137),\n",
       " (9065, 0.0015624707),\n",
       " (3411, 0.0015556626),\n",
       " (5602, 0.0014434296),\n",
       " (689, 0.001355599),\n",
       " (1468, 0.0012987143),\n",
       " (1809, 0.0012892052),\n",
       " (1790, 0.0011977445),\n",
       " (3026, 0.0011475706),\n",
       " (1619, 0.0010684958),\n",
       " (6018, 0.0010256086),\n",
       " (27166, 0.0009488111),\n",
       " (2474, 0.0009311257),\n",
       " (2654, 0.000925618),\n",
       " (42, 0.00091040373),\n",
       " (2352, 0.000859043),\n",
       " (1932, 0.0008584132),\n",
       " (6460, 0.00085646927),\n",
       " (2758, 0.00082455005),\n",
       " (2519, 0.0008237542),\n",
       " (2271, 0.00077408814),\n",
       " (884, 0.00073761574),\n",
       " (2806, 0.00073484785),\n",
       " (1466, 0.00072580925),\n",
       " (681, 0.0007060072),\n",
       " (3134, 0.00069729623),\n",
       " (2945, 0.000672735),\n",
       " (1540, 0.0006674187),\n",
       " (1883, 0.00057492283),\n",
       " (2330, 0.0005525312),\n",
       " (1601, 0.00048798052),\n",
       " (5513, 0.00045391562),\n",
       " (2141, 0.00044550438),\n",
       " (2566, 0.000445025),\n",
       " (2367, 0.0004322307),\n",
       " (2701, 0.00042093947),\n",
       " (16757, 0.00041293015),\n",
       " (3790, 0.0004116518),\n",
       " (2651, 0.00040954805),\n",
       " (2175, 0.00040572596),\n",
       " (5691, 0.00040233947),\n",
       " (5711, 0.00038475008),\n",
       " (510, 0.00037506808),\n",
       " (3599, 0.00034509588),\n",
       " (3908, 0.00033874583),\n",
       " (1872, 0.0003349589),\n",
       " (2787, 0.00031887667),\n",
       " (932, 0.00030448785),\n",
       " (4812, 0.00029636873),\n",
       " (1592, 0.0002442192),\n",
       " (3264, 0.00024099903),\n",
       " (4662, 0.00021873131),\n",
       " (2785, 0.00020084639),\n",
       " (4636, 0.00019478066),\n",
       " (3684, 0.0001819483),\n",
       " (885, 0.00017979057),\n",
       " (2, 0.00017858064),\n",
       " (4369, 0.00015877193),\n",
       " (2583, 0.00013787183),\n",
       " (2111, 0.00013123536),\n",
       " (1404, 0.00011751353),\n",
       " (1616, 0.00011380053),\n",
       " (2530, 0.0001080921),\n",
       " (2913, 0.00010775318),\n",
       " (2763, 0.00010624565),\n",
       " (985, 0.00010236353),\n",
       " (2456, 9.745925e-05),\n",
       " (3119, 9.706239e-05),\n",
       " (2507, 9.4045645e-05),\n",
       " (2631, 8.4502084e-05),\n",
       " (2096, 8.429242e-05),\n",
       " (3324, 8.070568e-05),\n",
       " (1841, 7.528987e-05),\n",
       " (2464, 7.426444e-05),\n",
       " (2140, 7.1733986e-05),\n",
       " (1987, 6.4991335e-05),\n",
       " (1251, 6.0551534e-05),\n",
       " (5895, 5.8426904e-05),\n",
       " (3792, 5.739523e-05),\n",
       " (1173, 5.4066735e-05),\n",
       " (1966, 5.1904753e-05),\n",
       " (2516, 5.074685e-05),\n",
       " (4556, 5.062171e-05),\n",
       " (2699, 4.2545053e-05),\n",
       " (3541, 4.1246825e-05),\n",
       " (2710, 4.03357e-05),\n",
       " (1441, 4.0130093e-05),\n",
       " (3402, 3.741046e-05),\n",
       " (2561, 3.5758454e-05),\n",
       " (6774, 3.4410685e-05),\n",
       " (2734, 3.425092e-05),\n",
       " (1599, 3.0371908e-05),\n",
       " (5306, 2.982486e-05),\n",
       " (978, 2.8851577e-05),\n",
       " (4159, 2.7683938e-05),\n",
       " (4953, 2.5892245e-05),\n",
       " (1557, 2.2124374e-05),\n",
       " (560, 2.0925016e-05),\n",
       " (2139, 2.0433088e-05),\n",
       " (1241, 2.0384543e-05),\n",
       " (2187, 1.9283281e-05),\n",
       " (3549, 1.9187863e-05),\n",
       " (6453, 1.9182766e-05),\n",
       " (2366, 1.8121194e-05),\n",
       " (3274, 1.6775131e-05),\n",
       " (4083, 1.6259593e-05),\n",
       " (3400, 1.5894979e-05),\n",
       " (5501, 1.5183525e-05),\n",
       " (3179, 1.4538998e-05),\n",
       " (1449, 1.4440689e-05),\n",
       " (2217, 1.4145459e-05),\n",
       " (4434, 1.332277e-05),\n",
       " (3552, 1.3000521e-05),\n",
       " (1263, 1.2558166e-05),\n",
       " (2900, 1.1874244e-05),\n",
       " (1707, 1.18688195e-05),\n",
       " (770, 1.1746785e-05),\n",
       " (2259, 1.1097793e-05),\n",
       " (3630, 1.0015753e-05),\n",
       " (2348, 9.972224e-06),\n",
       " (3054, 9.776912e-06),\n",
       " (7999, 4.487612e-06),\n",
       " (1803, 3.0255444e-06)]"
      ]
     },
     "execution_count": 152,
     "metadata": {},
     "output_type": "execute_result"
    }
   ],
   "source": [
    "top_peptidoform_indices_and_weights = list(zip(important_peptide_indices, ft[important_peptide_indices]))\n",
    "sorted(top_peptidoform_indices_and_weights, key = lambda item: item[1], reverse=True)"
   ]
  }
 ],
 "metadata": {
  "accelerator": "GPU",
  "colab": {
   "collapsed_sections": [],
   "name": "Sasya (+PCA) - MLApproach.ipynb",
   "provenance": [
    {
     "file_id": "12_DObUJrtJgTxoDAO0EMkmFffF00QZW-",
     "timestamp": 1620702652816
    },
    {
     "file_id": "1pNQiIjpJYOh77_dYQqoLwb5AGJASHqv3",
     "timestamp": 1620595978554
    },
    {
     "file_id": "1U_LAchbfb3T_4N40qQcJfUUSbpgTS61r",
     "timestamp": 1620209098555
    },
    {
     "file_id": "1qLV4gTUNJVNYuCJvMbGLc5gXpeZk2EIm",
     "timestamp": 1620203669488
    }
   ]
  },
  "kernelspec": {
   "display_name": "Python 3",
   "language": "python",
   "name": "python3"
  },
  "language_info": {
   "codemirror_mode": {
    "name": "ipython",
    "version": 3
   },
   "file_extension": ".py",
   "mimetype": "text/x-python",
   "name": "python",
   "nbconvert_exporter": "python",
   "pygments_lexer": "ipython3",
   "version": "3.7.2"
  }
 },
 "nbformat": 4,
 "nbformat_minor": 4
}
